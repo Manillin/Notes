{
  "cells": [
    {
      "cell_type": "code",
      "execution_count": 1,
      "metadata": {
        "colab": {
          "base_uri": "https://localhost:8080/"
        },
        "id": "RPcXKgZjRsKd",
        "outputId": "653c2061-cc51-4982-d53b-1092d4578d4a"
      },
      "outputs": [
        {
          "name": "stdout",
          "output_type": "stream",
          "text": [
            "Requirement already satisfied: scipy in /Users/veronicaguidetti/miniforge3/envs/PACS/lib/python3.11/site-packages (1.11.1)\n",
            "Collecting scipy\n",
            "  Downloading scipy-1.15.2-cp311-cp311-macosx_14_0_arm64.whl (22.4 MB)\n",
            "\u001b[2K     \u001b[90m━━━━━━━━━━━━━━━━━━━━━━━━━━━━━━━━━━━━━━━━\u001b[0m \u001b[32m22.4/22.4 MB\u001b[0m \u001b[31m3.3 MB/s\u001b[0m eta \u001b[36m0:00:00\u001b[0m00:01\u001b[0m00:01\u001b[0m\n",
            "\u001b[?25hRequirement already satisfied: numpy<2.5,>=1.23.5 in /Users/veronicaguidetti/miniforge3/envs/PACS/lib/python3.11/site-packages (from scipy) (1.25.1)\n",
            "Installing collected packages: scipy\n",
            "  Attempting uninstall: scipy\n",
            "    Found existing installation: scipy 1.11.1\n",
            "    Uninstalling scipy-1.11.1:\n",
            "      Successfully uninstalled scipy-1.11.1\n",
            "Successfully installed scipy-1.15.2\n"
          ]
        }
      ],
      "source": [
        "!pip install --upgrade scipy"
      ]
    },
    {
      "cell_type": "markdown",
      "metadata": {
        "id": "P35xMkw5Vzwb"
      },
      "source": [
        "# EXPLORATORY DATA ANALYSIS 2"
      ]
    },
    {
      "cell_type": "markdown",
      "metadata": {
        "id": "dVbvLTxMnWIv"
      },
      "source": [
        "## Let's play with dissimilarity measures\n",
        "\n",
        "### Numerical attributes"
      ]
    },
    {
      "cell_type": "code",
      "execution_count": 39,
      "metadata": {
        "colab": {
          "base_uri": "https://localhost:8080/"
        },
        "id": "jlxsTjsZUk2w",
        "outputId": "c89a63dd-38d4-4416-f394-1bc08424da36"
      },
      "outputs": [
        {
          "name": "stdout",
          "output_type": "stream",
          "text": [
            "2.0\n",
            "1.4142135623730951\n",
            "1.148698354997035\n",
            "1\n",
            "1.0034717485095028\n"
          ]
        }
      ],
      "source": [
        "from scipy.spatial.distance import minkowski,euclidean,chebyshev\n",
        "\n",
        "#manhattan distance\n",
        "print(minkowski([1, 0, 0], [0, 1, 0],1))\n",
        "\n",
        "#euclidean distance\n",
        "print(euclidean([1, 0, 0], [0, 1, 0]))\n",
        "\n",
        "#5-minkowski distance\n",
        "print(minkowski([1, 0, 0], [0, 1, 0],5))\n",
        "\n",
        "#chebyshev distance\n",
        "print(chebyshev([1, 0, 0], [0, 1, 0]))\n",
        "print(minkowski([1, 0, 0], [0, 1, 0],200)) ## increasing the power we should get the same result as the chebyshev distance\n",
        "\n"
      ]
    },
    {
      "cell_type": "markdown",
      "metadata": {
        "id": "5yLIDWsGcT_c"
      },
      "source": [
        "### Nominal attibutes"
      ]
    },
    {
      "cell_type": "code",
      "execution_count": 40,
      "metadata": {
        "colab": {
          "base_uri": "https://localhost:8080/"
        },
        "id": "feUqgItzWBBC",
        "outputId": "5c2c89b0-7aba-43bc-ba6e-316711025375"
      },
      "outputs": [
        {
          "data": {
            "text/plain": [
              "0.3333333333333333"
            ]
          },
          "execution_count": 40,
          "metadata": {},
          "output_type": "execute_result"
        }
      ],
      "source": [
        "## nominal attributes\n",
        "def nominal_distance(x, y):\n",
        "    p = len(x)\n",
        "    m = sum(1 if a == b else 0 for a, b in zip(x, y))\n",
        "    return float(p - m) / p\n",
        "\n",
        "nominal_distance(['green','blue','yellow'], ['red', 'blue', 'yellow'])"
      ]
    },
    {
      "cell_type": "markdown",
      "metadata": {
        "id": "ieGIQPyTcbg5"
      },
      "source": [
        "### Binary attributes"
      ]
    },
    {
      "cell_type": "code",
      "execution_count": 41,
      "metadata": {
        "colab": {
          "base_uri": "https://localhost:8080/"
        },
        "id": "bdH5J6wdWgWD",
        "outputId": "6f52c998-338e-41da-f84a-86c0449af8db"
      },
      "outputs": [
        {
          "name": "stdout",
          "output_type": "stream",
          "text": [
            "0.2857142857142857\n",
            "0.5\n"
          ]
        }
      ],
      "source": [
        "v1=[1,0,1,0,0,1,0]\n",
        "v2=[1,0,1,0,0,0,1]\n",
        "\n",
        "import numpy as np\n",
        "def symmetric_binary_distance(arr1, arr2):\n",
        "    \"\"\"\n",
        "    Compute the symmetric binary distance between two binary arrays.\n",
        "\n",
        "    Parameters:\n",
        "        arr1 (array-like): The first binary array.\n",
        "        arr2 (array-like): The second binary array.\n",
        "\n",
        "    Returns:\n",
        "        float: The symmetric binary distance.\n",
        "    \"\"\"\n",
        "    # Compute the contingency table\n",
        "    ct = [[0, 0], [0, 0]]\n",
        "    for a, b in zip(arr1, arr2):\n",
        "        ct[a][b] += 1\n",
        "\n",
        "    # Compute the symmetric binary distance\n",
        "    numerator = ct[0][1] + ct[1][0]\n",
        "    denominator = sum(sum(row) for row in ct)\n",
        "    distance = numerator / denominator\n",
        "\n",
        "    return distance\n",
        "\n",
        "#symmetric binary distance\n",
        "print(symmetric_binary_distance(v1,v2))\n",
        "\n",
        "#asymmetric binary distance\n",
        "from scipy.spatial.distance import jaccard\n",
        "print(jaccard(v1,v2))"
      ]
    },
    {
      "cell_type": "markdown",
      "metadata": {
        "id": "ZwFBaYT9cf2E"
      },
      "source": [
        "### Ordinal attributes"
      ]
    },
    {
      "cell_type": "code",
      "execution_count": 42,
      "metadata": {
        "id": "mvElQi33crFJ"
      },
      "outputs": [],
      "source": [
        "import pandas as pd\n",
        "\n",
        "def ordinal_to_numeric(df, mappings):\n",
        "    \"\"\"\n",
        "    Convert ordinal string values in a DataFrame to numerical ordered values and rescale between 0 and 1 based on the number of different values in the mappings.\n",
        "\n",
        "    Parameters:\n",
        "        df (DataFrame): The pandas DataFrame containing ordinal string values.\n",
        "        mappings (dict): A dictionary where keys are column names and values are dictionaries mapping ordinal string values to numerical ordered values.\n",
        "\n",
        "    Returns:\n",
        "        DataFrame: A new DataFrame with ordinal string values replaced by rescaled numerical ordered values.\n",
        "    \"\"\"\n",
        "    # Create a copy of the DataFrame to avoid modifying the original DataFrame\n",
        "    df_copy = df.copy()\n",
        "\n",
        "    # Map ordinal string values to numerical ordered values for each column\n",
        "    for col, mapping in mappings.items():\n",
        "        if col in df_copy.columns:\n",
        "            df_copy[col] = pd.to_numeric(df_copy[col].map(mapping))\n",
        "            # Rescale the numerical values between 0 and 1\n",
        "            num_values = len(mapping)\n",
        "            df_copy[col] = df_copy[col] / (num_values - 1)  # Rescale between 0 and 1\n",
        "\n",
        "    return df_copy"
      ]
    },
    {
      "cell_type": "code",
      "execution_count": 43,
      "metadata": {
        "colab": {
          "base_uri": "https://localhost:8080/",
          "height": 204
        },
        "id": "RKp_PrMjW9OO",
        "outputId": "cd2dd780-a104-4cc9-ef5d-52bceebe401a"
      },
      "outputs": [
        {
          "data": {
            "text/html": [
              "<div>\n",
              "<style scoped>\n",
              "    .dataframe tbody tr th:only-of-type {\n",
              "        vertical-align: middle;\n",
              "    }\n",
              "\n",
              "    .dataframe tbody tr th {\n",
              "        vertical-align: top;\n",
              "    }\n",
              "\n",
              "    .dataframe thead th {\n",
              "        text-align: right;\n",
              "    }\n",
              "</style>\n",
              "<table border=\"1\" class=\"dataframe\">\n",
              "  <thead>\n",
              "    <tr style=\"text-align: right;\">\n",
              "      <th></th>\n",
              "      <th>Temperature</th>\n",
              "      <th>Humidity</th>\n",
              "      <th>Wind</th>\n",
              "    </tr>\n",
              "  </thead>\n",
              "  <tbody>\n",
              "    <tr>\n",
              "      <th>0</th>\n",
              "      <td>Low</td>\n",
              "      <td>Medium</td>\n",
              "      <td>Low</td>\n",
              "    </tr>\n",
              "    <tr>\n",
              "      <th>1</th>\n",
              "      <td>High</td>\n",
              "      <td>Low</td>\n",
              "      <td>Absent</td>\n",
              "    </tr>\n",
              "    <tr>\n",
              "      <th>2</th>\n",
              "      <td>Medium</td>\n",
              "      <td>High</td>\n",
              "      <td>Low</td>\n",
              "    </tr>\n",
              "    <tr>\n",
              "      <th>3</th>\n",
              "      <td>Low</td>\n",
              "      <td>Low</td>\n",
              "      <td>High</td>\n",
              "    </tr>\n",
              "    <tr>\n",
              "      <th>4</th>\n",
              "      <td>Medium</td>\n",
              "      <td>Medium</td>\n",
              "      <td>Medium</td>\n",
              "    </tr>\n",
              "  </tbody>\n",
              "</table>\n",
              "</div>"
            ],
            "text/plain": [
              "  Temperature Humidity    Wind\n",
              "0         Low   Medium     Low\n",
              "1        High      Low  Absent\n",
              "2      Medium     High     Low\n",
              "3         Low      Low    High\n",
              "4      Medium   Medium  Medium"
            ]
          },
          "execution_count": 43,
          "metadata": {},
          "output_type": "execute_result"
        }
      ],
      "source": [
        "data = {\n",
        "    'Temperature': ['Low', 'High', 'Medium', 'Low', 'Medium'],\n",
        "    'Humidity': ['Medium', 'Low', 'High', 'Low', 'Medium'],\n",
        "    'Wind': ['Low', 'Absent', 'Low', 'High', 'Medium']\n",
        "}\n",
        "\n",
        "# Create a DataFrame\n",
        "df = pd.DataFrame(data)\n",
        "\n",
        "# Display the DataFrame\n",
        "df\n"
      ]
    },
    {
      "cell_type": "code",
      "execution_count": 44,
      "metadata": {
        "colab": {
          "base_uri": "https://localhost:8080/",
          "height": 204
        },
        "id": "szYbpKa4czl-",
        "outputId": "ec66bb3c-d22c-4329-eac3-e8eb95de7c16"
      },
      "outputs": [
        {
          "data": {
            "text/html": [
              "<div>\n",
              "<style scoped>\n",
              "    .dataframe tbody tr th:only-of-type {\n",
              "        vertical-align: middle;\n",
              "    }\n",
              "\n",
              "    .dataframe tbody tr th {\n",
              "        vertical-align: top;\n",
              "    }\n",
              "\n",
              "    .dataframe thead th {\n",
              "        text-align: right;\n",
              "    }\n",
              "</style>\n",
              "<table border=\"1\" class=\"dataframe\">\n",
              "  <thead>\n",
              "    <tr style=\"text-align: right;\">\n",
              "      <th></th>\n",
              "      <th>Temperature</th>\n",
              "      <th>Humidity</th>\n",
              "      <th>Wind</th>\n",
              "    </tr>\n",
              "  </thead>\n",
              "  <tbody>\n",
              "    <tr>\n",
              "      <th>0</th>\n",
              "      <td>0.0</td>\n",
              "      <td>0.5</td>\n",
              "      <td>0.333333</td>\n",
              "    </tr>\n",
              "    <tr>\n",
              "      <th>1</th>\n",
              "      <td>1.0</td>\n",
              "      <td>0.0</td>\n",
              "      <td>0.000000</td>\n",
              "    </tr>\n",
              "    <tr>\n",
              "      <th>2</th>\n",
              "      <td>0.5</td>\n",
              "      <td>1.0</td>\n",
              "      <td>0.333333</td>\n",
              "    </tr>\n",
              "    <tr>\n",
              "      <th>3</th>\n",
              "      <td>0.0</td>\n",
              "      <td>0.0</td>\n",
              "      <td>1.000000</td>\n",
              "    </tr>\n",
              "    <tr>\n",
              "      <th>4</th>\n",
              "      <td>0.5</td>\n",
              "      <td>0.5</td>\n",
              "      <td>0.666667</td>\n",
              "    </tr>\n",
              "  </tbody>\n",
              "</table>\n",
              "</div>"
            ],
            "text/plain": [
              "   Temperature  Humidity      Wind\n",
              "0          0.0       0.5  0.333333\n",
              "1          1.0       0.0  0.000000\n",
              "2          0.5       1.0  0.333333\n",
              "3          0.0       0.0  1.000000\n",
              "4          0.5       0.5  0.666667"
            ]
          },
          "execution_count": 44,
          "metadata": {},
          "output_type": "execute_result"
        }
      ],
      "source": [
        "\n",
        "\n",
        "### Define the maps to be used in string to rank transition\n",
        "map_3={'Low':0,\n",
        "        'Medium':1,\n",
        "        'High':2}\n",
        "\n",
        "map_4={'Absent':0,\n",
        "        'Low':1,\n",
        "        'Medium':2,\n",
        "        'High':3}\n",
        "\n",
        "mappings = {'Temperature': map_3, 'Humidity': map_3, 'Wind': map_4}\n",
        "\n",
        "# Convert ordinal string values to numerical ordered values\n",
        "numeric_df = ordinal_to_numeric(df, mappings)\n",
        "\n",
        "# Display the DataFrame with numerical ordered values\n",
        "numeric_df"
      ]
    },
    {
      "cell_type": "code",
      "execution_count": 45,
      "metadata": {
        "colab": {
          "base_uri": "https://localhost:8080/"
        },
        "id": "onQaP2j8feAg",
        "outputId": "ebf81552-4415-42ce-fde8-9a3af8565256"
      },
      "outputs": [
        {
          "data": {
            "text/plain": [
              "0.8333333333333334"
            ]
          },
          "execution_count": 45,
          "metadata": {},
          "output_type": "execute_result"
        }
      ],
      "source": [
        "from scipy.spatial.distance import euclidean\n",
        "## to compute dissimilarity between, e.g., record 0 and 3, we can now\n",
        "## use the distance measures defined for purely numerical attributes\n",
        "euclidean(numeric_df.loc[0,:].values, numeric_df.loc[3,:].values)"
      ]
    },
    {
      "cell_type": "markdown",
      "metadata": {
        "id": "lqjhfUckAyI9"
      },
      "source": [
        "### Cosine distance"
      ]
    },
    {
      "cell_type": "code",
      "execution_count": 46,
      "metadata": {
        "colab": {
          "base_uri": "https://localhost:8080/"
        },
        "id": "0N7mp7KBAxRk",
        "outputId": "fb4f61d8-8337-4725-b297-35a0fdab5dd9"
      },
      "outputs": [
        {
          "name": "stdout",
          "output_type": "stream",
          "text": [
            "Cosine distance: 0.33333333333333337\n",
            "Cosine similarity: 0.6666666666666666\n"
          ]
        }
      ],
      "source": [
        "from scipy.spatial.distance import cosine\n",
        "\n",
        "v1=[1,0,1,0,0,1,0]\n",
        "v2=[1,0,1,0,0,0,1]\n",
        "\n",
        "print(f\"Cosine distance: {cosine(v1, v2)}\")\n",
        "print(f\"Cosine similarity: {1-cosine(v1, v2)}\")\n"
      ]
    },
    {
      "cell_type": "code",
      "execution_count": 47,
      "metadata": {
        "colab": {
          "base_uri": "https://localhost:8080/"
        },
        "id": "5n1vEy-9A79X",
        "outputId": "5ea2f1a3-5e59-4982-abc6-63435e416248"
      },
      "outputs": [
        {
          "data": {
            "text/plain": [
              "0.6666666666666666"
            ]
          },
          "execution_count": 47,
          "metadata": {},
          "output_type": "execute_result"
        }
      ],
      "source": [
        "# It is insensitive to multiplicative factors\n",
        "1-cosine(v1, 3*np.array(v2))"
      ]
    },
    {
      "cell_type": "code",
      "execution_count": 48,
      "metadata": {
        "colab": {
          "base_uri": "https://localhost:8080/"
        },
        "id": "U2UTjP7oA94e",
        "outputId": "5f33a34b-fd1b-45ba-f5c1-4d0deb891c93"
      },
      "outputs": [
        {
          "data": {
            "text/plain": [
              "1.0"
            ]
          },
          "execution_count": 48,
          "metadata": {},
          "output_type": "execute_result"
        }
      ],
      "source": [
        "# It is insensitive to multiplicative factors\n",
        "1-cosine(v1, 2*np.array(v1))"
      ]
    },
    {
      "cell_type": "markdown",
      "metadata": {
        "id": "1p4BnHK3D0tL"
      },
      "source": [
        "### KL-divergence"
      ]
    },
    {
      "cell_type": "code",
      "execution_count": 49,
      "metadata": {
        "colab": {
          "base_uri": "https://localhost:8080/"
        },
        "id": "HhvL3pwKBiC2",
        "outputId": "054c1335-c28a-4558-da2e-ff578739ac12"
      },
      "outputs": [
        {
          "name": "stdout",
          "output_type": "stream",
          "text": [
            "KL-divergence(box_1 || box_2): 0.057 \n",
            "KL-divergence(box_2 || box_1): 0.056 \n",
            "KL-divergence(box_1 || box_1): 0.000 \n",
            "KL-divergence(box_1 || box_3): inf \n",
            "KL-divergence(box_3 || box_1): 0.289 \n"
          ]
        }
      ],
      "source": [
        "# let us consider three boxes of candies and compute their\n",
        "# estimated distribution (relative frequency)\n",
        "# box =[P(green),P(blue),P(red),P(yellow)]\n",
        "box_1 = np.array([0.25, 0.33, 0.23, 0.19])\n",
        "box_2 = np.array([0.21, 0.21, 0.32, 0.26])\n",
        "box_3 = np.array([0.00, 0.42, 0.32, 0.26])\n",
        "\n",
        "\n",
        "import numpy as np\n",
        "from scipy.special import rel_entr\n",
        "\n",
        "\n",
        "print('KL-divergence(box_1 || box_2): %.3f ' % sum(rel_entr(box_1,box_2)))\n",
        "print('KL-divergence(box_2 || box_1): %.3f ' % sum(rel_entr(box_2,box_1)))\n",
        "print('KL-divergence(box_1 || box_1): %.3f ' % sum(rel_entr(box_1,box_1)))\n",
        "\n",
        "print('KL-divergence(box_1 || box_3): %.3f ' % sum(rel_entr(box_1,box_3)))\n",
        "print('KL-divergence(box_3 || box_1): %.3f ' % sum(rel_entr(box_3,box_1)))"
      ]
    },
    {
      "cell_type": "markdown",
      "metadata": {},
      "source": [
        "## Jensen-shannon divergence"
      ]
    },
    {
      "cell_type": "code",
      "execution_count": 50,
      "metadata": {},
      "outputs": [
        {
          "name": "stdout",
          "output_type": "stream",
          "text": [
            "JS-divergence(box_1 || box_2): 0.118 \n",
            "JS-divergence(box_2 || box_1): 0.118 \n",
            "JS-divergence(box_1 || box_1): 0.000 \n",
            "JS-divergence(box_1 || box_3): 0.309 \n",
            "JS-divergence(box_3 || box_1): 0.309 \n"
          ]
        }
      ],
      "source": [
        "# we consider the same setting but compute the Jansen-Shannon divergence between distributions\n",
        "\n",
        "from scipy.spatial import distance\n",
        "\n",
        "print('JS-divergence(box_1 || box_2): %.3f ' % distance.jensenshannon(box_1,box_2))\n",
        "print('JS-divergence(box_2 || box_1): %.3f ' % distance.jensenshannon(box_2,box_1))\n",
        "print('JS-divergence(box_1 || box_1): %.3f ' % distance.jensenshannon(box_1,box_1))\n",
        "\n",
        "print('JS-divergence(box_1 || box_3): %.3f ' % distance.jensenshannon(box_1,box_3))\n",
        "print('JS-divergence(box_3 || box_1): %.3f ' % distance.jensenshannon(box_3,box_1))"
      ]
    },
    {
      "cell_type": "markdown",
      "metadata": {
        "id": "mcITvuPnHF9K"
      },
      "source": [
        "## Wasserstein distance"
      ]
    },
    {
      "cell_type": "markdown",
      "metadata": {},
      "source": [
        "#### Discrete distributions"
      ]
    },
    {
      "cell_type": "code",
      "execution_count": 51,
      "metadata": {
        "colab": {
          "base_uri": "https://localhost:8080/"
        },
        "id": "2QVcZzHDLEQ8",
        "outputId": "90fa1499-4a85-430b-8e10-609f1761d4fb"
      },
      "outputs": [
        {
          "data": {
            "text/plain": [
              "0.5000000000000001"
            ]
          },
          "execution_count": 51,
          "metadata": {},
          "output_type": "execute_result"
        }
      ],
      "source": [
        "# suppose we have a discrete random variable can take values 1,2,3\n",
        "# and we have two discrete distributions\n",
        "p1=[0.1,0.3,0.6] #p1(1),p1(2),p1(3)\n",
        "p2=[0.4,0.2,0.4] #p2(1),p2(2),p2(3)\n",
        "# the wasserstein distance can be computed as\n",
        "\n",
        "from scipy.stats import wasserstein_distance\n",
        "wasserstein_distance(np.arange(3), np.arange(3), p1,p2)"
      ]
    },
    {
      "cell_type": "markdown",
      "metadata": {},
      "source": [
        "#### Continuous distributions"
      ]
    },
    {
      "cell_type": "code",
      "execution_count": 52,
      "metadata": {
        "colab": {
          "base_uri": "https://localhost:8080/",
          "height": 1000
        },
        "id": "qEnsY-KaEMUy",
        "outputId": "a20a1246-0ced-490a-b7a8-9b8eb4c32670"
      },
      "outputs": [
        {
          "name": "stderr",
          "output_type": "stream",
          "text": [
            "No artists with labels found to put in legend.  Note that artists whose label start with an underscore are ignored when legend() is called with no argument.\n"
          ]
        },
        {
          "data": {
            "image/png": "[encoded data removed]",
            "text/plain": [
              "<Figure size 800x600 with 1 Axes>"
            ]
          },
          "metadata": {},
          "output_type": "display_data"
        },
        {
          "data": {
            "image/png": "[encoded data removed]",
            "text/plain": [
              "<Figure size 800x600 with 1 Axes>"
            ]
          },
          "metadata": {},
          "output_type": "display_data"
        }
      ],
      "source": [
        "# for continuous distributions\n",
        "import numpy as np\n",
        "import matplotlib.pyplot as plt\n",
        "\n",
        "# Parameters of two normal distributions\n",
        "mean_p, std_p = 0, 1\n",
        "mean_q, std_q = 2, 1\n",
        "\n",
        "# Generate random samples from the two normal distributions\n",
        "samples_p = np.random.normal(mean_p, std_p, size=1000)\n",
        "samples_q = np.random.normal(mean_q, std_q, size=1000)\n",
        "\n",
        "# Determine the bin edges for the histograms\n",
        "bin_edges = np.linspace(min(samples_p.min(), samples_q.min()), max(samples_p.max(), samples_q.max()), num=20)\n",
        "\n",
        "mean_points = [(bin_edges[i] + bin_edges[i+1]) / 2 for i in range(len(bin_edges) - 1)]\n",
        "\n",
        "# Create histograms of the two distributions with the same binning\n",
        "hist_p, _ = np.histogram(samples_p, bins=bin_edges, density=True)\n",
        "hist_q, _ = np.histogram(samples_q, bins=bin_edges, density=True)\n",
        "\n",
        "delta_bin=np.diff(bin_edges)[0]\n",
        "# Compute cumulative histograms\n",
        "cumulative_hist_p = np.cumsum(hist_p)*delta_bin\n",
        "cumulative_hist_q = np.cumsum(hist_q)*delta_bin\n",
        "\n",
        "# Plot the histograms\n",
        "plt.figure(figsize=(8, 6))\n",
        "plt.hist(samples_p, bins=bin_edges, density=True)\n",
        "plt.hist(samples_q, bins=bin_edges, density=True)\n",
        "plt.xlabel('Value')\n",
        "plt.ylabel('Frequency')\n",
        "plt.title('Histograms of Two Gaussian Distributions')\n",
        "plt.legend()\n",
        "plt.grid(True)\n",
        "plt.show()\n",
        "\n",
        "# Plot the cumulative histograms\n",
        "plt.figure(figsize=(8, 6))\n",
        "plt.plot(bin_edges[1:], cumulative_hist_p, label='CDF P')\n",
        "plt.plot(bin_edges[1:], cumulative_hist_q, label='CDF Q')\n",
        "plt.xlabel('Value')\n",
        "plt.ylabel('Cumulative Frequency')\n",
        "plt.title('Cumulative Histograms of Two Gaussian Distributions')\n",
        "plt.legend()\n",
        "plt.grid(True)\n",
        "plt.show()"
      ]
    },
    {
      "cell_type": "code",
      "execution_count": 53,
      "metadata": {
        "colab": {
          "base_uri": "https://localhost:8080/"
        },
        "id": "Y2Fh3v_4HIjk",
        "outputId": "9c9e7629-ae2b-4ee1-b48b-94739f7e9480"
      },
      "outputs": [
        {
          "name": "stdout",
          "output_type": "stream",
          "text": [
            "1-Wasserstein Distance between the histograms: 2.0021059083634674\n"
          ]
        }
      ],
      "source": [
        "from scipy.stats import wasserstein_distance\n",
        "# Compute the 1-Wasserstein distance using bins mean points and normalized histogram values\n",
        "wasserstein_dist_from_prob_density = wasserstein_distance(mean_points, mean_points, hist_p, hist_q)\n",
        "\n",
        "print(\"1-Wasserstein Distance between the histograms:\", wasserstein_dist_from_prob_density)"
      ]
    },
    {
      "cell_type": "code",
      "execution_count": 54,
      "metadata": {
        "colab": {
          "base_uri": "https://localhost:8080/"
        },
        "id": "nRcI_XRaSzx0",
        "outputId": "f5db1507-88b7-448c-ab3b-5139d70cf7f7"
      },
      "outputs": [
        {
          "name": "stdout",
          "output_type": "stream",
          "text": [
            "1-Wasserstein Distance between samples: 2.0047746633991297\n"
          ]
        }
      ],
      "source": [
        "from scipy.stats import wasserstein_distance_nd\n",
        "# Compute the 1-Wasserstein distance using discrete samples\n",
        "wasserstein_dist_from_sample = wasserstein_distance_nd(samples_p, samples_q)\n",
        "wasserstein_dist_from_sample\n",
        "print(\"1-Wasserstein Distance between samples:\", wasserstein_dist_from_sample)"
      ]
    },
    {
      "cell_type": "code",
      "execution_count": 55,
      "metadata": {
        "colab": {
          "base_uri": "https://localhost:8080/"
        },
        "id": "4x-yM-vFUBDE",
        "outputId": "23920035-2703-4828-f4cb-02bfd1349c37"
      },
      "outputs": [
        {
          "name": "stdout",
          "output_type": "stream",
          "text": [
            "1-Wasserstein Distance from integral approximation: 2.0021059083634665\n"
          ]
        }
      ],
      "source": [
        "# Compute the 1-Wasserstein distance using the analitic definition of wasserstein distance in 1d\n",
        "# w is integral of the absolute dfference between the cumulate density funtions (CDF) of the two distributions.\n",
        "# consider using the rectangle approximation of the CDF provided by the cumulative histograms computed above.\n",
        "\n",
        "wasserstein_from_cumulative_histograms=np.sum(np.abs(cumulative_hist_p-cumulative_hist_q))*delta_bin\n",
        "print(\"1-Wasserstein Distance from integral approximation:\", wasserstein_from_cumulative_histograms)"
      ]
    },
    {
      "cell_type": "code",
      "execution_count": 56,
      "metadata": {
        "colab": {
          "base_uri": "https://localhost:8080/"
        },
        "id": "ONfZrXvEIkAn",
        "outputId": "b4b2fd4b-bd90-4584-a4c8-001cbdc1c761"
      },
      "outputs": [
        {
          "data": {
            "text/plain": [
              "(inf, inf)"
            ]
          },
          "execution_count": 56,
          "metadata": {},
          "output_type": "execute_result"
        }
      ],
      "source": [
        "# try to compute the same distance using KL divergence\n",
        "delta_bin*np.sum(rel_entr(hist_p, hist_q)), delta_bin*np.sum(rel_entr(hist_q,hist_p))"
      ]
    },
    {
      "cell_type": "markdown",
      "metadata": {
        "id": "JZyA_O5cR8Mg"
      },
      "source": [
        "# Excercise:\n",
        "define a function that is able to compute the similarity of records in a table having arbitrary attribute types (nominal,binary,ordinal,numeric)"
      ]
    },
    {
      "cell_type": "code",
      "execution_count": 57,
      "metadata": {
        "id": "4yOLAJ6rKF8c"
      },
      "outputs": [],
      "source": [
        "import numpy as np\n",
        "import pandas as pd\n",
        "from scipy.spatial.distance import euclidean\n",
        "from IPython.display import display\n",
        "\n",
        "def dissimilarity_matrix(df,dict_types):\n",
        "    '''\n",
        "    This function computes a dissimilarity matrix based on the input DataFrame df\n",
        "    containing records with attributes of various types. The dissimilarity matrix\n",
        "    quantifies the dissimilarity or distance between pairs of records in the DataFrame.\n",
        "\n",
        "    Inputs:\n",
        "    - df: DataFrame. Input DataFrame containing records with attributes of various types.\n",
        "    - dict_types: Dictionary. A dictionary specifying the types of attributes in\n",
        "                  the DataFrame columns. The keys represent column names, and the\n",
        "                  values represent the types of attributes. These types determine\n",
        "                  the distance function used to compute dissimilarity.\n",
        "                  The types can be one of the following:\n",
        "                  'NO': Nominal\n",
        "                  'NU': Numerical\n",
        "                  'SB': Symmetric Binary\n",
        "                  'AB': Asymmetric Binary\n",
        "    Returns:\n",
        "    - dissimilarity_matrix: DataFrame. The computed dissimilarity matrix represented\n",
        "                            as a DataFrame. The dissimilarity matrix provides pairwise\n",
        "                            dissimilarity values between records in the input DataFrame.\n",
        "                            The matrix is symmetric, where the element at row i and\n",
        "                            column j represents the dissimilarity between record i and record j.\n",
        "    '''\n",
        "\n",
        "    num_records = df.shape[0]\n",
        "    dissimilarity_matrix = np.zeros((num_records, num_records))\n",
        "\n",
        "    # Define distance functions for different attribute types\n",
        "    distance_functions = {\n",
        "        'NO': nominal_distance,\n",
        "        'NU': euclidean,\n",
        "        'SB': symmetric_binary_distance,\n",
        "        'AB': jaccard,\n",
        "    }\n",
        "\n",
        "\n",
        "    # Compute upper triangular part of dissimilarity matrix\n",
        "    for i in range(num_records):\n",
        "        print(f'Record {i}/{num_records}')\n",
        "\n",
        "        for j in range(i+1, num_records):\n",
        "            dissimilarity = 0\n",
        "            num_valid_elements = 0\n",
        "            for col in dict_types.keys():\n",
        "                if (pd.notna(df[col].iloc[i]) and pd.notna(df[col].iloc[j])):\n",
        "                    distance_func = distance_functions[dict_types[col]]\n",
        "                    dissimilarity += distance_func([df[col].iloc[i]], [df[col].iloc[j]])\n",
        "                    if dict_types[col]!='AB' or (df[col].iloc[i]==1 or df[col].iloc[j]==1):\n",
        "                        num_valid_elements += 1\n",
        "            if num_valid_elements > 0:\n",
        "                dissimilarity_matrix[i, j] = dissimilarity / num_valid_elements  # Take the mean dissimilarity\n",
        "            else:\n",
        "                dissimilarity_matrix[i, j] = np.nan\n",
        "\n",
        "    # Mirror upper triangular part to obtain complete symmetric matrix\n",
        "    dissimilarity_matrix += dissimilarity_matrix.T - np.diag(dissimilarity_matrix.diagonal())\n",
        "\n",
        "    return pd.DataFrame(dissimilarity_matrix, index=df.index, columns=df.index)"
      ]
    },
    {
      "cell_type": "code",
      "execution_count": 58,
      "metadata": {
        "id": "7ZB3ZLiB8ybI"
      },
      "outputs": [],
      "source": [
        "from joblib import Parallel, delayed\n",
        "import itertools\n",
        "def parallel_dissimilarity_matrix(df,dict_types):\n",
        "    '''\n",
        "    This function computes a dissimilarity matrix based on the input DataFrame df\n",
        "    containing records with attributes of various types. The dissimilarity matrix\n",
        "    quantifies the dissimilarity or distance between pairs of records in the DataFrame.\n",
        "\n",
        "    Inputs:\n",
        "    - df: DataFrame. Input DataFrame containing records with attributes of various types.\n",
        "    - dict_types: Dictionary. A dictionary specifying the types of attributes in\n",
        "                  the DataFrame columns. The keys represent column names, and the\n",
        "                  values represent the types of attributes. These types determine\n",
        "                  the distance function used to compute dissimilarity.\n",
        "                  The types can be one of the following:\n",
        "                  'NO': Nominal\n",
        "                  'NU': Numerical\n",
        "                  'SB': Symmetric Binary\n",
        "                  'AB': Asymmetric Binary\n",
        "    Returns:\n",
        "    - dissimilarity_matrix: DataFrame. The computed dissimilarity matrix represented\n",
        "                            as a DataFrame. The dissimilarity matrix provides pairwise\n",
        "                            dissimilarity values between records in the input DataFrame.\n",
        "                            The matrix is symmetric, where the element at row i and\n",
        "                            column j represents the dissimilarity between record i and record j.\n",
        "    '''\n",
        "\n",
        "    num_records = df.shape[0]\n",
        "    dissimilarity_matrix = np.zeros((num_records, num_records))\n",
        "\n",
        "    # Define distance functions for different attribute types\n",
        "    distance_functions = {\n",
        "        'NO': nominal_distance,\n",
        "        'NU': euclidean,\n",
        "        'SB': symmetric_binary_distance,\n",
        "        'AB': jaccard,\n",
        "    }\n",
        "\n",
        "    # Pre-extract data as arrays for faster indexing \n",
        "    data = {}\n",
        "    for col, _ in dict_types.items():\n",
        "        data[col] = df[col].values \n",
        "\n",
        "    def compute_dissimilarity(i, j):\n",
        "        dissimilarity = 0.0\n",
        "        num_valid_elements = 0\n",
        "        for col, coltype in dict_types.items():\n",
        "            val_i = data[col][i]\n",
        "            val_j = data[col][j]\n",
        "            # Check NaN\n",
        "            if pd.notna(val_i) and pd.notna(val_j):\n",
        "                distance_func = distance_functions[coltype]\n",
        "                dissimilarity += distance_func([val_i], [val_j])\n",
        "                \n",
        "                # For AB, only count if at least one of them is 1\n",
        "                if not (coltype == 'AB' and (val_i == 0 and val_j == 0)):\n",
        "                    num_valid_elements += 1\n",
        "\n",
        "        # Average out the dissimilarities for valid elements only\n",
        "        if num_valid_elements > 0:\n",
        "            return dissimilarity / num_valid_elements\n",
        "        else:\n",
        "            return np.nan\n",
        "\n",
        "    # Create all i<j pairs\n",
        "    upper_tri_pairs = [(i, j) for i in range(num_records - 1) \n",
        "                                 for j in range(i + 1, num_records)]\n",
        "\n",
        "    # Compute in parallel\n",
        "    results = Parallel(n_jobs=-1)(\n",
        "        delayed(compute_dissimilarity)(i, j) for (i, j) in upper_tri_pairs\n",
        "    )\n",
        "\n",
        "    # Fill the matrix symmetrically\n",
        "    for (i, j), val in zip(upper_tri_pairs, results):\n",
        "        dissimilarity_matrix[i, j] = val\n",
        "        dissimilarity_matrix[j, i] = val\n",
        "\n",
        "    # Set the diagonal to zero (if you want it explicitly)\n",
        "    np.fill_diagonal(dissimilarity_matrix, 0.0)\n",
        "\n",
        "\n",
        "    return pd.DataFrame(dissimilarity_matrix, index=df.index, columns=df.index)\n"
      ]
    },
    {
      "cell_type": "markdown",
      "metadata": {
        "id": "WeLztDZYxjm9"
      },
      "source": [
        "## Load Titanic dataset"
      ]
    },
    {
      "cell_type": "code",
      "execution_count": null,
      "metadata": {
        "colab": {
          "base_uri": "https://localhost:8080/"
        },
        "id": "6DMKAQ1XxbN3",
        "outputId": "a2b0179e-2b91-4f1e-e882-cc61dc81f269"
      },
      "outputs": [],
      "source": [
        "from google.colab import drive\n",
        "drive.mount('/content/drive')\n",
        "\n",
        "import os\n",
        "os.chdir('/content/drive/path') ###change path\n"
      ]
    },
    {
      "cell_type": "code",
      "execution_count": 59,
      "metadata": {
        "colab": {
          "base_uri": "https://localhost:8080/",
          "height": 669
        },
        "id": "fdkUb4tQym55",
        "outputId": "49a0e6ad-285d-4ebb-fadc-bb1712696d04"
      },
      "outputs": [
        {
          "data": {
            "text/html": [
              "<div>\n",
              "<style scoped>\n",
              "    .dataframe tbody tr th:only-of-type {\n",
              "        vertical-align: middle;\n",
              "    }\n",
              "\n",
              "    .dataframe tbody tr th {\n",
              "        vertical-align: top;\n",
              "    }\n",
              "\n",
              "    .dataframe thead th {\n",
              "        text-align: right;\n",
              "    }\n",
              "</style>\n",
              "<table border=\"1\" class=\"dataframe\">\n",
              "  <thead>\n",
              "    <tr style=\"text-align: right;\">\n",
              "      <th></th>\n",
              "      <th>Survived</th>\n",
              "      <th>Pclass</th>\n",
              "      <th>Sex</th>\n",
              "      <th>Age_Group</th>\n",
              "      <th>SibSp</th>\n",
              "      <th>Parch</th>\n",
              "      <th>Fare</th>\n",
              "      <th>Embarked</th>\n",
              "    </tr>\n",
              "  </thead>\n",
              "  <tbody>\n",
              "    <tr>\n",
              "      <th>0</th>\n",
              "      <td>0</td>\n",
              "      <td>3</td>\n",
              "      <td>male</td>\n",
              "      <td>Young</td>\n",
              "      <td>1</td>\n",
              "      <td>0</td>\n",
              "      <td>7.2500</td>\n",
              "      <td>S</td>\n",
              "    </tr>\n",
              "    <tr>\n",
              "      <th>1</th>\n",
              "      <td>1</td>\n",
              "      <td>1</td>\n",
              "      <td>female</td>\n",
              "      <td>Middle</td>\n",
              "      <td>1</td>\n",
              "      <td>0</td>\n",
              "      <td>71.2833</td>\n",
              "      <td>C</td>\n",
              "    </tr>\n",
              "    <tr>\n",
              "      <th>2</th>\n",
              "      <td>1</td>\n",
              "      <td>3</td>\n",
              "      <td>female</td>\n",
              "      <td>Middle</td>\n",
              "      <td>0</td>\n",
              "      <td>0</td>\n",
              "      <td>7.9250</td>\n",
              "      <td>S</td>\n",
              "    </tr>\n",
              "    <tr>\n",
              "      <th>3</th>\n",
              "      <td>1</td>\n",
              "      <td>1</td>\n",
              "      <td>female</td>\n",
              "      <td>Middle</td>\n",
              "      <td>1</td>\n",
              "      <td>0</td>\n",
              "      <td>53.1000</td>\n",
              "      <td>S</td>\n",
              "    </tr>\n",
              "    <tr>\n",
              "      <th>4</th>\n",
              "      <td>0</td>\n",
              "      <td>3</td>\n",
              "      <td>male</td>\n",
              "      <td>Middle</td>\n",
              "      <td>0</td>\n",
              "      <td>0</td>\n",
              "      <td>8.0500</td>\n",
              "      <td>S</td>\n",
              "    </tr>\n",
              "    <tr>\n",
              "      <th>5</th>\n",
              "      <td>0</td>\n",
              "      <td>3</td>\n",
              "      <td>male</td>\n",
              "      <td>NaN</td>\n",
              "      <td>0</td>\n",
              "      <td>0</td>\n",
              "      <td>8.4583</td>\n",
              "      <td>Q</td>\n",
              "    </tr>\n",
              "    <tr>\n",
              "      <th>6</th>\n",
              "      <td>0</td>\n",
              "      <td>1</td>\n",
              "      <td>male</td>\n",
              "      <td>Seniors</td>\n",
              "      <td>0</td>\n",
              "      <td>0</td>\n",
              "      <td>51.8625</td>\n",
              "      <td>S</td>\n",
              "    </tr>\n",
              "    <tr>\n",
              "      <th>7</th>\n",
              "      <td>0</td>\n",
              "      <td>3</td>\n",
              "      <td>male</td>\n",
              "      <td>Children</td>\n",
              "      <td>3</td>\n",
              "      <td>1</td>\n",
              "      <td>21.0750</td>\n",
              "      <td>S</td>\n",
              "    </tr>\n",
              "    <tr>\n",
              "      <th>8</th>\n",
              "      <td>1</td>\n",
              "      <td>3</td>\n",
              "      <td>female</td>\n",
              "      <td>Middle</td>\n",
              "      <td>0</td>\n",
              "      <td>2</td>\n",
              "      <td>11.1333</td>\n",
              "      <td>S</td>\n",
              "    </tr>\n",
              "    <tr>\n",
              "      <th>9</th>\n",
              "      <td>1</td>\n",
              "      <td>2</td>\n",
              "      <td>female</td>\n",
              "      <td>Young</td>\n",
              "      <td>1</td>\n",
              "      <td>0</td>\n",
              "      <td>30.0708</td>\n",
              "      <td>C</td>\n",
              "    </tr>\n",
              "    <tr>\n",
              "      <th>10</th>\n",
              "      <td>1</td>\n",
              "      <td>3</td>\n",
              "      <td>female</td>\n",
              "      <td>Children</td>\n",
              "      <td>1</td>\n",
              "      <td>1</td>\n",
              "      <td>16.7000</td>\n",
              "      <td>S</td>\n",
              "    </tr>\n",
              "    <tr>\n",
              "      <th>11</th>\n",
              "      <td>1</td>\n",
              "      <td>1</td>\n",
              "      <td>female</td>\n",
              "      <td>Seniors</td>\n",
              "      <td>0</td>\n",
              "      <td>0</td>\n",
              "      <td>26.5500</td>\n",
              "      <td>S</td>\n",
              "    </tr>\n",
              "    <tr>\n",
              "      <th>12</th>\n",
              "      <td>0</td>\n",
              "      <td>3</td>\n",
              "      <td>male</td>\n",
              "      <td>Young</td>\n",
              "      <td>0</td>\n",
              "      <td>0</td>\n",
              "      <td>8.0500</td>\n",
              "      <td>S</td>\n",
              "    </tr>\n",
              "    <tr>\n",
              "      <th>13</th>\n",
              "      <td>0</td>\n",
              "      <td>3</td>\n",
              "      <td>male</td>\n",
              "      <td>Middle</td>\n",
              "      <td>1</td>\n",
              "      <td>5</td>\n",
              "      <td>31.2750</td>\n",
              "      <td>S</td>\n",
              "    </tr>\n",
              "    <tr>\n",
              "      <th>14</th>\n",
              "      <td>0</td>\n",
              "      <td>3</td>\n",
              "      <td>female</td>\n",
              "      <td>Young</td>\n",
              "      <td>0</td>\n",
              "      <td>0</td>\n",
              "      <td>7.8542</td>\n",
              "      <td>S</td>\n",
              "    </tr>\n",
              "    <tr>\n",
              "      <th>15</th>\n",
              "      <td>1</td>\n",
              "      <td>2</td>\n",
              "      <td>female</td>\n",
              "      <td>Seniors</td>\n",
              "      <td>0</td>\n",
              "      <td>0</td>\n",
              "      <td>16.0000</td>\n",
              "      <td>S</td>\n",
              "    </tr>\n",
              "    <tr>\n",
              "      <th>16</th>\n",
              "      <td>0</td>\n",
              "      <td>3</td>\n",
              "      <td>male</td>\n",
              "      <td>Children</td>\n",
              "      <td>4</td>\n",
              "      <td>1</td>\n",
              "      <td>29.1250</td>\n",
              "      <td>Q</td>\n",
              "    </tr>\n",
              "    <tr>\n",
              "      <th>17</th>\n",
              "      <td>1</td>\n",
              "      <td>2</td>\n",
              "      <td>male</td>\n",
              "      <td>NaN</td>\n",
              "      <td>0</td>\n",
              "      <td>0</td>\n",
              "      <td>13.0000</td>\n",
              "      <td>S</td>\n",
              "    </tr>\n",
              "    <tr>\n",
              "      <th>18</th>\n",
              "      <td>0</td>\n",
              "      <td>3</td>\n",
              "      <td>female</td>\n",
              "      <td>Middle</td>\n",
              "      <td>1</td>\n",
              "      <td>0</td>\n",
              "      <td>18.0000</td>\n",
              "      <td>S</td>\n",
              "    </tr>\n",
              "    <tr>\n",
              "      <th>19</th>\n",
              "      <td>1</td>\n",
              "      <td>3</td>\n",
              "      <td>female</td>\n",
              "      <td>NaN</td>\n",
              "      <td>0</td>\n",
              "      <td>0</td>\n",
              "      <td>7.2250</td>\n",
              "      <td>C</td>\n",
              "    </tr>\n",
              "  </tbody>\n",
              "</table>\n",
              "</div>"
            ],
            "text/plain": [
              "    Survived  Pclass     Sex Age_Group  SibSp  Parch     Fare Embarked\n",
              "0          0       3    male     Young      1      0   7.2500        S\n",
              "1          1       1  female    Middle      1      0  71.2833        C\n",
              "2          1       3  female    Middle      0      0   7.9250        S\n",
              "3          1       1  female    Middle      1      0  53.1000        S\n",
              "4          0       3    male    Middle      0      0   8.0500        S\n",
              "5          0       3    male       NaN      0      0   8.4583        Q\n",
              "6          0       1    male   Seniors      0      0  51.8625        S\n",
              "7          0       3    male  Children      3      1  21.0750        S\n",
              "8          1       3  female    Middle      0      2  11.1333        S\n",
              "9          1       2  female     Young      1      0  30.0708        C\n",
              "10         1       3  female  Children      1      1  16.7000        S\n",
              "11         1       1  female   Seniors      0      0  26.5500        S\n",
              "12         0       3    male     Young      0      0   8.0500        S\n",
              "13         0       3    male    Middle      1      5  31.2750        S\n",
              "14         0       3  female     Young      0      0   7.8542        S\n",
              "15         1       2  female   Seniors      0      0  16.0000        S\n",
              "16         0       3    male  Children      4      1  29.1250        Q\n",
              "17         1       2    male       NaN      0      0  13.0000        S\n",
              "18         0       3  female    Middle      1      0  18.0000        S\n",
              "19         1       3  female       NaN      0      0   7.2250        C"
            ]
          },
          "execution_count": 59,
          "metadata": {},
          "output_type": "execute_result"
        }
      ],
      "source": [
        "df=pd.read_csv('train.csv') ##change path\n",
        "# Define bins and labels for age groups\n",
        "bins = [0, 14, 24, 54, float('inf')]\n",
        "labels = ['Children', 'Young', 'Middle', 'Seniors']\n",
        "\n",
        "# Add a new column 'Age_Group' containing ordinal categories\n",
        "df['Age_Group'] = pd.cut(df['Age'], bins=bins, labels=labels, right=False)\n",
        "\n",
        "\n",
        "features_to_consider=['Survived',\t'Pclass', 'Sex',\t'Age_Group',\t'SibSp',\t'Parch', 'Fare', 'Embarked']\n",
        "df=df[features_to_consider]\n",
        "df.head(20)"
      ]
    },
    {
      "cell_type": "markdown",
      "metadata": {
        "id": "gnHcpUOrT43O"
      },
      "source": [
        "### Excercise\n",
        "* prepare data to compute similarity between different records\n",
        "* compute dissimilarity matrix considering the first 100 records\n",
        "* find the 10 records more similar to the first two passengers (index=0, index=1)\n",
        "* compute the distance between the distributions of ticket fares in the Male and Female population. "
      ]
    }
  ],
  "metadata": {
    "colab": {
      "provenance": []
    },
    "kernelspec": {
      "display_name": "PACS",
      "language": "python",
      "name": "python3"
    },
    "language_info": {
      "codemirror_mode": {
        "name": "ipython",
        "version": 3
      },
      "file_extension": ".py",
      "mimetype": "text/x-python",
      "name": "python",
      "nbconvert_exporter": "python",
      "pygments_lexer": "ipython3",
      "version": "3.11.4"
    }
  },
  "nbformat": 4,
  "nbformat_minor": 0
}
