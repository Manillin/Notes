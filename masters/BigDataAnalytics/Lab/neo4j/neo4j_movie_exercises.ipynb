{
 "cells": [
  {
   "cell_type": "markdown",
   "id": "39e8756d",
   "metadata": {},
   "source": [
    "# Neo4j Movie Database - Cypher Query Exercises\n",
    "\n",
    "This notebook contains a set of exercises for practicing Cypher queries on the Neo4j **\"movie\"** database.\n",
    "\n",
    "## **Prerequisites**\n",
    "Before running the notebook, ensure you have:\n",
    "- A running instance of **Neo4j** (local or cloud-based).\n",
    "- Downloaded the latest dump available at https://github.com/neo4j-graph-examples/movies/tree/main/data.\n",
    "- Uploaded the dump to your Neo4j project \n",
    "- Imported the dump into the **\"movie\"** example database.\n",
    "\n",
    "## **Connecting to Neo4j**\n",
    "Make sure you update the **URI, USERNAME, and PASSWORD** in the code below.\n"
   ]
  },
  {
   "cell_type": "code",
   "execution_count": 11,
   "id": "3bbbfe14",
   "metadata": {},
   "outputs": [
    {
     "name": "stdout",
     "output_type": "stream",
     "text": [
      "Connection successful. Database contains:\n",
      "    label  count\n",
      "0   Movie     38\n",
      "1  Person    133\n"
     ]
    }
   ],
   "source": [
    "from neo4j import GraphDatabase\n",
    "import pandas as pd\n",
    "import matplotlib.pyplot as plt\n",
    "import networkx as nx\n",
    "from collections import Counter\n",
    "import seaborn as sns\n",
    "\n",
    "# Connection details (update credentials accordingly)\n",
    "URI = \"bolt://localhost:7687\"\n",
    "USERNAME = \"neo4j\"\n",
    "PASSWORD = \"password\"\n",
    "\n",
    "# Connect to the \"movie\" database\n",
    "driver = GraphDatabase.driver(URI, auth=(USERNAME, PASSWORD), database=\"movies-50\")\n",
    "\n",
    "def run_query(query, params=None):\n",
    "    \"\"\"Execute a Cypher query and return the results as a DataFrame.\"\"\"\n",
    "    with driver.session() as session:\n",
    "        result = session.run(query, params)\n",
    "        return pd.DataFrame([dict(record) for record in result])\n",
    "\n",
    "# Test connection\n",
    "print(\"Connection successful. Database contains:\")\n",
    "print(run_query(\"MATCH (n) RETURN labels(n)[0] AS label, COUNT(*) AS count\"))"
   ]
  },
  {
   "cell_type": "markdown",
   "id": "aa92598d",
   "metadata": {},
   "source": [
    "# **Movie Statistics with Visualization**\n",
    "\n",
    "### Retrieve all movies with additional metadata and visualize the distribution by year.\n"
   ]
  },
  {
   "cell_type": "code",
   "execution_count": 35,
   "id": "ec06dd05",
   "metadata": {},
   "outputs": [
    {
     "data": {
      "text/html": [
       "<div>\n",
       "<style scoped>\n",
       "    .dataframe tbody tr th:only-of-type {\n",
       "        vertical-align: middle;\n",
       "    }\n",
       "\n",
       "    .dataframe tbody tr th {\n",
       "        vertical-align: top;\n",
       "    }\n",
       "\n",
       "    .dataframe thead th {\n",
       "        text-align: right;\n",
       "    }\n",
       "</style>\n",
       "<table border=\"1\" class=\"dataframe\">\n",
       "  <thead>\n",
       "    <tr style=\"text-align: right;\">\n",
       "      <th></th>\n",
       "      <th>m.title</th>\n",
       "      <th>m.released</th>\n",
       "    </tr>\n",
       "  </thead>\n",
       "  <tbody>\n",
       "    <tr>\n",
       "      <th>0</th>\n",
       "      <td>Cloud Atlas</td>\n",
       "      <td>2012</td>\n",
       "    </tr>\n",
       "    <tr>\n",
       "      <th>1</th>\n",
       "      <td>Ninja Assassin</td>\n",
       "      <td>2009</td>\n",
       "    </tr>\n",
       "    <tr>\n",
       "      <th>2</th>\n",
       "      <td>Speed Racer</td>\n",
       "      <td>2008</td>\n",
       "    </tr>\n",
       "    <tr>\n",
       "      <th>3</th>\n",
       "      <td>Frost/Nixon</td>\n",
       "      <td>2008</td>\n",
       "    </tr>\n",
       "    <tr>\n",
       "      <th>4</th>\n",
       "      <td>Charlie Wilson's War</td>\n",
       "      <td>2007</td>\n",
       "    </tr>\n",
       "  </tbody>\n",
       "</table>\n",
       "</div>"
      ],
      "text/plain": [
       "                m.title  m.released\n",
       "0           Cloud Atlas        2012\n",
       "1        Ninja Assassin        2009\n",
       "2           Speed Racer        2008\n",
       "3           Frost/Nixon        2008\n",
       "4  Charlie Wilson's War        2007"
      ]
     },
     "execution_count": 35,
     "metadata": {},
     "output_type": "execute_result"
    }
   ],
   "source": [
    "movies_query = \"\"\"\n",
    "MATCH (m:Movie)\n",
    "RETURN m.title, m.released\n",
    "ORDER BY m.released DESC\n",
    "\"\"\"\n",
    "movies_df = run_query(movies_query)\n",
    "movies_df.head()"
   ]
  },
  {
   "cell_type": "markdown",
   "id": "c171325c",
   "metadata": {},
   "source": [
    "### Top 5 years with most movies"
   ]
  },
  {
   "cell_type": "code",
   "execution_count": 32,
   "id": "2e525a13",
   "metadata": {},
   "outputs": [
    {
     "data": {
      "text/html": [
       "<div>\n",
       "<style scoped>\n",
       "    .dataframe tbody tr th:only-of-type {\n",
       "        vertical-align: middle;\n",
       "    }\n",
       "\n",
       "    .dataframe tbody tr th {\n",
       "        vertical-align: top;\n",
       "    }\n",
       "\n",
       "    .dataframe thead th {\n",
       "        text-align: right;\n",
       "    }\n",
       "</style>\n",
       "<table border=\"1\" class=\"dataframe\">\n",
       "  <thead>\n",
       "    <tr style=\"text-align: right;\">\n",
       "      <th></th>\n",
       "      <th>year</th>\n",
       "      <th>movie_count</th>\n",
       "    </tr>\n",
       "  </thead>\n",
       "  <tbody>\n",
       "    <tr>\n",
       "      <th>0</th>\n",
       "      <td>1999</td>\n",
       "      <td>4</td>\n",
       "    </tr>\n",
       "    <tr>\n",
       "      <th>1</th>\n",
       "      <td>1992</td>\n",
       "      <td>4</td>\n",
       "    </tr>\n",
       "    <tr>\n",
       "      <th>2</th>\n",
       "      <td>2000</td>\n",
       "      <td>3</td>\n",
       "    </tr>\n",
       "    <tr>\n",
       "      <th>3</th>\n",
       "      <td>2003</td>\n",
       "      <td>3</td>\n",
       "    </tr>\n",
       "    <tr>\n",
       "      <th>4</th>\n",
       "      <td>1998</td>\n",
       "      <td>3</td>\n",
       "    </tr>\n",
       "  </tbody>\n",
       "</table>\n",
       "</div>"
      ],
      "text/plain": [
       "   year  movie_count\n",
       "0  1999            4\n",
       "1  1992            4\n",
       "2  2000            3\n",
       "3  2003            3\n",
       "4  1998            3"
      ]
     },
     "execution_count": 32,
     "metadata": {},
     "output_type": "execute_result"
    }
   ],
   "source": [
    "query = '''\n",
    "MATCH (m:Movie)\n",
    "RETURN m.released as year, COUNT(*) as movie_count\n",
    "ORDER BY movie_count DESC\n",
    "LIMIT 5\n",
    "'''\n",
    "\n",
    "movies_df = run_query(query)\n",
    "movies_df.head()"
   ]
  },
  {
   "cell_type": "code",
   "execution_count": 38,
   "id": "713e473c",
   "metadata": {},
   "outputs": [
    {
     "data": {
      "text/html": [
       "<div>\n",
       "<style scoped>\n",
       "    .dataframe tbody tr th:only-of-type {\n",
       "        vertical-align: middle;\n",
       "    }\n",
       "\n",
       "    .dataframe tbody tr th {\n",
       "        vertical-align: top;\n",
       "    }\n",
       "\n",
       "    .dataframe thead th {\n",
       "        text-align: right;\n",
       "    }\n",
       "</style>\n",
       "<table border=\"1\" class=\"dataframe\">\n",
       "  <thead>\n",
       "    <tr style=\"text-align: right;\">\n",
       "      <th></th>\n",
       "      <th>m</th>\n",
       "    </tr>\n",
       "  </thead>\n",
       "  <tbody>\n",
       "    <tr>\n",
       "      <th>0</th>\n",
       "      <td>(born, name)</td>\n",
       "    </tr>\n",
       "  </tbody>\n",
       "</table>\n",
       "</div>"
      ],
      "text/plain": [
       "              m\n",
       "0  (born, name)"
      ]
     },
     "execution_count": 38,
     "metadata": {},
     "output_type": "execute_result"
    }
   ],
   "source": [
    "query_generica = '''\n",
    "match (m:Person)\n",
    "return m\n",
    "'''\n",
    "df_generico = run_query(query_generica)\n",
    "df_generico.head(1)"
   ]
  },
  {
   "cell_type": "markdown",
   "id": "59495286",
   "metadata": {},
   "source": [
    "# **Actor Network Analysis for \"The Matrix\"**\n",
    "### Find actors from \"The Matrix\" and analyze their collaborations in other movies.\n",
    "\n",
    "\n",
    "### Create a network visualization\n"
   ]
  },
  {
   "cell_type": "code",
   "execution_count": 45,
   "id": "26978cf5",
   "metadata": {},
   "outputs": [
    {
     "data": {
      "text/html": [
       "<div>\n",
       "<style scoped>\n",
       "    .dataframe tbody tr th:only-of-type {\n",
       "        vertical-align: middle;\n",
       "    }\n",
       "\n",
       "    .dataframe tbody tr th {\n",
       "        vertical-align: top;\n",
       "    }\n",
       "\n",
       "    .dataframe thead th {\n",
       "        text-align: right;\n",
       "    }\n",
       "</style>\n",
       "<table border=\"1\" class=\"dataframe\">\n",
       "  <thead>\n",
       "    <tr style=\"text-align: right;\">\n",
       "      <th></th>\n",
       "      <th>p.name</th>\n",
       "      <th>n.title</th>\n",
       "    </tr>\n",
       "  </thead>\n",
       "  <tbody>\n",
       "    <tr>\n",
       "      <th>0</th>\n",
       "      <td>Hugo Weaving</td>\n",
       "      <td>Cloud Atlas</td>\n",
       "    </tr>\n",
       "    <tr>\n",
       "      <th>1</th>\n",
       "      <td>Hugo Weaving</td>\n",
       "      <td>V for Vendetta</td>\n",
       "    </tr>\n",
       "    <tr>\n",
       "      <th>2</th>\n",
       "      <td>Hugo Weaving</td>\n",
       "      <td>The Matrix Revolutions</td>\n",
       "    </tr>\n",
       "    <tr>\n",
       "      <th>3</th>\n",
       "      <td>Hugo Weaving</td>\n",
       "      <td>The Matrix Reloaded</td>\n",
       "    </tr>\n",
       "    <tr>\n",
       "      <th>4</th>\n",
       "      <td>Laurence Fishburne</td>\n",
       "      <td>The Matrix Revolutions</td>\n",
       "    </tr>\n",
       "    <tr>\n",
       "      <th>5</th>\n",
       "      <td>Laurence Fishburne</td>\n",
       "      <td>The Matrix Reloaded</td>\n",
       "    </tr>\n",
       "    <tr>\n",
       "      <th>6</th>\n",
       "      <td>Carrie-Anne Moss</td>\n",
       "      <td>The Matrix Revolutions</td>\n",
       "    </tr>\n",
       "    <tr>\n",
       "      <th>7</th>\n",
       "      <td>Carrie-Anne Moss</td>\n",
       "      <td>The Matrix Reloaded</td>\n",
       "    </tr>\n",
       "    <tr>\n",
       "      <th>8</th>\n",
       "      <td>Keanu Reeves</td>\n",
       "      <td>Something's Gotta Give</td>\n",
       "    </tr>\n",
       "    <tr>\n",
       "      <th>9</th>\n",
       "      <td>Keanu Reeves</td>\n",
       "      <td>The Replacements</td>\n",
       "    </tr>\n",
       "    <tr>\n",
       "      <th>10</th>\n",
       "      <td>Keanu Reeves</td>\n",
       "      <td>Johnny Mnemonic</td>\n",
       "    </tr>\n",
       "    <tr>\n",
       "      <th>11</th>\n",
       "      <td>Keanu Reeves</td>\n",
       "      <td>The Devil's Advocate</td>\n",
       "    </tr>\n",
       "    <tr>\n",
       "      <th>12</th>\n",
       "      <td>Keanu Reeves</td>\n",
       "      <td>The Matrix Revolutions</td>\n",
       "    </tr>\n",
       "    <tr>\n",
       "      <th>13</th>\n",
       "      <td>Keanu Reeves</td>\n",
       "      <td>The Matrix Reloaded</td>\n",
       "    </tr>\n",
       "  </tbody>\n",
       "</table>\n",
       "</div>"
      ],
      "text/plain": [
       "                p.name                 n.title\n",
       "0         Hugo Weaving             Cloud Atlas\n",
       "1         Hugo Weaving          V for Vendetta\n",
       "2         Hugo Weaving  The Matrix Revolutions\n",
       "3         Hugo Weaving     The Matrix Reloaded\n",
       "4   Laurence Fishburne  The Matrix Revolutions\n",
       "5   Laurence Fishburne     The Matrix Reloaded\n",
       "6     Carrie-Anne Moss  The Matrix Revolutions\n",
       "7     Carrie-Anne Moss     The Matrix Reloaded\n",
       "8         Keanu Reeves  Something's Gotta Give\n",
       "9         Keanu Reeves        The Replacements\n",
       "10        Keanu Reeves         Johnny Mnemonic\n",
       "11        Keanu Reeves    The Devil's Advocate\n",
       "12        Keanu Reeves  The Matrix Revolutions\n",
       "13        Keanu Reeves     The Matrix Reloaded"
      ]
     },
     "execution_count": 45,
     "metadata": {},
     "output_type": "execute_result"
    }
   ],
   "source": [
    "query_matrix = '''\n",
    "match (n:Movie)<- [:ACTED_IN] -(p:Person) - [r:ACTED_IN] - (m:Movie)\n",
    "where m.title = 'The Matrix'\n",
    "return p.name, n.title\n",
    "'''\n",
    "\n",
    "df_matrix = run_query(query_matrix)\n",
    "df_matrix\n"
   ]
  },
  {
   "cell_type": "markdown",
   "id": "bff47d96",
   "metadata": {},
   "source": [
    "# **Actor Connectivity Analysis**\n",
    "\n",
    "### Calculate collaboration density defined as # unique co-actors/# movies\n",
    "\n",
    "### Visualization\n",
    "\n",
    "\n",
    "### Correlation analysis\n",
    "\n"
   ]
  },
  {
   "cell_type": "markdown",
   "id": "41c1f011",
   "metadata": {},
   "source": [
    "# **Path Analysis Between Actors (Tom Hanks to Keanu Reeves)**\n",
    "\n",
    "### Calculate path statistics\n",
    "\n",
    "### Visualize a sample path\n"
   ]
  },
  {
   "cell_type": "markdown",
   "id": "b1117f68",
   "metadata": {},
   "source": [
    "# **Actor Career Timeline Analysis**\n",
    "\n",
    "### Create timeline visualization\n",
    "\n",
    "\n",
    "### Career statistics\n"
   ]
  }
 ],
 "metadata": {
  "kernelspec": {
   "display_name": "Notes-5FvvYq58",
   "language": "python",
   "name": "python3"
  },
  "language_info": {
   "codemirror_mode": {
    "name": "ipython",
    "version": 3
   },
   "file_extension": ".py",
   "mimetype": "text/x-python",
   "name": "python",
   "nbconvert_exporter": "python",
   "pygments_lexer": "ipython3",
   "version": "3.13.2"
  }
 },
 "nbformat": 4,
 "nbformat_minor": 5
}
