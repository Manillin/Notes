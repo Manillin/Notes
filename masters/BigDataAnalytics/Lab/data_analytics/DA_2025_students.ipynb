{
 "cells": [
  {
   "cell_type": "code",
   "execution_count": 215,
   "metadata": {
    "id": "m_CYHLBSJ5Xb"
   },
   "outputs": [],
   "source": [
    "import pandas as pd"
   ]
  },
  {
   "cell_type": "markdown",
   "metadata": {
    "id": "n9SmSkSbJ9u4"
   },
   "source": [
    "# Series\n"
   ]
  },
  {
   "cell_type": "markdown",
   "metadata": {
    "id": "CMoTAZ0yGoev"
   },
   "source": [
    "Creazione di una serie in Pandas:"
   ]
  },
  {
   "cell_type": "code",
   "execution_count": 216,
   "metadata": {
    "colab": {
     "base_uri": "https://localhost:8080/"
    },
    "executionInfo": {
     "elapsed": 3,
     "status": "ok",
     "timestamp": 1712133292662,
     "user": {
      "displayName": "Veronica Guidetti",
      "userId": "09740737890451426215"
     },
     "user_tz": -120
    },
    "id": "kdwUvQh4CbkS",
    "outputId": "4590825f-893f-456a-892b-2d0e1082ea93"
   },
   "outputs": [
    {
     "name": "stdout",
     "output_type": "stream",
     "text": [
      "A     5.0\n",
      "B     6.0\n",
      "C    12.0\n",
      "D     1.3\n",
      "Name: serie_0, dtype: float64\n"
     ]
    }
   ],
   "source": [
    "s = pd.Series([5,6,12,1.3], index = ['A','B','C','D'], name = 'serie_0')\n",
    "print(s)"
   ]
  },
  {
   "cell_type": "markdown",
   "metadata": {
    "id": "AK1UqpQ9KTWP"
   },
   "source": [
    "Accesso ad una series:"
   ]
  },
  {
   "cell_type": "code",
   "execution_count": 217,
   "metadata": {
    "colab": {
     "base_uri": "https://localhost:8080/"
    },
    "executionInfo": {
     "elapsed": 2,
     "status": "ok",
     "timestamp": 1712133293880,
     "user": {
      "displayName": "Veronica Guidetti",
      "userId": "09740737890451426215"
     },
     "user_tz": -120
    },
    "id": "9YZpJ5lGKXmM",
    "outputId": "99938c22-00c5-4817-951b-c0834cf255bf"
   },
   "outputs": [
    {
     "name": "stdout",
     "output_type": "stream",
     "text": [
      "B     6.0\n",
      "C    12.0\n",
      "Name: serie_0, dtype: float64\n"
     ]
    }
   ],
   "source": [
    "print(s[1:3])"
   ]
  },
  {
   "cell_type": "markdown",
   "metadata": {
    "id": "_OFkaBF5KD0m"
   },
   "source": [
    "# Dataframe"
   ]
  },
  {
   "cell_type": "markdown",
   "metadata": {
    "id": "Wq141y4hElfb"
   },
   "source": [
    "Creazione di un dataframe:"
   ]
  },
  {
   "cell_type": "code",
   "execution_count": 218,
   "metadata": {
    "colab": {
     "base_uri": "https://localhost:8080/"
    },
    "executionInfo": {
     "elapsed": 9,
     "status": "ok",
     "timestamp": 1712133294300,
     "user": {
      "displayName": "Veronica Guidetti",
      "userId": "09740737890451426215"
     },
     "user_tz": -120
    },
    "id": "BV62UlIFEKUY",
    "outputId": "f93f88c0-ee5d-4654-8395-b2cc28ed344f"
   },
   "outputs": [
    {
     "name": "stdout",
     "output_type": "stream",
     "text": [
      "    foo bar\n",
      "A   0.0   x\n",
      "B   4.0   y\n",
      "C   8.0   z\n",
      "D -12.0   w\n",
      "E  16.0   a\n"
     ]
    }
   ],
   "source": [
    "ds=pd.DataFrame({'foo':[0., 4., 8., -12.,16],\n",
    "                 'bar':['x', 'y', 'z', 'w','a']\n",
    "                 },\n",
    "                index=['A','B','C','D','E'])\n",
    "print(ds)"
   ]
  },
  {
   "cell_type": "markdown",
   "metadata": {
    "id": "wA0r0bs1uYbk"
   },
   "source": [
    "\n",
    "Hands-on excercise (slide 29)\n",
    "\n",
    "Can you guess what if the output of\n",
    "* pd.DataFrame({'foo':[1,2,6],'fee':[3,4,5]})\n",
    "* pd.DataFrame({'foo':{'a':1,'b':1},'fee':{'c':1,'d':2}}"
   ]
  },
  {
   "cell_type": "code",
   "execution_count": 219,
   "metadata": {},
   "outputs": [
    {
     "data": {
      "text/html": [
       "<div>\n",
       "<style scoped>\n",
       "    .dataframe tbody tr th:only-of-type {\n",
       "        vertical-align: middle;\n",
       "    }\n",
       "\n",
       "    .dataframe tbody tr th {\n",
       "        vertical-align: top;\n",
       "    }\n",
       "\n",
       "    .dataframe thead th {\n",
       "        text-align: right;\n",
       "    }\n",
       "</style>\n",
       "<table border=\"1\" class=\"dataframe\">\n",
       "  <thead>\n",
       "    <tr style=\"text-align: right;\">\n",
       "      <th></th>\n",
       "      <th>foo</th>\n",
       "      <th>fee</th>\n",
       "    </tr>\n",
       "  </thead>\n",
       "  <tbody>\n",
       "    <tr>\n",
       "      <th>a</th>\n",
       "      <td>1.0</td>\n",
       "      <td>NaN</td>\n",
       "    </tr>\n",
       "    <tr>\n",
       "      <th>b</th>\n",
       "      <td>1.0</td>\n",
       "      <td>NaN</td>\n",
       "    </tr>\n",
       "    <tr>\n",
       "      <th>c</th>\n",
       "      <td>NaN</td>\n",
       "      <td>1.0</td>\n",
       "    </tr>\n",
       "    <tr>\n",
       "      <th>d</th>\n",
       "      <td>NaN</td>\n",
       "      <td>2.0</td>\n",
       "    </tr>\n",
       "  </tbody>\n",
       "</table>\n",
       "</div>"
      ],
      "text/plain": [
       "   foo  fee\n",
       "a  1.0  NaN\n",
       "b  1.0  NaN\n",
       "c  NaN  1.0\n",
       "d  NaN  2.0"
      ]
     },
     "execution_count": 219,
     "metadata": {},
     "output_type": "execute_result"
    }
   ],
   "source": [
    "pd.DataFrame({'foo':[1,2,6],'fee':[3,4,5]})\n",
    "pd.DataFrame({'foo':{'a':1,'b':1},'fee':{'c':1,'d':2}})"
   ]
  },
  {
   "cell_type": "markdown",
   "metadata": {
    "id": "JU8NJV1nCkdE"
   },
   "source": [
    "Importazione di un CSV in un dataframe e stampa dei primi 5 record:"
   ]
  },
  {
   "cell_type": "code",
   "execution_count": 220,
   "metadata": {
    "colab": {
     "base_uri": "https://localhost:8080/",
     "height": 204
    },
    "executionInfo": {
     "elapsed": 8,
     "status": "ok",
     "timestamp": 1712133294754,
     "user": {
      "displayName": "Veronica Guidetti",
      "userId": "09740737890451426215"
     },
     "user_tz": -120
    },
    "id": "3lZHa_cnND6E",
    "outputId": "3f83617b-1a5b-43b8-e94b-cd7f2e301c22"
   },
   "outputs": [
    {
     "data": {
      "text/html": [
       "<div>\n",
       "<style scoped>\n",
       "    .dataframe tbody tr th:only-of-type {\n",
       "        vertical-align: middle;\n",
       "    }\n",
       "\n",
       "    .dataframe tbody tr th {\n",
       "        vertical-align: top;\n",
       "    }\n",
       "\n",
       "    .dataframe thead th {\n",
       "        text-align: right;\n",
       "    }\n",
       "</style>\n",
       "<table border=\"1\" class=\"dataframe\">\n",
       "  <thead>\n",
       "    <tr style=\"text-align: right;\">\n",
       "      <th></th>\n",
       "      <th>rank</th>\n",
       "      <th>discipline</th>\n",
       "      <th>phd</th>\n",
       "      <th>service</th>\n",
       "      <th>sex</th>\n",
       "      <th>salary</th>\n",
       "    </tr>\n",
       "  </thead>\n",
       "  <tbody>\n",
       "    <tr>\n",
       "      <th>0</th>\n",
       "      <td>Prof</td>\n",
       "      <td>B</td>\n",
       "      <td>56</td>\n",
       "      <td>49</td>\n",
       "      <td>Male</td>\n",
       "      <td>186960</td>\n",
       "    </tr>\n",
       "    <tr>\n",
       "      <th>1</th>\n",
       "      <td>Prof</td>\n",
       "      <td>A</td>\n",
       "      <td>12</td>\n",
       "      <td>6</td>\n",
       "      <td>Male</td>\n",
       "      <td>93000</td>\n",
       "    </tr>\n",
       "    <tr>\n",
       "      <th>2</th>\n",
       "      <td>Prof</td>\n",
       "      <td>A</td>\n",
       "      <td>23</td>\n",
       "      <td>20</td>\n",
       "      <td>Male</td>\n",
       "      <td>110515</td>\n",
       "    </tr>\n",
       "    <tr>\n",
       "      <th>3</th>\n",
       "      <td>Prof</td>\n",
       "      <td>A</td>\n",
       "      <td>40</td>\n",
       "      <td>31</td>\n",
       "      <td>Male</td>\n",
       "      <td>131205</td>\n",
       "    </tr>\n",
       "    <tr>\n",
       "      <th>4</th>\n",
       "      <td>Prof</td>\n",
       "      <td>B</td>\n",
       "      <td>20</td>\n",
       "      <td>18</td>\n",
       "      <td>Male</td>\n",
       "      <td>104800</td>\n",
       "    </tr>\n",
       "  </tbody>\n",
       "</table>\n",
       "</div>"
      ],
      "text/plain": [
       "   rank discipline  phd  service   sex  salary\n",
       "0  Prof          B   56       49  Male  186960\n",
       "1  Prof          A   12        6  Male   93000\n",
       "2  Prof          A   23       20  Male  110515\n",
       "3  Prof          A   40       31  Male  131205\n",
       "4  Prof          B   20       18  Male  104800"
      ]
     },
     "execution_count": 220,
     "metadata": {},
     "output_type": "execute_result"
    }
   ],
   "source": [
    "df = pd.read_csv(\"https://raw.githubusercontent.com/Apress/data-analysis-and-visualization-using-python/master/Ch07/Salaries.csv\")\n",
    "df.head()\n"
   ]
  },
  {
   "cell_type": "markdown",
   "metadata": {},
   "source": [
    "Visualizzare tipo di dato da un dataframe"
   ]
  },
  {
   "cell_type": "code",
   "execution_count": 221,
   "metadata": {},
   "outputs": [
    {
     "data": {
      "text/plain": [
       "[RangeIndex(start=0, stop=78, step=1),\n",
       " Index(['rank', 'discipline', 'phd', 'service', 'sex', 'salary'], dtype='object')]"
      ]
     },
     "execution_count": 221,
     "metadata": {},
     "output_type": "execute_result"
    }
   ],
   "source": [
    "df['salary'].dtype # -> dtype('int64')\n",
    "df.dtypes\n",
    "df.axes # -> equivale a df.colums + df.index\n",
    "\n"
   ]
  },
  {
   "cell_type": "markdown",
   "metadata": {
    "id": "auKetWlnGEpP"
   },
   "source": [
    "## Hands on SALARIES\n",
    "Accesso agli attributi di un dataframe (esercizio slide 35):"
   ]
  },
  {
   "cell_type": "code",
   "execution_count": 222,
   "metadata": {
    "colab": {
     "base_uri": "https://localhost:8080/"
    },
    "executionInfo": {
     "elapsed": 7,
     "status": "ok",
     "timestamp": 1712133294754,
     "user": {
      "displayName": "Veronica Guidetti",
      "userId": "09740737890451426215"
     },
     "user_tz": -120
    },
    "id": "fLe9QvFbGKqi",
    "outputId": "e915eb7b-3cfd-43d8-cc0b-7a42f038de41"
   },
   "outputs": [
    {
     "name": "stdout",
     "output_type": "stream",
     "text": [
      "Number of records:\n",
      "(78, 6)\n",
      "Number of total cells:\n",
      "468\n",
      "Column names:\n",
      "Index(['rank', 'discipline', 'phd', 'service', 'sex', 'salary'], dtype='object')\n",
      "Column types:\n",
      "rank          object\n",
      "discipline    object\n",
      "phd            int64\n",
      "service        int64\n",
      "sex           object\n",
      "salary         int64\n",
      "dtype: object\n"
     ]
    }
   ],
   "source": [
    "print('Number of records:')\n",
    "print(df.shape)\n",
    "\n",
    "print('Number of total cells:')\n",
    "print(df.size)\n",
    "\n",
    "print('Column names:')\n",
    "print(df.columns)\n",
    "\n",
    "print('Column types:')\n",
    "print(df.dtypes)\n"
   ]
  },
  {
   "cell_type": "markdown",
   "metadata": {},
   "source": [
    "Count occurrences of unique records in a df with `value_counts()`"
   ]
  },
  {
   "cell_type": "code",
   "execution_count": 223,
   "metadata": {
    "colab": {
     "base_uri": "https://localhost:8080/"
    },
    "executionInfo": {
     "elapsed": 10,
     "status": "ok",
     "timestamp": 1712133295307,
     "user": {
      "displayName": "Veronica Guidetti",
      "userId": "09740737890451426215"
     },
     "user_tz": -120
    },
    "id": "oWuczsEv3yBe",
    "outputId": "ba076c86-a50a-42ba-facc-3cc6713bd529"
   },
   "outputs": [
    {
     "name": "stdout",
     "output_type": "stream",
     "text": [
      "The represented disciplines are\n"
     ]
    },
    {
     "data": {
      "text/plain": [
       "array(['B', 'A', 'A', 'A', 'B', 'A', 'A', 'A', 'A', 'A', 'B', 'B', 'B',\n",
       "       'B', 'B', 'B', 'B', 'B', 'A', 'A', 'B', 'A', 'A', 'A', 'A', 'B',\n",
       "       'A', 'A', 'B', 'B', 'B', 'B', 'A', 'B', 'B', 'B', 'B', 'A', 'B',\n",
       "       'B', 'A', 'A', 'B', 'B', 'B', 'B', 'B', 'B', 'B', 'B', 'B', 'B',\n",
       "       'A', 'A', 'A', 'A', 'A', 'A', 'B', 'B', 'B', 'B', 'B', 'A', 'A',\n",
       "       'A', 'A', 'A', 'A', 'A', 'A', 'B', 'B', 'B', 'B', 'B', 'A', 'A'],\n",
       "      dtype=object)"
      ]
     },
     "execution_count": 223,
     "metadata": {},
     "output_type": "execute_result"
    }
   ],
   "source": [
    "print(f'The represented disciplines are')\n",
    "df.values[:,1]"
   ]
  },
  {
   "cell_type": "code",
   "execution_count": 224,
   "metadata": {
    "colab": {
     "base_uri": "https://localhost:8080/"
    },
    "executionInfo": {
     "elapsed": 9,
     "status": "ok",
     "timestamp": 1712133295307,
     "user": {
      "displayName": "Veronica Guidetti",
      "userId": "09740737890451426215"
     },
     "user_tz": -120
    },
    "id": "YNbOShgMgLwo",
    "outputId": "d6489224-d499-4fe4-f30f-b0c3e25cf16a"
   },
   "outputs": [
    {
     "name": "stdout",
     "output_type": "stream",
     "text": [
      "How many unique discipline values appear in the dataframe?\n",
      "\n"
     ]
    },
    {
     "data": {
      "text/plain": [
       "rank           3\n",
       "discipline     2\n",
       "phd           36\n",
       "service       33\n",
       "sex            2\n",
       "salary        73\n",
       "dtype: int64"
      ]
     },
     "execution_count": 224,
     "metadata": {},
     "output_type": "execute_result"
    }
   ],
   "source": [
    "print('How many unique discipline values appear in the dataframe?\\n')\n",
    "df['discipline'].nunique()\n",
    "df.nunique()"
   ]
  },
  {
   "cell_type": "code",
   "execution_count": 225,
   "metadata": {},
   "outputs": [
    {
     "data": {
      "text/html": [
       "<div>\n",
       "<style scoped>\n",
       "    .dataframe tbody tr th:only-of-type {\n",
       "        vertical-align: middle;\n",
       "    }\n",
       "\n",
       "    .dataframe tbody tr th {\n",
       "        vertical-align: top;\n",
       "    }\n",
       "\n",
       "    .dataframe thead th {\n",
       "        text-align: right;\n",
       "    }\n",
       "</style>\n",
       "<table border=\"1\" class=\"dataframe\">\n",
       "  <thead>\n",
       "    <tr style=\"text-align: right;\">\n",
       "      <th></th>\n",
       "      <th>rank</th>\n",
       "      <th>discipline</th>\n",
       "      <th>phd</th>\n",
       "      <th>service</th>\n",
       "      <th>sex</th>\n",
       "      <th>salary</th>\n",
       "    </tr>\n",
       "  </thead>\n",
       "  <tbody>\n",
       "    <tr>\n",
       "      <th>0</th>\n",
       "      <td>Prof</td>\n",
       "      <td>B</td>\n",
       "      <td>56</td>\n",
       "      <td>49</td>\n",
       "      <td>Male</td>\n",
       "      <td>186960</td>\n",
       "    </tr>\n",
       "    <tr>\n",
       "      <th>1</th>\n",
       "      <td>Prof</td>\n",
       "      <td>A</td>\n",
       "      <td>12</td>\n",
       "      <td>6</td>\n",
       "      <td>Male</td>\n",
       "      <td>93000</td>\n",
       "    </tr>\n",
       "    <tr>\n",
       "      <th>2</th>\n",
       "      <td>Prof</td>\n",
       "      <td>A</td>\n",
       "      <td>23</td>\n",
       "      <td>20</td>\n",
       "      <td>Male</td>\n",
       "      <td>110515</td>\n",
       "    </tr>\n",
       "    <tr>\n",
       "      <th>3</th>\n",
       "      <td>Prof</td>\n",
       "      <td>A</td>\n",
       "      <td>40</td>\n",
       "      <td>31</td>\n",
       "      <td>Male</td>\n",
       "      <td>131205</td>\n",
       "    </tr>\n",
       "    <tr>\n",
       "      <th>4</th>\n",
       "      <td>Prof</td>\n",
       "      <td>B</td>\n",
       "      <td>20</td>\n",
       "      <td>18</td>\n",
       "      <td>Male</td>\n",
       "      <td>104800</td>\n",
       "    </tr>\n",
       "  </tbody>\n",
       "</table>\n",
       "</div>"
      ],
      "text/plain": [
       "   rank discipline  phd  service   sex  salary\n",
       "0  Prof          B   56       49  Male  186960\n",
       "1  Prof          A   12        6  Male   93000\n",
       "2  Prof          A   23       20  Male  110515\n",
       "3  Prof          A   40       31  Male  131205\n",
       "4  Prof          B   20       18  Male  104800"
      ]
     },
     "execution_count": 225,
     "metadata": {},
     "output_type": "execute_result"
    }
   ],
   "source": [
    "df.head()"
   ]
  },
  {
   "cell_type": "code",
   "execution_count": 226,
   "metadata": {
    "colab": {
     "base_uri": "https://localhost:8080/"
    },
    "executionInfo": {
     "elapsed": 6,
     "status": "ok",
     "timestamp": 1712133295308,
     "user": {
      "displayName": "Veronica Guidetti",
      "userId": "09740737890451426215"
     },
     "user_tz": -120
    },
    "id": "mRyhk6JXgYld",
    "outputId": "003098b3-f377-4a07-ca8b-624c79622c9a"
   },
   "outputs": [
    {
     "name": "stdout",
     "output_type": "stream",
     "text": [
      "How many records are associated with unique discipline values?\n",
      "\n"
     ]
    },
    {
     "data": {
      "text/plain": [
       "discipline\n",
       "B    42\n",
       "A    36\n",
       "Name: count, dtype: int64"
      ]
     },
     "execution_count": 226,
     "metadata": {},
     "output_type": "execute_result"
    }
   ],
   "source": [
    "print('How many records are associated with unique discipline values?\\n')\n",
    "df['discipline'].value_counts()\n"
   ]
  },
  {
   "cell_type": "markdown",
   "metadata": {
    "id": "KQJqflfkHw2C"
   },
   "source": [
    "## Hands on SALARIES\n",
    "\n",
    "Accesso ai metodi di un dataframe (esercizio slide 37):"
   ]
  },
  {
   "cell_type": "code",
   "execution_count": 227,
   "metadata": {
    "colab": {
     "base_uri": "https://localhost:8080/"
    },
    "executionInfo": {
     "elapsed": 13,
     "status": "ok",
     "timestamp": 1712133295807,
     "user": {
      "displayName": "Veronica Guidetti",
      "userId": "09740737890451426215"
     },
     "user_tz": -120
    },
    "id": "m2Df4xsdH8pR",
    "outputId": "05982381-d966-4040-8c20-3f3ef0e189fc"
   },
   "outputs": [
    {
     "name": "stdout",
     "output_type": "stream",
     "text": [
      "Summary of numeric columns:\n",
      "             phd    service         salary\n",
      "count  78.000000  78.000000      78.000000\n",
      "mean   19.705128  15.051282  108023.782051\n",
      "std    12.498425  12.139768   28293.661022\n",
      "min     1.000000   0.000000   57800.000000\n",
      "25%    10.250000   5.250000   88612.500000\n",
      "50%    18.500000  14.500000  104671.000000\n",
      "75%    27.750000  20.750000  126774.750000\n",
      "max    56.000000  51.000000  186960.000000\n",
      "Standard deviations of numeric colums:\n",
      "phd           12.498425\n",
      "service       12.139768\n",
      "salary     28293.661022\n",
      "dtype: float64\n",
      "Mean values of the first 50 records:\n",
      "phd            21.52\n",
      "service        17.60\n",
      "salary     113789.14\n",
      "dtype: float64\n"
     ]
    }
   ],
   "source": [
    "numeric_columns=['phd','service','salary']\n",
    "print('Summary of numeric columns:')\n",
    "print(df[numeric_columns].describe())\n",
    "print('Standard deviations of numeric colums:')\n",
    "print(df[numeric_columns].std())\n",
    "print('Mean values of the first 50 records:')\n",
    "print(df[numeric_columns].head(50).mean())"
   ]
  },
  {
   "cell_type": "markdown",
   "metadata": {
    "id": "0bZ_nUV_y6hJ"
   },
   "source": [
    "Lista di tutti i metodi"
   ]
  },
  {
   "cell_type": "code",
   "execution_count": 228,
   "metadata": {
    "colab": {
     "base_uri": "https://localhost:8080/"
    },
    "executionInfo": {
     "elapsed": 11,
     "status": "ok",
     "timestamp": 1712133295807,
     "user": {
      "displayName": "Veronica Guidetti",
      "userId": "09740737890451426215"
     },
     "user_tz": -120
    },
    "id": "8ncdVvITzQJT",
    "outputId": "bba73db1-d462-429d-c94e-e4ced8567ee6"
   },
   "outputs": [
    {
     "data": {
      "text/plain": [
       "['_stat_function_ddof',\n",
       " '_take_with_is_copy',\n",
       " '_to_dict_of_blocks',\n",
       " '_to_latex_via_styler',\n",
       " '_typ',\n",
       " '_update_inplace',\n",
       " '_validate_dtype',\n",
       " '_values',\n",
       " '_where',\n",
       " 'abs',\n",
       " 'add',\n",
       " 'add_prefix',\n",
       " 'add_suffix',\n",
       " 'agg',\n",
       " 'aggregate',\n",
       " 'align',\n",
       " 'all',\n",
       " 'any',\n",
       " 'apply',\n",
       " 'applymap',\n",
       " 'asfreq',\n",
       " 'asof',\n",
       " 'assign',\n",
       " 'astype',\n",
       " 'at',\n",
       " 'at_time',\n",
       " 'attrs',\n",
       " 'axes',\n",
       " 'backfill',\n",
       " 'between_time',\n",
       " 'bfill',\n",
       " 'bool',\n",
       " 'boxplot',\n",
       " 'clip',\n",
       " 'columns',\n",
       " 'combine',\n",
       " 'combine_first',\n",
       " 'compare',\n",
       " 'convert_dtypes',\n",
       " 'copy',\n",
       " 'corr',\n",
       " 'corrwith',\n",
       " 'count',\n",
       " 'cov',\n",
       " 'cummax',\n",
       " 'cummin',\n",
       " 'cumprod',\n",
       " 'cumsum',\n",
       " 'describe',\n",
       " 'diff',\n",
       " 'discipline',\n",
       " 'div',\n",
       " 'divide',\n",
       " 'dot',\n",
       " 'drop',\n",
       " 'drop_duplicates',\n",
       " 'droplevel',\n",
       " 'dropna',\n",
       " 'dtypes',\n",
       " 'duplicated',\n",
       " 'empty',\n",
       " 'eq',\n",
       " 'equals',\n",
       " 'eval',\n",
       " 'ewm',\n",
       " 'expanding',\n",
       " 'explode',\n",
       " 'ffill',\n",
       " 'fillna',\n",
       " 'filter',\n",
       " 'first',\n",
       " 'first_valid_index',\n",
       " 'flags',\n",
       " 'floordiv',\n",
       " 'from_dict',\n",
       " 'from_records',\n",
       " 'ge',\n",
       " 'get',\n",
       " 'groupby',\n",
       " 'gt',\n",
       " 'head',\n",
       " 'hist',\n",
       " 'iat',\n",
       " 'idxmax',\n",
       " 'idxmin',\n",
       " 'iloc',\n",
       " 'index',\n",
       " 'infer_objects',\n",
       " 'info',\n",
       " 'insert',\n",
       " 'interpolate',\n",
       " 'isetitem',\n",
       " 'isin',\n",
       " 'isna',\n",
       " 'isnull',\n",
       " 'items',\n",
       " 'iterrows',\n",
       " 'itertuples',\n",
       " 'join',\n",
       " 'keys',\n",
       " 'kurt',\n",
       " 'kurtosis',\n",
       " 'last',\n",
       " 'last_valid_index',\n",
       " 'le',\n",
       " 'loc',\n",
       " 'lt',\n",
       " 'map',\n",
       " 'mask',\n",
       " 'max',\n",
       " 'mean',\n",
       " 'median',\n",
       " 'melt',\n",
       " 'memory_usage',\n",
       " 'merge',\n",
       " 'min',\n",
       " 'mod',\n",
       " 'mode',\n",
       " 'mul',\n",
       " 'multiply',\n",
       " 'ndim',\n",
       " 'ne',\n",
       " 'nlargest',\n",
       " 'notna',\n",
       " 'notnull',\n",
       " 'nsmallest',\n",
       " 'nunique',\n",
       " 'pad',\n",
       " 'pct_change',\n",
       " 'phd',\n",
       " 'pipe',\n",
       " 'pivot',\n",
       " 'pivot_table',\n",
       " 'plot',\n",
       " 'pop',\n",
       " 'pow',\n",
       " 'prod',\n",
       " 'product',\n",
       " 'quantile',\n",
       " 'query',\n",
       " 'radd',\n",
       " 'rank',\n",
       " 'rdiv',\n",
       " 'reindex',\n",
       " 'reindex_like',\n",
       " 'rename',\n",
       " 'rename_axis',\n",
       " 'reorder_levels',\n",
       " 'replace',\n",
       " 'resample',\n",
       " 'reset_index',\n",
       " 'rfloordiv',\n",
       " 'rmod',\n",
       " 'rmul',\n",
       " 'rolling',\n",
       " 'round',\n",
       " 'rpow',\n",
       " 'rsub',\n",
       " 'rtruediv',\n",
       " 'salary',\n",
       " 'sample',\n",
       " 'select_dtypes',\n",
       " 'sem',\n",
       " 'service',\n",
       " 'set_axis',\n",
       " 'set_flags',\n",
       " 'set_index',\n",
       " 'sex',\n",
       " 'shape',\n",
       " 'shift',\n",
       " 'size',\n",
       " 'skew',\n",
       " 'sort_index',\n",
       " 'sort_values',\n",
       " 'squeeze',\n",
       " 'stack',\n",
       " 'std',\n",
       " 'style',\n",
       " 'sub',\n",
       " 'subtract',\n",
       " 'sum',\n",
       " 'swapaxes',\n",
       " 'swaplevel',\n",
       " 'tail',\n",
       " 'take',\n",
       " 'to_clipboard',\n",
       " 'to_csv',\n",
       " 'to_dict',\n",
       " 'to_excel',\n",
       " 'to_feather',\n",
       " 'to_gbq',\n",
       " 'to_hdf',\n",
       " 'to_html',\n",
       " 'to_json',\n",
       " 'to_latex',\n",
       " 'to_markdown',\n",
       " 'to_numpy',\n",
       " 'to_orc',\n",
       " 'to_parquet',\n",
       " 'to_period',\n",
       " 'to_pickle',\n",
       " 'to_records',\n",
       " 'to_sql',\n",
       " 'to_stata',\n",
       " 'to_string',\n",
       " 'to_timestamp',\n",
       " 'to_xarray',\n",
       " 'to_xml',\n",
       " 'transform',\n",
       " 'transpose',\n",
       " 'truediv',\n",
       " 'truncate',\n",
       " 'tz_convert',\n",
       " 'tz_localize',\n",
       " 'unstack',\n",
       " 'update',\n",
       " 'value_counts',\n",
       " 'values',\n",
       " 'var',\n",
       " 'where',\n",
       " 'xs']"
      ]
     },
     "execution_count": 228,
     "metadata": {},
     "output_type": "execute_result"
    }
   ],
   "source": [
    "dir(df)[226:]"
   ]
  },
  {
   "cell_type": "markdown",
   "metadata": {},
   "source": [
    "### comprehensive summary of df infos"
   ]
  },
  {
   "cell_type": "code",
   "execution_count": 229,
   "metadata": {
    "colab": {
     "base_uri": "https://localhost:8080/"
    },
    "executionInfo": {
     "elapsed": 7,
     "status": "ok",
     "timestamp": 1712133295808,
     "user": {
      "displayName": "Veronica Guidetti",
      "userId": "09740737890451426215"
     },
     "user_tz": -120
    },
    "id": "3zmYZ-8Xy02O",
    "outputId": "b09e1a8f-fed9-49f0-e215-7469bcd4e618"
   },
   "outputs": [
    {
     "name": "stdout",
     "output_type": "stream",
     "text": [
      "<class 'pandas.core.frame.DataFrame'>\n",
      "RangeIndex: 78 entries, 0 to 77\n",
      "Data columns (total 6 columns):\n",
      " #   Column      Non-Null Count  Dtype \n",
      "---  ------      --------------  ----- \n",
      " 0   rank        78 non-null     object\n",
      " 1   discipline  78 non-null     object\n",
      " 2   phd         78 non-null     int64 \n",
      " 3   service     78 non-null     int64 \n",
      " 4   sex         78 non-null     object\n",
      " 5   salary      78 non-null     int64 \n",
      "dtypes: int64(3), object(3)\n",
      "memory usage: 3.8+ KB\n"
     ]
    }
   ],
   "source": [
    "df.info()"
   ]
  },
  {
   "cell_type": "code",
   "execution_count": 230,
   "metadata": {
    "colab": {
     "base_uri": "https://localhost:8080/"
    },
    "executionInfo": {
     "elapsed": 11,
     "status": "ok",
     "timestamp": 1712133296872,
     "user": {
      "displayName": "Veronica Guidetti",
      "userId": "09740737890451426215"
     },
     "user_tz": -120
    },
    "id": "kpxToPMU0o2G",
    "outputId": "94a9971d-4ceb-43f1-f030-2656c78a2e50"
   },
   "outputs": [
    {
     "name": "stdout",
     "output_type": "stream",
     "text": [
      "count how many nan values appear in each column of the df\n"
     ]
    },
    {
     "data": {
      "text/plain": [
       "rank          0\n",
       "discipline    0\n",
       "phd           0\n",
       "service       0\n",
       "sex           0\n",
       "salary        0\n",
       "dtype: int64"
      ]
     },
     "execution_count": 230,
     "metadata": {},
     "output_type": "execute_result"
    }
   ],
   "source": [
    "print(\"count how many nan values appear in each column of the df\")\n",
    "df.isna().sum()"
   ]
  },
  {
   "cell_type": "code",
   "execution_count": 231,
   "metadata": {
    "colab": {
     "base_uri": "https://localhost:8080/",
     "height": 613
    },
    "executionInfo": {
     "elapsed": 9,
     "status": "ok",
     "timestamp": 1712133296872,
     "user": {
      "displayName": "Veronica Guidetti",
      "userId": "09740737890451426215"
     },
     "user_tz": -120
    },
    "id": "0doVBY1x0zkl",
    "outputId": "64e20d43-415f-4a5a-8f0f-20baf60ac85f"
   },
   "outputs": [
    {
     "name": "stdout",
     "output_type": "stream",
     "text": [
      "sample 3 elements from a df\n",
      "\n",
      "         rank discipline  phd  service     sex  salary\n",
      "41  AssocProf          A   13        8  Female   74830\n",
      "64  AssocProf          A   26       24  Female   73300\n",
      "65       Prof          A   36       19  Female  117555\n",
      "\n",
      "sample a fraction of elements in the df\n",
      "\n"
     ]
    },
    {
     "data": {
      "text/html": [
       "<div>\n",
       "<style scoped>\n",
       "    .dataframe tbody tr th:only-of-type {\n",
       "        vertical-align: middle;\n",
       "    }\n",
       "\n",
       "    .dataframe tbody tr th {\n",
       "        vertical-align: top;\n",
       "    }\n",
       "\n",
       "    .dataframe thead th {\n",
       "        text-align: right;\n",
       "    }\n",
       "</style>\n",
       "<table border=\"1\" class=\"dataframe\">\n",
       "  <thead>\n",
       "    <tr style=\"text-align: right;\">\n",
       "      <th></th>\n",
       "      <th>rank</th>\n",
       "      <th>discipline</th>\n",
       "      <th>phd</th>\n",
       "      <th>service</th>\n",
       "      <th>sex</th>\n",
       "      <th>salary</th>\n",
       "    </tr>\n",
       "  </thead>\n",
       "  <tbody>\n",
       "    <tr>\n",
       "      <th>77</th>\n",
       "      <td>Prof</td>\n",
       "      <td>A</td>\n",
       "      <td>23</td>\n",
       "      <td>15</td>\n",
       "      <td>Female</td>\n",
       "      <td>109646</td>\n",
       "    </tr>\n",
       "    <tr>\n",
       "      <th>38</th>\n",
       "      <td>AsstProf</td>\n",
       "      <td>B</td>\n",
       "      <td>4</td>\n",
       "      <td>3</td>\n",
       "      <td>Male</td>\n",
       "      <td>91000</td>\n",
       "    </tr>\n",
       "    <tr>\n",
       "      <th>58</th>\n",
       "      <td>Prof</td>\n",
       "      <td>B</td>\n",
       "      <td>36</td>\n",
       "      <td>26</td>\n",
       "      <td>Female</td>\n",
       "      <td>144651</td>\n",
       "    </tr>\n",
       "    <tr>\n",
       "      <th>25</th>\n",
       "      <td>Prof</td>\n",
       "      <td>B</td>\n",
       "      <td>35</td>\n",
       "      <td>31</td>\n",
       "      <td>Male</td>\n",
       "      <td>99418</td>\n",
       "    </tr>\n",
       "    <tr>\n",
       "      <th>1</th>\n",
       "      <td>Prof</td>\n",
       "      <td>A</td>\n",
       "      <td>12</td>\n",
       "      <td>6</td>\n",
       "      <td>Male</td>\n",
       "      <td>93000</td>\n",
       "    </tr>\n",
       "    <tr>\n",
       "      <th>12</th>\n",
       "      <td>AsstProf</td>\n",
       "      <td>B</td>\n",
       "      <td>1</td>\n",
       "      <td>0</td>\n",
       "      <td>Male</td>\n",
       "      <td>88000</td>\n",
       "    </tr>\n",
       "    <tr>\n",
       "      <th>61</th>\n",
       "      <td>AssocProf</td>\n",
       "      <td>B</td>\n",
       "      <td>13</td>\n",
       "      <td>10</td>\n",
       "      <td>Female</td>\n",
       "      <td>103750</td>\n",
       "    </tr>\n",
       "    <tr>\n",
       "      <th>14</th>\n",
       "      <td>Prof</td>\n",
       "      <td>B</td>\n",
       "      <td>25</td>\n",
       "      <td>19</td>\n",
       "      <td>Male</td>\n",
       "      <td>153750</td>\n",
       "    </tr>\n",
       "  </tbody>\n",
       "</table>\n",
       "</div>"
      ],
      "text/plain": [
       "         rank discipline  phd  service     sex  salary\n",
       "77       Prof          A   23       15  Female  109646\n",
       "38   AsstProf          B    4        3    Male   91000\n",
       "58       Prof          B   36       26  Female  144651\n",
       "25       Prof          B   35       31    Male   99418\n",
       "1        Prof          A   12        6    Male   93000\n",
       "12   AsstProf          B    1        0    Male   88000\n",
       "61  AssocProf          B   13       10  Female  103750\n",
       "14       Prof          B   25       19    Male  153750"
      ]
     },
     "execution_count": 231,
     "metadata": {},
     "output_type": "execute_result"
    }
   ],
   "source": [
    "print(\"sample 3 elements from a df\\n\")\n",
    "print(df.sample(3))\n",
    "\n",
    "print(\"\\nsample a fraction of elements in the df\\n\")\n",
    "# 0.1 significa che si prende il 10% delle righe originali \n",
    "df.sample(frac=0.1)"
   ]
  },
  {
   "cell_type": "markdown",
   "metadata": {
    "id": "mgcd9FlwJeKa"
   },
   "source": [
    "# Processing tables using pandas"
   ]
  },
  {
   "cell_type": "markdown",
   "metadata": {
    "id": "TL0DVZAr6ilD"
   },
   "source": [
    "## Selection/Slicing:"
   ]
  },
  {
   "cell_type": "code",
   "execution_count": 232,
   "metadata": {},
   "outputs": [
    {
     "name": "stdout",
     "output_type": "stream",
     "text": [
      "sex\n",
      "Male      39\n",
      "Female    39\n",
      "Name: count, dtype: int64\n",
      "\n",
      "    sex  salary\n",
      "0  Male  186960\n",
      "1  Male   93000\n",
      "2  Male  110515\n",
      "3  Male  131205\n",
      "4  Male  104800\n",
      "\n",
      "   rank discipline  phd  service   sex  salary\n",
      "0  Prof          B   56       49  Male  186960\n",
      "1  Prof          A   12        6  Male   93000\n",
      "2  Prof          A   23       20  Male  110515\n",
      "3  Prof          A   40       31  Male  131205\n",
      "4  Prof          B   20       18  Male  104800\n"
     ]
    }
   ],
   "source": [
    "# Selecting one column by it's name\n",
    "print(df['sex'].value_counts(),end='\\n\\n')\n",
    "\n",
    "# Selecting multiple columns by their name\n",
    "print(df[['sex','salary']].head())\n",
    "# Selection rows by their index position\n",
    "print(f'\\n{df[0:5]}') # equivalente a fare head()"
   ]
  },
  {
   "cell_type": "markdown",
   "metadata": {},
   "source": [
    "Possiamo creare dei sottoinsieme di dataframe usando un **Boolean Indexing**, quest'ultimo ritornerà T o F e potremo usarli come filtri per l'indicizzazione.  "
   ]
  },
  {
   "cell_type": "code",
   "execution_count": 233,
   "metadata": {},
   "outputs": [
    {
     "data": {
      "text/plain": [
       "0      True\n",
       "1     False\n",
       "2     False\n",
       "3      True\n",
       "4     False\n",
       "      ...  \n",
       "73    False\n",
       "74    False\n",
       "75     True\n",
       "76    False\n",
       "77    False\n",
       "Name: salary, Length: 78, dtype: bool"
      ]
     },
     "execution_count": 233,
     "metadata": {},
     "output_type": "execute_result"
    }
   ],
   "source": [
    "df['salary'] > 120000"
   ]
  },
  {
   "cell_type": "markdown",
   "metadata": {},
   "source": [
    "Esempio di filtraggio con Boolean Indexing:"
   ]
  },
  {
   "cell_type": "code",
   "execution_count": 234,
   "metadata": {
    "colab": {
     "base_uri": "https://localhost:8080/"
    },
    "executionInfo": {
     "elapsed": 11,
     "status": "ok",
     "timestamp": 1712133298572,
     "user": {
      "displayName": "Veronica Guidetti",
      "userId": "09740737890451426215"
     },
     "user_tz": -120
    },
    "id": "JgTUQkD-IehT",
    "outputId": "0ca2d0aa-318a-4a02-eb5f-0a1a34173b17"
   },
   "outputs": [
    {
     "name": "stdout",
     "output_type": "stream",
     "text": [
      "select only rows with salaries larger than 120000 euros\n",
      "\n",
      "\n",
      "Tipo filtro: <class 'pandas.core.series.Series'>\n",
      "\n",
      "    rank discipline  phd  service   sex  salary\n",
      "0   Prof          B   56       49  Male  186960\n",
      "3   Prof          A   40       31  Male  131205\n",
      "5   Prof          A   20       20  Male  122400\n",
      "7   Prof          A   18       18  Male  126300\n",
      "10  Prof          B   39       33  Male  128250\n",
      "\n",
      "df sub compatto:\n",
      "    rank discipline  phd  service   sex  salary\n",
      "0   Prof          B   56       49  Male  186960\n",
      "3   Prof          A   40       31  Male  131205\n",
      "5   Prof          A   20       20  Male  122400\n",
      "7   Prof          A   18       18  Male  126300\n",
      "10  Prof          B   39       33  Male  128250\n"
     ]
    }
   ],
   "source": [
    "print('select only rows with salaries larger than 120000 euros\\n\\n')\n",
    "filtro_esteso = df['salary'] > 120000\n",
    "print(f'Tipo filtro: {type(filtro_esteso)}', end='\\n\\n')\n",
    "df_sub_esteso=df[filtro_esteso].head()\n",
    "\n",
    "# modalità compatta \n",
    "df_sub = df[df['salary'] > 120000]\n",
    "print(df_sub_esteso.head())\n",
    "print(f'\\ndf sub compatto:\\n{df_sub.head()}')"
   ]
  },
  {
   "cell_type": "markdown",
   "metadata": {},
   "source": [
    "Possiamo anche utlizzare i comparatori Booleani per creare filtri più specifici: "
   ]
  },
  {
   "cell_type": "code",
   "execution_count": 235,
   "metadata": {},
   "outputs": [
    {
     "name": "stdout",
     "output_type": "stream",
     "text": [
      "         rank discipline  phd  service     sex  salary\n",
      "39       Prof          B   18       18  Female  129000\n",
      "40       Prof          A   39       36  Female  137000\n",
      "41  AssocProf          A   13        8  Female   74830\n",
      "42   AsstProf          B    4        2  Female   80225\n",
      "43   AsstProf          B    5        0  Female   77000\n",
      "\n",
      "\n",
      " ----- female salary -----\n",
      "39    129000\n",
      "40    137000\n",
      "41     74830\n",
      "42     80225\n",
      "43     77000\n",
      "Name: salary, dtype: int64\n"
     ]
    }
   ],
   "source": [
    "# female_filter = df['sex'] == 'Female'\n",
    "# df_female = df[female_filter]\n",
    "# df_female.head()\n",
    "\n",
    "print(df[ df['sex'] == 'Female'].head())\n",
    "\n",
    "# per proiettare una colonna particolare la si specifica tra '[]'\n",
    "print(\"\\n\\n ----- female salary -----\")\n",
    "print(df[ df['sex'] == 'Female']['salary'].head())\n"
   ]
  },
  {
   "cell_type": "markdown",
   "metadata": {
    "id": "6cpv4_ULKYoE"
   },
   "source": [
    "HANDS ON: Slicing/filtering (esercizio slide 41:)\n",
    "\n",
    "* Calculate the basic statistics for the salary column;\n",
    "* Find how many values in the salary column (use count_values method);\n",
    "* Calculate the average salary\n",
    "* Select the female professors with a salary greater than 120000\n",
    "* Select the salary column of female professors\n",
    "\n",
    "\n",
    "\n"
   ]
  },
  {
   "cell_type": "code",
   "execution_count": 236,
   "metadata": {},
   "outputs": [
    {
     "data": {
      "text/html": [
       "<div>\n",
       "<style scoped>\n",
       "    .dataframe tbody tr th:only-of-type {\n",
       "        vertical-align: middle;\n",
       "    }\n",
       "\n",
       "    .dataframe tbody tr th {\n",
       "        vertical-align: top;\n",
       "    }\n",
       "\n",
       "    .dataframe thead th {\n",
       "        text-align: right;\n",
       "    }\n",
       "</style>\n",
       "<table border=\"1\" class=\"dataframe\">\n",
       "  <thead>\n",
       "    <tr style=\"text-align: right;\">\n",
       "      <th></th>\n",
       "      <th>rank</th>\n",
       "      <th>discipline</th>\n",
       "      <th>phd</th>\n",
       "      <th>service</th>\n",
       "      <th>sex</th>\n",
       "      <th>salary</th>\n",
       "    </tr>\n",
       "  </thead>\n",
       "  <tbody>\n",
       "    <tr>\n",
       "      <th>0</th>\n",
       "      <td>Prof</td>\n",
       "      <td>B</td>\n",
       "      <td>56</td>\n",
       "      <td>49</td>\n",
       "      <td>Male</td>\n",
       "      <td>186960</td>\n",
       "    </tr>\n",
       "    <tr>\n",
       "      <th>1</th>\n",
       "      <td>Prof</td>\n",
       "      <td>A</td>\n",
       "      <td>12</td>\n",
       "      <td>6</td>\n",
       "      <td>Male</td>\n",
       "      <td>93000</td>\n",
       "    </tr>\n",
       "    <tr>\n",
       "      <th>2</th>\n",
       "      <td>Prof</td>\n",
       "      <td>A</td>\n",
       "      <td>23</td>\n",
       "      <td>20</td>\n",
       "      <td>Male</td>\n",
       "      <td>110515</td>\n",
       "    </tr>\n",
       "    <tr>\n",
       "      <th>3</th>\n",
       "      <td>Prof</td>\n",
       "      <td>A</td>\n",
       "      <td>40</td>\n",
       "      <td>31</td>\n",
       "      <td>Male</td>\n",
       "      <td>131205</td>\n",
       "    </tr>\n",
       "    <tr>\n",
       "      <th>4</th>\n",
       "      <td>Prof</td>\n",
       "      <td>B</td>\n",
       "      <td>20</td>\n",
       "      <td>18</td>\n",
       "      <td>Male</td>\n",
       "      <td>104800</td>\n",
       "    </tr>\n",
       "  </tbody>\n",
       "</table>\n",
       "</div>"
      ],
      "text/plain": [
       "   rank discipline  phd  service   sex  salary\n",
       "0  Prof          B   56       49  Male  186960\n",
       "1  Prof          A   12        6  Male   93000\n",
       "2  Prof          A   23       20  Male  110515\n",
       "3  Prof          A   40       31  Male  131205\n",
       "4  Prof          B   20       18  Male  104800"
      ]
     },
     "execution_count": 236,
     "metadata": {},
     "output_type": "execute_result"
    }
   ],
   "source": [
    "df.head()"
   ]
  },
  {
   "cell_type": "code",
   "execution_count": 237,
   "metadata": {
    "colab": {
     "base_uri": "https://localhost:8080/"
    },
    "executionInfo": {
     "elapsed": 554,
     "status": "ok",
     "timestamp": 1712133299118,
     "user": {
      "displayName": "Veronica Guidetti",
      "userId": "09740737890451426215"
     },
     "user_tz": -120
    },
    "id": "tbahBhLpKST6",
    "outputId": "22f04dca-385e-47e8-93de-f5792a496817"
   },
   "outputs": [
    {
     "name": "stdout",
     "output_type": "stream",
     "text": [
      "Basic statistics of the salary column\n",
      "count        78.000000\n",
      "mean     108023.782051\n",
      "std       28293.661022\n",
      "min       57800.000000\n",
      "25%       88612.500000\n",
      "50%      104671.000000\n",
      "75%      126774.750000\n",
      "max      186960.000000\n",
      "Name: salary, dtype: float64\n",
      "\n",
      "\n",
      "The number of records in the salary column is \n",
      "78\n",
      "\n",
      "\n",
      "The average salary is \n",
      "108023.78205128205\n",
      "\n",
      "\n",
      "Records related to female professor with a salary larger than 120k\n",
      "    rank discipline  phd  service     sex  salary\n",
      "39  Prof          B   18       18  Female  129000\n",
      "40  Prof          A   39       36  Female  137000\n",
      "44  Prof          B   23       19  Female  151768\n",
      "45  Prof          B   25       25  Female  140096\n",
      "49  Prof          B   17       18  Female  122960\n",
      "test -> 9\n",
      "Female professors with salary over 120:rank          9\n",
      "discipline    9\n",
      "phd           9\n",
      "service       9\n",
      "sex           9\n",
      "salary        9\n",
      "dtype: int64\n",
      "\n",
      "\n",
      "Salary column of female professors:\n",
      "39    129000\n",
      "40    137000\n",
      "44    151768\n",
      "45    140096\n",
      "48    111512\n",
      "Name: salary, dtype: int64\n"
     ]
    }
   ],
   "source": [
    "print('Basic statistics of the salary column')\n",
    "print(df['salary'].describe())\n",
    "\n",
    "print('\\n\\nThe number of records in the salary column is ')\n",
    "print(df['salary'].count())\n",
    "\n",
    "print('\\n\\nThe average salary is ')\n",
    "print(df['salary'].mean())\n",
    "\n",
    "print('\\n\\nRecords related to female professor with a salary larger than 120k')\n",
    "mask = (df['sex'] == 'Female') & (df['rank'] == 'Prof') & (df['salary'] > 120000)\n",
    "print(df[mask].head(5))\n",
    "print(f'test -> {df[mask]['salary'].count()}')\n",
    "# se df[mask].count() allora avrebbe fatto count su dataframe e non su series \n",
    "print(f'Female professors with salary over 120:{df[mask].count()}')\n",
    "print('\\n\\nSalary column of female professors:')\n",
    "print(df[(df['sex'] == 'Female') & (df['rank'] == 'Prof')]['salary'].head(5))"
   ]
  },
  {
   "cell_type": "markdown",
   "metadata": {},
   "source": [
    " \n",
    "\n",
    "---\n"
   ]
  },
  {
   "cell_type": "markdown",
   "metadata": {
    "id": "4ZO71l-_Drhf"
   },
   "source": [
    "## iloc and loc methods"
   ]
  },
  {
   "cell_type": "code",
   "execution_count": 238,
   "metadata": {
    "colab": {
     "base_uri": "https://localhost:8080/",
     "height": 390
    },
    "executionInfo": {
     "elapsed": 94,
     "status": "ok",
     "timestamp": 1712133299118,
     "user": {
      "displayName": "Veronica Guidetti",
      "userId": "09740737890451426215"
     },
     "user_tz": -120
    },
    "id": "FcAWCxCc63Yx",
    "outputId": "da78d3f6-5a61-4129-cf5c-c7b0e84529e7"
   },
   "outputs": [
    {
     "name": "stdout",
     "output_type": "stream",
     "text": [
      "Slicing a dataframe using loc\n"
     ]
    },
    {
     "data": {
      "text/html": [
       "<div>\n",
       "<style scoped>\n",
       "    .dataframe tbody tr th:only-of-type {\n",
       "        vertical-align: middle;\n",
       "    }\n",
       "\n",
       "    .dataframe tbody tr th {\n",
       "        vertical-align: top;\n",
       "    }\n",
       "\n",
       "    .dataframe thead th {\n",
       "        text-align: right;\n",
       "    }\n",
       "</style>\n",
       "<table border=\"1\" class=\"dataframe\">\n",
       "  <thead>\n",
       "    <tr style=\"text-align: right;\">\n",
       "      <th></th>\n",
       "      <th>rank</th>\n",
       "      <th>service</th>\n",
       "      <th>salary</th>\n",
       "    </tr>\n",
       "  </thead>\n",
       "  <tbody>\n",
       "    <tr>\n",
       "      <th>30</th>\n",
       "      <td>AssocProf</td>\n",
       "      <td>7</td>\n",
       "      <td>107008</td>\n",
       "    </tr>\n",
       "    <tr>\n",
       "      <th>31</th>\n",
       "      <td>Prof</td>\n",
       "      <td>21</td>\n",
       "      <td>155750</td>\n",
       "    </tr>\n",
       "    <tr>\n",
       "      <th>32</th>\n",
       "      <td>Prof</td>\n",
       "      <td>19</td>\n",
       "      <td>103275</td>\n",
       "    </tr>\n",
       "    <tr>\n",
       "      <th>33</th>\n",
       "      <td>Prof</td>\n",
       "      <td>18</td>\n",
       "      <td>120000</td>\n",
       "    </tr>\n",
       "    <tr>\n",
       "      <th>34</th>\n",
       "      <td>AssocProf</td>\n",
       "      <td>8</td>\n",
       "      <td>119800</td>\n",
       "    </tr>\n",
       "    <tr>\n",
       "      <th>35</th>\n",
       "      <td>Prof</td>\n",
       "      <td>23</td>\n",
       "      <td>126933</td>\n",
       "    </tr>\n",
       "    <tr>\n",
       "      <th>36</th>\n",
       "      <td>Prof</td>\n",
       "      <td>45</td>\n",
       "      <td>146856</td>\n",
       "    </tr>\n",
       "    <tr>\n",
       "      <th>37</th>\n",
       "      <td>Prof</td>\n",
       "      <td>8</td>\n",
       "      <td>102000</td>\n",
       "    </tr>\n",
       "    <tr>\n",
       "      <th>38</th>\n",
       "      <td>AsstProf</td>\n",
       "      <td>3</td>\n",
       "      <td>91000</td>\n",
       "    </tr>\n",
       "    <tr>\n",
       "      <th>39</th>\n",
       "      <td>Prof</td>\n",
       "      <td>18</td>\n",
       "      <td>129000</td>\n",
       "    </tr>\n",
       "    <tr>\n",
       "      <th>40</th>\n",
       "      <td>Prof</td>\n",
       "      <td>36</td>\n",
       "      <td>137000</td>\n",
       "    </tr>\n",
       "  </tbody>\n",
       "</table>\n",
       "</div>"
      ],
      "text/plain": [
       "         rank  service  salary\n",
       "30  AssocProf        7  107008\n",
       "31       Prof       21  155750\n",
       "32       Prof       19  103275\n",
       "33       Prof       18  120000\n",
       "34  AssocProf        8  119800\n",
       "35       Prof       23  126933\n",
       "36       Prof       45  146856\n",
       "37       Prof        8  102000\n",
       "38   AsstProf        3   91000\n",
       "39       Prof       18  129000\n",
       "40       Prof       36  137000"
      ]
     },
     "execution_count": 238,
     "metadata": {},
     "output_type": "execute_result"
    }
   ],
   "source": [
    "print('Slicing a dataframe using loc')\n",
    "df.loc[30:40,['rank','service','salary']]"
   ]
  },
  {
   "cell_type": "code",
   "execution_count": 239,
   "metadata": {
    "colab": {
     "base_uri": "https://localhost:8080/"
    },
    "executionInfo": {
     "elapsed": 92,
     "status": "ok",
     "timestamp": 1712133299118,
     "user": {
      "displayName": "Veronica Guidetti",
      "userId": "09740737890451426215"
     },
     "user_tz": -120
    },
    "id": "bq7KdUs38dgm",
    "outputId": "22e02aad-edc3-4645-bdae-0c73c21f7965"
   },
   "outputs": [
    {
     "name": "stdout",
     "output_type": "stream",
     "text": [
      "Let us apply loc to a sub dataframe:\n",
      "    rank discipline  phd  service     sex  salary\n",
      "0   Prof          B   56       49    Male  186960\n",
      "3   Prof          A   40       31    Male  131205\n",
      "5   Prof          A   20       20    Male  122400\n",
      "7   Prof          A   18       18    Male  126300\n",
      "10  Prof          B   39       33    Male  128250\n",
      "11  Prof          B   23       23    Male  134778\n",
      "13  Prof          B   35       33    Male  162200\n",
      "14  Prof          B   25       19    Male  153750\n",
      "15  Prof          B   17        3    Male  150480\n",
      "19  Prof          A   29       27    Male  150500\n",
      "26  Prof          A   38       19    Male  148750\n",
      "27  Prof          A   45       43    Male  155865\n",
      "29  Prof          B   21       20    Male  123683\n",
      "31  Prof          B   22       21    Male  155750\n",
      "35  Prof          B   28       23    Male  126933\n",
      "36  Prof          B   45       45    Male  146856\n",
      "39  Prof          B   18       18  Female  129000\n",
      "40  Prof          A   39       36  Female  137000\n",
      "44  Prof          B   23       19  Female  151768\n",
      "45  Prof          B   25       25  Female  140096\n",
      "Note that loc slicing refers only to index values! It is not linked to row positions in the dataframe! \n",
      "\n",
      "    rank  salary\n",
      "10  Prof  128250\n",
      "11  Prof  134778\n",
      "13  Prof  162200\n",
      "14  Prof  153750\n",
      "15  Prof  150480\n",
      "19  Prof  150500\n"
     ]
    }
   ],
   "source": [
    "print('Let us apply loc to a sub dataframe:')\n",
    "df_sub = df[df['salary'] > 120000]\n",
    "print(df_sub.head(20))\n",
    "\n",
    "print('Note that loc slicing refers only to index values! It is not linked to row positions in the dataframe! \\n')\n",
    "print(df_sub.loc[10:20,['rank','salary']]) ##note that the first entry in the loc method refers to the index "
   ]
  },
  {
   "cell_type": "code",
   "execution_count": 240,
   "metadata": {
    "colab": {
     "base_uri": "https://localhost:8080/",
     "height": 142
    },
    "executionInfo": {
     "elapsed": 87,
     "status": "ok",
     "timestamp": 1712133299119,
     "user": {
      "displayName": "Veronica Guidetti",
      "userId": "09740737890451426215"
     },
     "user_tz": -120
    },
    "id": "eCSqIZO28wb1",
    "outputId": "af8f7c84-b852-43ce-94ca-57f2fd1c401c"
   },
   "outputs": [
    {
     "name": "stdout",
     "output_type": "stream",
     "text": [
      "Let us now apply iloc slicing to the dataframe\n",
      "   rank discipline  phd\n",
      "0  Prof          B   56\n",
      "1  Prof          A   12\n",
      "2  Prof          A   23\n",
      "\n",
      "As in the df the index values are increasing and continuous integer number, \n",
      "the result is equivalent to what we would obtain using the loc method\n"
     ]
    }
   ],
   "source": [
    "print('Let us now apply iloc slicing to the dataframe')\n",
    "print(df.iloc[:3,[0,1,2]]) #columns are called by their numerical id\n",
    "\n",
    "print('\\nAs in the df the index values are increasing and continuous integer number, \\nthe result is equivalent to what we would obtain using the loc method')"
   ]
  },
  {
   "cell_type": "code",
   "execution_count": 241,
   "metadata": {
    "colab": {
     "base_uri": "https://localhost:8080/",
     "height": 514
    },
    "executionInfo": {
     "elapsed": 3,
     "status": "ok",
     "timestamp": 1712133299385,
     "user": {
      "displayName": "Veronica Guidetti",
      "userId": "09740737890451426215"
     },
     "user_tz": -120
    },
    "id": "eINyiHKr68io",
    "outputId": "14057b0e-5ad4-42b0-9305-1a90e3c9b291"
   },
   "outputs": [
    {
     "name": "stdout",
     "output_type": "stream",
     "text": [
      "Let us now apply iloc on sub_df\n",
      "    rank discipline  phd\n",
      "26  Prof          A   38\n",
      "27  Prof          A   45\n",
      "29  Prof          B   21\n",
      "31  Prof          B   22\n",
      "35  Prof          B   28\n",
      "36  Prof          B   45\n",
      "39  Prof          B   18\n",
      "40  Prof          A   39\n",
      "44  Prof          B   23\n",
      "45  Prof          B   25\n",
      "49  Prof          B   17\n",
      "51  Prof          B   20\n",
      "58  Prof          B   36\n",
      "72  Prof          B   24\n",
      "75  Prof          B   17\n",
      "\n",
      "note that the first entry in the iloc method refers to the record position, not to the index!\n"
     ]
    }
   ],
   "source": [
    "print('Let us now apply iloc on sub_df')\n",
    "\n",
    "print(df_sub.iloc[10:30,[0,1,2]])\n",
    "\n",
    "print('\\nnote that the first entry in the iloc method refers to the record position, not to the index!')\n"
   ]
  },
  {
   "cell_type": "markdown",
   "metadata": {},
   "source": [
    "---"
   ]
  },
  {
   "cell_type": "markdown",
   "metadata": {
    "id": "swLSX60v9Sci"
   },
   "source": [
    "## Aggregate:"
   ]
  },
  {
   "cell_type": "code",
   "execution_count": 242,
   "metadata": {},
   "outputs": [
    {
     "data": {
      "text/plain": [
       "min      57800\n",
       "sum    8425855\n",
       "max     186960\n",
       "Name: salary, dtype: int64"
      ]
     },
     "execution_count": 242,
     "metadata": {},
     "output_type": "execute_result"
    }
   ],
   "source": [
    "df['salary'].agg(['min', 'sum', 'max'])"
   ]
  },
  {
   "cell_type": "code",
   "execution_count": 267,
   "metadata": {},
   "outputs": [
    {
     "name": "stdout",
     "output_type": "stream",
     "text": [
      "   salary  dollar\n",
      "0  1000.0  1140.0\n",
      "1  2000.0  2280.0\n",
      "2  3000.0  3420.0\n"
     ]
    }
   ],
   "source": [
    "lambda_test = pd.DataFrame({'salary': [1000.0, 2000.0, 3000.0]})\n",
    "lambda_test['dollar'] = lambda_test['salary'].map(lambda x:x*1.14)\n",
    "\n",
    "print(lambda_test.head())"
   ]
  },
  {
   "cell_type": "code",
   "execution_count": 269,
   "metadata": {},
   "outputs": [
    {
     "name": "stdout",
     "output_type": "stream",
     "text": [
      "0     186960\n",
      "1      93000\n",
      "2     110515\n",
      "3     131205\n",
      "4     104800\n",
      "       ...  \n",
      "73    105450\n",
      "74    104542\n",
      "75    124312\n",
      "76    109954\n",
      "77    109646\n",
      "Length: 78, dtype: int64\n"
     ]
    }
   ],
   "source": [
    "numeric_columns=['salary']\n",
    "print(df[numeric_columns].sum(axis=1, skipna=True))"
   ]
  },
  {
   "cell_type": "code",
   "execution_count": 146,
   "metadata": {
    "colab": {
     "base_uri": "https://localhost:8080/",
     "height": 1000
    },
    "executionInfo": {
     "elapsed": 10,
     "status": "ok",
     "timestamp": 1712133300230,
     "user": {
      "displayName": "Veronica Guidetti",
      "userId": "09740737890451426215"
     },
     "user_tz": -120
    },
    "id": "CblqS71UIedY",
    "outputId": "a6be02d3-8763-436a-b491-db23a3ef2d02"
   },
   "outputs": [
    {
     "name": "stdout",
     "output_type": "stream",
     "text": [
      "print sum of colum values per row\n",
      "\n",
      "0     187065\n",
      "1      93018\n",
      "2     110558\n",
      "3     131276\n",
      "4     104838\n",
      "       ...  \n",
      "73    105478\n",
      "74    104567\n",
      "75    124346\n",
      "76    109996\n",
      "77    109684\n",
      "Length: 78, dtype: int64 \n",
      "\n",
      "print the average column values\n",
      "\n",
      "phd            19.705128\n",
      "service        15.051282\n",
      "salary     108023.782051\n",
      "dtype: float64 \n",
      "\n",
      "Print the standard deviation of the salary column values\n",
      "\n",
      "salary    28293.661022\n",
      "dtype: float64\n",
      "Print the standardized salary using zscore formula (value-mean)/std:\n",
      "\n",
      "      salary\n",
      "0   2.789891\n",
      "1  -0.530995\n",
      "2   0.088049\n",
      "3   0.819308\n",
      "4  -0.113940\n",
      "..       ...\n",
      "73 -0.090967\n",
      "74 -0.123059\n",
      "75  0.575684\n",
      "76  0.068221\n",
      "77  0.057335\n",
      "\n",
      "[78 rows x 1 columns]\n",
      "Add the standardized salary to df:\n",
      "\n"
     ]
    },
    {
     "data": {
      "text/html": [
       "<div>\n",
       "<style scoped>\n",
       "    .dataframe tbody tr th:only-of-type {\n",
       "        vertical-align: middle;\n",
       "    }\n",
       "\n",
       "    .dataframe tbody tr th {\n",
       "        vertical-align: top;\n",
       "    }\n",
       "\n",
       "    .dataframe thead th {\n",
       "        text-align: right;\n",
       "    }\n",
       "</style>\n",
       "<table border=\"1\" class=\"dataframe\">\n",
       "  <thead>\n",
       "    <tr style=\"text-align: right;\">\n",
       "      <th></th>\n",
       "      <th>rank</th>\n",
       "      <th>discipline</th>\n",
       "      <th>phd</th>\n",
       "      <th>service</th>\n",
       "      <th>sex</th>\n",
       "      <th>salary</th>\n",
       "      <th>std-salary</th>\n",
       "    </tr>\n",
       "  </thead>\n",
       "  <tbody>\n",
       "    <tr>\n",
       "      <th>0</th>\n",
       "      <td>Prof</td>\n",
       "      <td>B</td>\n",
       "      <td>56</td>\n",
       "      <td>49</td>\n",
       "      <td>Male</td>\n",
       "      <td>186960</td>\n",
       "      <td>2.789891</td>\n",
       "    </tr>\n",
       "    <tr>\n",
       "      <th>1</th>\n",
       "      <td>Prof</td>\n",
       "      <td>A</td>\n",
       "      <td>12</td>\n",
       "      <td>6</td>\n",
       "      <td>Male</td>\n",
       "      <td>93000</td>\n",
       "      <td>-0.530995</td>\n",
       "    </tr>\n",
       "    <tr>\n",
       "      <th>2</th>\n",
       "      <td>Prof</td>\n",
       "      <td>A</td>\n",
       "      <td>23</td>\n",
       "      <td>20</td>\n",
       "      <td>Male</td>\n",
       "      <td>110515</td>\n",
       "      <td>0.088049</td>\n",
       "    </tr>\n",
       "    <tr>\n",
       "      <th>3</th>\n",
       "      <td>Prof</td>\n",
       "      <td>A</td>\n",
       "      <td>40</td>\n",
       "      <td>31</td>\n",
       "      <td>Male</td>\n",
       "      <td>131205</td>\n",
       "      <td>0.819308</td>\n",
       "    </tr>\n",
       "    <tr>\n",
       "      <th>4</th>\n",
       "      <td>Prof</td>\n",
       "      <td>B</td>\n",
       "      <td>20</td>\n",
       "      <td>18</td>\n",
       "      <td>Male</td>\n",
       "      <td>104800</td>\n",
       "      <td>-0.113940</td>\n",
       "    </tr>\n",
       "  </tbody>\n",
       "</table>\n",
       "</div>"
      ],
      "text/plain": [
       "   rank discipline  phd  service   sex  salary  std-salary\n",
       "0  Prof          B   56       49  Male  186960    2.789891\n",
       "1  Prof          A   12        6  Male   93000   -0.530995\n",
       "2  Prof          A   23       20  Male  110515    0.088049\n",
       "3  Prof          A   40       31  Male  131205    0.819308\n",
       "4  Prof          B   20       18  Male  104800   -0.113940"
      ]
     },
     "execution_count": 146,
     "metadata": {},
     "output_type": "execute_result"
    }
   ],
   "source": [
    "numeric_columns=['phd','service','salary']\n",
    "\n",
    "print('print sum of colum values per row\\n')\n",
    "print(df[numeric_columns].sum(axis=1, skipna=True),'\\n')\n",
    "print('print the average column values\\n')\n",
    "print(df[numeric_columns].mean(),'\\n')\n",
    "print('Print the standard deviation of the salary column values\\n')\n",
    "df_s=df[['salary']]\n",
    "print(df_s.std())\n",
    "print('Print the standardized salary using zscore formula (value-mean)/std:\\n')\n",
    "ts_stand=(df_s-df_s.mean())/df_s.std()\n",
    "print(ts_stand)\n",
    "print('Add the standardized salary to df:\\n')\n",
    "df['std-salary']=ts_stand\n",
    "df.head()"
   ]
  },
  {
   "cell_type": "code",
   "execution_count": 147,
   "metadata": {
    "colab": {
     "base_uri": "https://localhost:8080/"
    },
    "executionInfo": {
     "elapsed": 7,
     "status": "ok",
     "timestamp": 1712133300230,
     "user": {
      "displayName": "Veronica Guidetti",
      "userId": "09740737890451426215"
     },
     "user_tz": -120
    },
    "id": "AlqXs6oGjnZf",
    "outputId": "54b9d3b3-896b-4e65-c29b-5b4bfa9b48a7"
   },
   "outputs": [
    {
     "name": "stdout",
     "output_type": "stream",
     "text": [
      "Print some selected statistics (sum,min,prod) on the salary column\n"
     ]
    },
    {
     "data": {
      "text/plain": [
       "sum     8425855\n",
       "min       57800\n",
       "prod          0\n",
       "Name: salary, dtype: int64"
      ]
     },
     "execution_count": 147,
     "metadata": {},
     "output_type": "execute_result"
    }
   ],
   "source": [
    "print('Print some selected statistics (sum,min,prod) on the salary column')\n",
    "\n",
    "df['salary'].agg(['sum','min','prod'])"
   ]
  },
  {
   "cell_type": "markdown",
   "metadata": {
    "id": "2b-_A7jV9bfl"
   },
   "source": [
    "## Map:"
   ]
  },
  {
   "cell_type": "code",
   "execution_count": 148,
   "metadata": {
    "colab": {
     "base_uri": "https://localhost:8080/"
    },
    "executionInfo": {
     "elapsed": 2,
     "status": "ok",
     "timestamp": 1712133301057,
     "user": {
      "displayName": "Veronica Guidetti",
      "userId": "09740737890451426215"
     },
     "user_tz": -120
    },
    "id": "25kkLwMzlH5O",
    "outputId": "77116a24-634f-4976-98c5-076a33f923b6"
   },
   "outputs": [
    {
     "name": "stdout",
     "output_type": "stream",
     "text": [
      "The sex column entries exhibit capital letters.\n",
      "0    Male\n",
      "1    Male\n",
      "2    Male\n",
      "3    Male\n",
      "4    Male\n",
      "Name: sex, dtype: object\n",
      "Format the column so that no capital letter appears.\n",
      "0    male\n",
      "1    male\n",
      "2    male\n",
      "3    male\n",
      "4    male\n",
      "Name: sex, dtype: object\n"
     ]
    }
   ],
   "source": [
    "print('The sex column entries exhibit capital letters.')\n",
    "print(df['sex'].head())\n",
    "print('Format the column so that no capital letter appears.')\n",
    "df['sex']=df['sex'].str.lower()\n",
    "print(df['sex'].head())"
   ]
  },
  {
   "cell_type": "code",
   "execution_count": 149,
   "metadata": {
    "colab": {
     "base_uri": "https://localhost:8080/",
     "height": 419
    },
    "executionInfo": {
     "elapsed": 4,
     "status": "ok",
     "timestamp": 1712133302087,
     "user": {
      "displayName": "Veronica Guidetti",
      "userId": "09740737890451426215"
     },
     "user_tz": -120
    },
    "id": "rCgvhqcu9eHR",
    "outputId": "1e24081b-99f1-402a-89ac-63492047474f"
   },
   "outputs": [
    {
     "name": "stdout",
     "output_type": "stream",
     "text": [
      "define a function converting salary values form euros to dollars\n"
     ]
    },
    {
     "data": {
      "text/html": [
       "<div>\n",
       "<style scoped>\n",
       "    .dataframe tbody tr th:only-of-type {\n",
       "        vertical-align: middle;\n",
       "    }\n",
       "\n",
       "    .dataframe tbody tr th {\n",
       "        vertical-align: top;\n",
       "    }\n",
       "\n",
       "    .dataframe thead th {\n",
       "        text-align: right;\n",
       "    }\n",
       "</style>\n",
       "<table border=\"1\" class=\"dataframe\">\n",
       "  <thead>\n",
       "    <tr style=\"text-align: right;\">\n",
       "      <th></th>\n",
       "      <th>rank</th>\n",
       "      <th>discipline</th>\n",
       "      <th>phd</th>\n",
       "      <th>service</th>\n",
       "      <th>sex</th>\n",
       "      <th>salary</th>\n",
       "      <th>std-salary</th>\n",
       "      <th>dollar</th>\n",
       "    </tr>\n",
       "  </thead>\n",
       "  <tbody>\n",
       "    <tr>\n",
       "      <th>0</th>\n",
       "      <td>Prof</td>\n",
       "      <td>B</td>\n",
       "      <td>56</td>\n",
       "      <td>49</td>\n",
       "      <td>male</td>\n",
       "      <td>186960</td>\n",
       "      <td>2.789891</td>\n",
       "      <td>200047.20</td>\n",
       "    </tr>\n",
       "    <tr>\n",
       "      <th>1</th>\n",
       "      <td>Prof</td>\n",
       "      <td>A</td>\n",
       "      <td>12</td>\n",
       "      <td>6</td>\n",
       "      <td>male</td>\n",
       "      <td>93000</td>\n",
       "      <td>-0.530995</td>\n",
       "      <td>99510.00</td>\n",
       "    </tr>\n",
       "    <tr>\n",
       "      <th>2</th>\n",
       "      <td>Prof</td>\n",
       "      <td>A</td>\n",
       "      <td>23</td>\n",
       "      <td>20</td>\n",
       "      <td>male</td>\n",
       "      <td>110515</td>\n",
       "      <td>0.088049</td>\n",
       "      <td>118251.05</td>\n",
       "    </tr>\n",
       "    <tr>\n",
       "      <th>3</th>\n",
       "      <td>Prof</td>\n",
       "      <td>A</td>\n",
       "      <td>40</td>\n",
       "      <td>31</td>\n",
       "      <td>male</td>\n",
       "      <td>131205</td>\n",
       "      <td>0.819308</td>\n",
       "      <td>140389.35</td>\n",
       "    </tr>\n",
       "    <tr>\n",
       "      <th>4</th>\n",
       "      <td>Prof</td>\n",
       "      <td>B</td>\n",
       "      <td>20</td>\n",
       "      <td>18</td>\n",
       "      <td>male</td>\n",
       "      <td>104800</td>\n",
       "      <td>-0.113940</td>\n",
       "      <td>112136.00</td>\n",
       "    </tr>\n",
       "    <tr>\n",
       "      <th>...</th>\n",
       "      <td>...</td>\n",
       "      <td>...</td>\n",
       "      <td>...</td>\n",
       "      <td>...</td>\n",
       "      <td>...</td>\n",
       "      <td>...</td>\n",
       "      <td>...</td>\n",
       "      <td>...</td>\n",
       "    </tr>\n",
       "    <tr>\n",
       "      <th>73</th>\n",
       "      <td>Prof</td>\n",
       "      <td>B</td>\n",
       "      <td>18</td>\n",
       "      <td>10</td>\n",
       "      <td>female</td>\n",
       "      <td>105450</td>\n",
       "      <td>-0.090967</td>\n",
       "      <td>112831.50</td>\n",
       "    </tr>\n",
       "    <tr>\n",
       "      <th>74</th>\n",
       "      <td>AssocProf</td>\n",
       "      <td>B</td>\n",
       "      <td>19</td>\n",
       "      <td>6</td>\n",
       "      <td>female</td>\n",
       "      <td>104542</td>\n",
       "      <td>-0.123059</td>\n",
       "      <td>111859.94</td>\n",
       "    </tr>\n",
       "    <tr>\n",
       "      <th>75</th>\n",
       "      <td>Prof</td>\n",
       "      <td>B</td>\n",
       "      <td>17</td>\n",
       "      <td>17</td>\n",
       "      <td>female</td>\n",
       "      <td>124312</td>\n",
       "      <td>0.575684</td>\n",
       "      <td>133013.84</td>\n",
       "    </tr>\n",
       "    <tr>\n",
       "      <th>76</th>\n",
       "      <td>Prof</td>\n",
       "      <td>A</td>\n",
       "      <td>28</td>\n",
       "      <td>14</td>\n",
       "      <td>female</td>\n",
       "      <td>109954</td>\n",
       "      <td>0.068221</td>\n",
       "      <td>117650.78</td>\n",
       "    </tr>\n",
       "    <tr>\n",
       "      <th>77</th>\n",
       "      <td>Prof</td>\n",
       "      <td>A</td>\n",
       "      <td>23</td>\n",
       "      <td>15</td>\n",
       "      <td>female</td>\n",
       "      <td>109646</td>\n",
       "      <td>0.057335</td>\n",
       "      <td>117321.22</td>\n",
       "    </tr>\n",
       "  </tbody>\n",
       "</table>\n",
       "<p>78 rows × 8 columns</p>\n",
       "</div>"
      ],
      "text/plain": [
       "         rank discipline  phd  service     sex  salary  std-salary     dollar\n",
       "0        Prof          B   56       49    male  186960    2.789891  200047.20\n",
       "1        Prof          A   12        6    male   93000   -0.530995   99510.00\n",
       "2        Prof          A   23       20    male  110515    0.088049  118251.05\n",
       "3        Prof          A   40       31    male  131205    0.819308  140389.35\n",
       "4        Prof          B   20       18    male  104800   -0.113940  112136.00\n",
       "..        ...        ...  ...      ...     ...     ...         ...        ...\n",
       "73       Prof          B   18       10  female  105450   -0.090967  112831.50\n",
       "74  AssocProf          B   19        6  female  104542   -0.123059  111859.94\n",
       "75       Prof          B   17       17  female  124312    0.575684  133013.84\n",
       "76       Prof          A   28       14  female  109954    0.068221  117650.78\n",
       "77       Prof          A   23       15  female  109646    0.057335  117321.22\n",
       "\n",
       "[78 rows x 8 columns]"
      ]
     },
     "execution_count": 149,
     "metadata": {},
     "output_type": "execute_result"
    }
   ],
   "source": [
    "def dollarConvert(x):\n",
    "  return x*1.07\n",
    "\n",
    "print('define a function converting salary values form euros to dollars')\n",
    "df['dollar']=df['salary'].map(dollarConvert)\n",
    "df"
   ]
  },
  {
   "cell_type": "markdown",
   "metadata": {
    "id": "f0OJEDcC9saE"
   },
   "source": [
    "## Group-by:"
   ]
  },
  {
   "cell_type": "code",
   "execution_count": 270,
   "metadata": {
    "colab": {
     "base_uri": "https://localhost:8080/"
    },
    "executionInfo": {
     "elapsed": 8,
     "status": "ok",
     "timestamp": 1712133303738,
     "user": {
      "displayName": "Veronica Guidetti",
      "userId": "09740737890451426215"
     },
     "user_tz": -120
    },
    "id": "gjFRCN6b9vKY",
    "outputId": "0fa99bc1-b0b7-4b22-94c2-b33125a9e74e"
   },
   "outputs": [
    {
     "name": "stdout",
     "output_type": "stream",
     "text": [
      "let us now group df records by rank\n",
      "after groupby clause the data type becomes -> <pandas.core.groupby.generic.DataFrameGroupBy object at 0x125d60050>\n",
      "\n",
      "The groups obtained correspond to unique rank values:\n",
      "{'AssocProf': [6, 30, 34, 41, 47, 54, 56, 59, 61, 62, 64, 71, 74], 'AsstProf': [12, 16, 17, 20, 22, 23, 28, 38, 42, 43, 46, 50, 53, 55, 57, 60, 66, 68, 70], 'Prof': [0, 1, 2, 3, 4, 5, 7, 8, 9, 10, 11, 13, 14, 15, 18, 19, 21, 24, 25, 26, 27, 29, 31, 32, 33, 35, 36, 37, 39, 40, 44, 45, 48, 49, 51, 52, 58, 63, 65, 67, 69, 72, 73, 75, 76, 77]}\n",
      "\n",
      "After grouping we can compute aggregate measures on each group. \n",
      "Let us compute the mean values on numerical column.\n",
      "\n",
      "Index(['phd', 'service', 'salary'], dtype='object')\n",
      "Meean salary for group: rank\n",
      "AssocProf     91786.230769\n",
      "AsstProf      81362.789474\n",
      "Prof         123624.804348\n",
      "Name: salary, dtype: float64\n",
      "                 phd    service         salary\n",
      "rank                                          \n",
      "AssocProf  15.076923  11.307692   91786.230769\n",
      "AsstProf    5.052632   2.210526   81362.789474\n",
      "Prof       27.065217  21.413043  123624.804348\n",
      "\n",
      "mean salary:\n",
      "\n",
      "rank\n",
      "AssocProf     91786.230769\n",
      "AsstProf      81362.789474\n",
      "Prof         123624.804348\n",
      "Name: salary, dtype: float64\n"
     ]
    }
   ],
   "source": [
    "print('let us now group df records by rank')\n",
    "df_rank=df.groupby(['rank'])\n",
    "print(f'after groupby clause the data type becomes -> {df_rank}')\n",
    "\n",
    "print('\\nThe groups obtained correspond to unique rank values:')\n",
    "print(df_rank.groups) #to use '.groups' it has to be a < broupby.generic.DataFrameGroupBy Object >\n",
    "\n",
    "print('\\nAfter grouping we can compute aggregate measures on each group. \\nLet us compute the mean values on numerical column.\\n')\n",
    "numeric_cols = df.select_dtypes(include=['number']).columns\n",
    "print(numeric_cols)\n",
    "print(f'Meean salary for group: {df_rank[\"salary\"].mean()}')\n",
    "print(df_rank[numeric_cols].mean())\n",
    "print(f'\\nmean salary:\\n\\n{df_rank['salary'].mean()}')"
   ]
  },
  {
   "cell_type": "code",
   "execution_count": 272,
   "metadata": {},
   "outputs": [
    {
     "data": {
      "text/plain": [
       "rank       sex   \n",
       "AssocProf  Female     88512.800000\n",
       "           Male      102697.666667\n",
       "AsstProf   Female     78049.909091\n",
       "           Male       85918.000000\n",
       "Prof       Female    121967.611111\n",
       "           Male      124690.142857\n",
       "Name: salary, dtype: float64"
      ]
     },
     "execution_count": 272,
     "metadata": {},
     "output_type": "execute_result"
    }
   ],
   "source": [
    "# group by rank and sex and compute avg salary \n",
    "df_rank_sex = df.groupby(['rank','sex'])\n",
    "df_rank_sex.groups\n",
    "\n",
    "df_rank_sex['salary'].mean()"
   ]
  },
  {
   "cell_type": "markdown",
   "metadata": {
    "id": "kFl3Sn9IN6zk"
   },
   "source": [
    "## Concat:"
   ]
  },
  {
   "cell_type": "code",
   "execution_count": 273,
   "metadata": {
    "colab": {
     "base_uri": "https://localhost:8080/",
     "height": 703
    },
    "executionInfo": {
     "elapsed": 7,
     "status": "ok",
     "timestamp": 1712133303738,
     "user": {
      "displayName": "Veronica Guidetti",
      "userId": "09740737890451426215"
     },
     "user_tz": -120
    },
    "id": "ESYrXalW-L2_",
    "outputId": "62f0d06a-c41b-4fc5-c7e2-0a817d369d9e"
   },
   "outputs": [
    {
     "name": "stdout",
     "output_type": "stream",
     "text": [
      "Let us now introduce df1, a new dataframe with few records\n",
      "\n",
      "\n",
      "df og:\n",
      "   rank discipline  phd  service   sex  salary\n",
      "0  Prof          B   56       49  Male  186960\n",
      "1  Prof          A   12        6  Male   93000\n",
      "2  Prof          A   23       20  Male  110515\n",
      "3  Prof          A   40       31  Male  131205\n",
      "4  Prof          B   20       18  Male  104800\n",
      "\n",
      "\n",
      "\n",
      "        rank     salary\n",
      "0  AssocProf   91786.23\n",
      "1       Prof  123624.80\n",
      "2   AsstProf   81362.78\n",
      "\n",
      "\n",
      "Use default concatenation of df and df1:\n",
      "         rank discipline   phd  service     sex     salary\n",
      "0        Prof          B  56.0     49.0    Male  186960.00\n",
      "1        Prof          A  12.0      6.0    Male   93000.00\n",
      "2        Prof          A  23.0     20.0    Male  110515.00\n",
      "3        Prof          A  40.0     31.0    Male  131205.00\n",
      "4        Prof          B  20.0     18.0    Male  104800.00\n",
      "..        ...        ...   ...      ...     ...        ...\n",
      "76       Prof          A  28.0     14.0  Female  109954.00\n",
      "77       Prof          A  23.0     15.0  Female  109646.00\n",
      "0   AssocProf        NaN   NaN      NaN     NaN   91786.23\n",
      "1        Prof        NaN   NaN      NaN     NaN  123624.80\n",
      "2    AsstProf        NaN   NaN      NaN     NaN   81362.78\n",
      "\n",
      "[81 rows x 6 columns]\n",
      "Mind that indices keep their original values! It would be better to reinitialize the index.\n",
      "         rank discipline   phd  service     sex     salary\n",
      "0        Prof          B  56.0     49.0    Male  186960.00\n",
      "1        Prof          A  12.0      6.0    Male   93000.00\n",
      "2        Prof          A  23.0     20.0    Male  110515.00\n",
      "3        Prof          A  40.0     31.0    Male  131205.00\n",
      "4        Prof          B  20.0     18.0    Male  104800.00\n",
      "..        ...        ...   ...      ...     ...        ...\n",
      "76       Prof          A  28.0     14.0  Female  109954.00\n",
      "77       Prof          A  23.0     15.0  Female  109646.00\n",
      "78  AssocProf        NaN   NaN      NaN     NaN   91786.23\n",
      "79       Prof        NaN   NaN      NaN     NaN  123624.80\n",
      "80   AsstProf        NaN   NaN      NaN     NaN   81362.78\n",
      "\n",
      "[81 rows x 6 columns]\n"
     ]
    }
   ],
   "source": [
    "print('Let us now introduce df1, a new dataframe with few records')\n",
    "df1=pd.DataFrame({'rank':['AssocProf','Prof','AsstProf'],'salary':[91786.23,123624.80,81362.78]})\n",
    "\n",
    "print(f'\\n\\ndf og:')\n",
    "print(df.head(5))\n",
    "print(f'\\n\\n')\n",
    "print(df1)\n",
    "\n",
    "\n",
    "print('\\n\\nUse default concatenation of df and df1:')\n",
    "df_u=pd.concat([df,df1]) #index=0, join='outer'\n",
    "print(df_u)\n",
    "print('Mind that indices keep their original values! It would be better to reinitialize the index.')\n",
    "print(df_u.reset_index(drop=True))\n"
   ]
  },
  {
   "cell_type": "code",
   "execution_count": 275,
   "metadata": {},
   "outputs": [
    {
     "name": "stdout",
     "output_type": "stream",
     "text": [
      "\n",
      "\n",
      "What happens if we concatenate columns and use inner join?\n",
      "   rank discipline  phd  service   sex  salary       rank     salary\n",
      "0  Prof          B   56       49  Male  186960  AssocProf   91786.23\n",
      "1  Prof          A   12        6  Male   93000       Prof  123624.80\n",
      "2  Prof          A   23       20  Male  110515   AsstProf   81362.78\n",
      "It searches for records having the same index values and concatenates them.\n",
      "Columns with the same name but different entries are duplicated.\n"
     ]
    }
   ],
   "source": [
    "print('\\n\\nWhat happens if we concatenate columns and use inner join?')\n",
    "df_j=pd.concat([df,df1],axis=1,join='inner')\n",
    "print(df_j)\n",
    "print('It searches for records having the same index values and concatenates them.\\nColumns with the same name but different entries are duplicated.')"
   ]
  },
  {
   "cell_type": "markdown",
   "metadata": {
    "id": "KnXBGUsR-7pE"
   },
   "source": [
    "## Merge:"
   ]
  },
  {
   "cell_type": "code",
   "execution_count": 166,
   "metadata": {
    "colab": {
     "base_uri": "https://localhost:8080/",
     "height": 419
    },
    "executionInfo": {
     "elapsed": 4,
     "status": "ok",
     "timestamp": 1712133304183,
     "user": {
      "displayName": "Veronica Guidetti",
      "userId": "09740737890451426215"
     },
     "user_tz": -120
    },
    "id": "ns6eGbbd-9sn",
    "outputId": "95394da1-18ae-4671-d1f8-0c205447d591"
   },
   "outputs": [
    {
     "name": "stdout",
     "output_type": "stream",
     "text": [
      "  discipline       description\n",
      "0          A  computer science\n",
      "1          B              math\n",
      "   rank discipline  phd  service   sex  salary  std-salary    dollar\n",
      "0  Prof          B   56       49  male  186960    2.789891  200047.2\n"
     ]
    },
    {
     "data": {
      "text/html": [
       "<div>\n",
       "<style scoped>\n",
       "    .dataframe tbody tr th:only-of-type {\n",
       "        vertical-align: middle;\n",
       "    }\n",
       "\n",
       "    .dataframe tbody tr th {\n",
       "        vertical-align: top;\n",
       "    }\n",
       "\n",
       "    .dataframe thead th {\n",
       "        text-align: right;\n",
       "    }\n",
       "</style>\n",
       "<table border=\"1\" class=\"dataframe\">\n",
       "  <thead>\n",
       "    <tr style=\"text-align: right;\">\n",
       "      <th></th>\n",
       "      <th>rank</th>\n",
       "      <th>discipline</th>\n",
       "      <th>phd</th>\n",
       "      <th>service</th>\n",
       "      <th>sex</th>\n",
       "      <th>salary</th>\n",
       "      <th>std-salary</th>\n",
       "      <th>dollar</th>\n",
       "      <th>description</th>\n",
       "    </tr>\n",
       "  </thead>\n",
       "  <tbody>\n",
       "    <tr>\n",
       "      <th>0</th>\n",
       "      <td>Prof</td>\n",
       "      <td>B</td>\n",
       "      <td>56</td>\n",
       "      <td>49</td>\n",
       "      <td>male</td>\n",
       "      <td>186960</td>\n",
       "      <td>2.789891</td>\n",
       "      <td>200047.20</td>\n",
       "      <td>math</td>\n",
       "    </tr>\n",
       "    <tr>\n",
       "      <th>1</th>\n",
       "      <td>Prof</td>\n",
       "      <td>A</td>\n",
       "      <td>12</td>\n",
       "      <td>6</td>\n",
       "      <td>male</td>\n",
       "      <td>93000</td>\n",
       "      <td>-0.530995</td>\n",
       "      <td>99510.00</td>\n",
       "      <td>computer science</td>\n",
       "    </tr>\n",
       "    <tr>\n",
       "      <th>2</th>\n",
       "      <td>Prof</td>\n",
       "      <td>A</td>\n",
       "      <td>23</td>\n",
       "      <td>20</td>\n",
       "      <td>male</td>\n",
       "      <td>110515</td>\n",
       "      <td>0.088049</td>\n",
       "      <td>118251.05</td>\n",
       "      <td>computer science</td>\n",
       "    </tr>\n",
       "    <tr>\n",
       "      <th>3</th>\n",
       "      <td>Prof</td>\n",
       "      <td>A</td>\n",
       "      <td>40</td>\n",
       "      <td>31</td>\n",
       "      <td>male</td>\n",
       "      <td>131205</td>\n",
       "      <td>0.819308</td>\n",
       "      <td>140389.35</td>\n",
       "      <td>computer science</td>\n",
       "    </tr>\n",
       "    <tr>\n",
       "      <th>4</th>\n",
       "      <td>Prof</td>\n",
       "      <td>B</td>\n",
       "      <td>20</td>\n",
       "      <td>18</td>\n",
       "      <td>male</td>\n",
       "      <td>104800</td>\n",
       "      <td>-0.113940</td>\n",
       "      <td>112136.00</td>\n",
       "      <td>math</td>\n",
       "    </tr>\n",
       "    <tr>\n",
       "      <th>...</th>\n",
       "      <td>...</td>\n",
       "      <td>...</td>\n",
       "      <td>...</td>\n",
       "      <td>...</td>\n",
       "      <td>...</td>\n",
       "      <td>...</td>\n",
       "      <td>...</td>\n",
       "      <td>...</td>\n",
       "      <td>...</td>\n",
       "    </tr>\n",
       "    <tr>\n",
       "      <th>73</th>\n",
       "      <td>Prof</td>\n",
       "      <td>B</td>\n",
       "      <td>18</td>\n",
       "      <td>10</td>\n",
       "      <td>female</td>\n",
       "      <td>105450</td>\n",
       "      <td>-0.090967</td>\n",
       "      <td>112831.50</td>\n",
       "      <td>math</td>\n",
       "    </tr>\n",
       "    <tr>\n",
       "      <th>74</th>\n",
       "      <td>AssocProf</td>\n",
       "      <td>B</td>\n",
       "      <td>19</td>\n",
       "      <td>6</td>\n",
       "      <td>female</td>\n",
       "      <td>104542</td>\n",
       "      <td>-0.123059</td>\n",
       "      <td>111859.94</td>\n",
       "      <td>math</td>\n",
       "    </tr>\n",
       "    <tr>\n",
       "      <th>75</th>\n",
       "      <td>Prof</td>\n",
       "      <td>B</td>\n",
       "      <td>17</td>\n",
       "      <td>17</td>\n",
       "      <td>female</td>\n",
       "      <td>124312</td>\n",
       "      <td>0.575684</td>\n",
       "      <td>133013.84</td>\n",
       "      <td>math</td>\n",
       "    </tr>\n",
       "    <tr>\n",
       "      <th>76</th>\n",
       "      <td>Prof</td>\n",
       "      <td>A</td>\n",
       "      <td>28</td>\n",
       "      <td>14</td>\n",
       "      <td>female</td>\n",
       "      <td>109954</td>\n",
       "      <td>0.068221</td>\n",
       "      <td>117650.78</td>\n",
       "      <td>computer science</td>\n",
       "    </tr>\n",
       "    <tr>\n",
       "      <th>77</th>\n",
       "      <td>Prof</td>\n",
       "      <td>A</td>\n",
       "      <td>23</td>\n",
       "      <td>15</td>\n",
       "      <td>female</td>\n",
       "      <td>109646</td>\n",
       "      <td>0.057335</td>\n",
       "      <td>117321.22</td>\n",
       "      <td>computer science</td>\n",
       "    </tr>\n",
       "  </tbody>\n",
       "</table>\n",
       "<p>78 rows × 9 columns</p>\n",
       "</div>"
      ],
      "text/plain": [
       "         rank discipline  phd  service     sex  salary  std-salary     dollar  \\\n",
       "0        Prof          B   56       49    male  186960    2.789891  200047.20   \n",
       "1        Prof          A   12        6    male   93000   -0.530995   99510.00   \n",
       "2        Prof          A   23       20    male  110515    0.088049  118251.05   \n",
       "3        Prof          A   40       31    male  131205    0.819308  140389.35   \n",
       "4        Prof          B   20       18    male  104800   -0.113940  112136.00   \n",
       "..        ...        ...  ...      ...     ...     ...         ...        ...   \n",
       "73       Prof          B   18       10  female  105450   -0.090967  112831.50   \n",
       "74  AssocProf          B   19        6  female  104542   -0.123059  111859.94   \n",
       "75       Prof          B   17       17  female  124312    0.575684  133013.84   \n",
       "76       Prof          A   28       14  female  109954    0.068221  117650.78   \n",
       "77       Prof          A   23       15  female  109646    0.057335  117321.22   \n",
       "\n",
       "         description  \n",
       "0               math  \n",
       "1   computer science  \n",
       "2   computer science  \n",
       "3   computer science  \n",
       "4               math  \n",
       "..               ...  \n",
       "73              math  \n",
       "74              math  \n",
       "75              math  \n",
       "76  computer science  \n",
       "77  computer science  \n",
       "\n",
       "[78 rows x 9 columns]"
      ]
     },
     "execution_count": 166,
     "metadata": {},
     "output_type": "execute_result"
    }
   ],
   "source": [
    "df2=pd.DataFrame({'discipline':['A','B'], 'description':['computer science','math']})\n",
    "print(df2)\n",
    "print(df.head(1))\n",
    "df_d=pd.merge(df,df2)\n",
    "df_d"
   ]
  },
  {
   "cell_type": "code",
   "execution_count": 281,
   "metadata": {},
   "outputs": [
    {
     "name": "stdout",
     "output_type": "stream",
     "text": [
      "        rank  salary department\n",
      "0       Prof  110000         CS\n",
      "1  AssocProf   90000       Math\n",
      "       rank  salary  age\n",
      "0      Prof  100000   45\n",
      "1  AsstProf   80000   35\n"
     ]
    },
    {
     "data": {
      "text/html": [
       "<div>\n",
       "<style scoped>\n",
       "    .dataframe tbody tr th:only-of-type {\n",
       "        vertical-align: middle;\n",
       "    }\n",
       "\n",
       "    .dataframe tbody tr th {\n",
       "        vertical-align: top;\n",
       "    }\n",
       "\n",
       "    .dataframe thead th {\n",
       "        text-align: right;\n",
       "    }\n",
       "</style>\n",
       "<table border=\"1\" class=\"dataframe\">\n",
       "  <thead>\n",
       "    <tr style=\"text-align: right;\">\n",
       "      <th></th>\n",
       "      <th>rank</th>\n",
       "      <th>salary</th>\n",
       "      <th>department</th>\n",
       "      <th>age</th>\n",
       "    </tr>\n",
       "  </thead>\n",
       "  <tbody>\n",
       "    <tr>\n",
       "      <th>0</th>\n",
       "      <td>AssocProf</td>\n",
       "      <td>90000</td>\n",
       "      <td>Math</td>\n",
       "      <td>NaN</td>\n",
       "    </tr>\n",
       "    <tr>\n",
       "      <th>1</th>\n",
       "      <td>AsstProf</td>\n",
       "      <td>80000</td>\n",
       "      <td>NaN</td>\n",
       "      <td>35.0</td>\n",
       "    </tr>\n",
       "    <tr>\n",
       "      <th>2</th>\n",
       "      <td>Prof</td>\n",
       "      <td>100000</td>\n",
       "      <td>NaN</td>\n",
       "      <td>45.0</td>\n",
       "    </tr>\n",
       "    <tr>\n",
       "      <th>3</th>\n",
       "      <td>Prof</td>\n",
       "      <td>110000</td>\n",
       "      <td>CS</td>\n",
       "      <td>NaN</td>\n",
       "    </tr>\n",
       "  </tbody>\n",
       "</table>\n",
       "</div>"
      ],
      "text/plain": [
       "        rank  salary department   age\n",
       "0  AssocProf   90000       Math   NaN\n",
       "1   AsstProf   80000        NaN  35.0\n",
       "2       Prof  100000        NaN  45.0\n",
       "3       Prof  110000         CS   NaN"
      ]
     },
     "execution_count": 281,
     "metadata": {},
     "output_type": "execute_result"
    }
   ],
   "source": [
    "df1 = pd.DataFrame({\n",
    "    'rank': ['Prof', 'AssocProf'],\n",
    "    'salary': [110000, 90000],\n",
    "    'department': ['CS', 'Math']\n",
    "})\n",
    "\n",
    "# DataFrame 2\n",
    "df2 = pd.DataFrame({\n",
    "    'rank': ['Prof', 'AsstProf'],\n",
    "    'salary': [100000, 80000],\n",
    "    'age': [45, 35]\n",
    "})\n",
    "\n",
    "print(df1)\n",
    "print(df2)\n",
    "\n",
    "result_merge = pd.merge(df1,df2,how='outer')\n",
    "result_merge"
   ]
  },
  {
   "cell_type": "markdown",
   "metadata": {
    "id": "hlPAgRYQ_RLH"
   },
   "source": [
    "### Sorting:"
   ]
  },
  {
   "cell_type": "code",
   "execution_count": 167,
   "metadata": {
    "colab": {
     "base_uri": "https://localhost:8080/"
    },
    "executionInfo": {
     "elapsed": 12,
     "status": "ok",
     "timestamp": 1712133305645,
     "user": {
      "displayName": "Veronica Guidetti",
      "userId": "09740737890451426215"
     },
     "user_tz": -120
    },
    "id": "ngH5Yvzd_FOz",
    "outputId": "8c434112-852c-4772-f6d7-79dca0f9e746"
   },
   "outputs": [
    {
     "name": "stdout",
     "output_type": "stream",
     "text": [
      "Sort values by service\n",
      "        rank discipline  phd  service     sex  salary  std-salary   dollar\n",
      "55  AsstProf          A    2        0  female   72500   -1.255539  77575.0\n",
      "23  AsstProf          A    2        0    male   85000   -0.813743  90950.0\n",
      "43  AsstProf          B    5        0  female   77000   -1.096492  82390.0\n",
      "17  AsstProf          B    4        0    male   92000   -0.566338  98440.0\n",
      "12  AsstProf          B    1        0    male   88000   -0.707713  94160.0\n",
      "Sort values by discipline and service\n",
      "        rank discipline  phd  service     sex  salary  std-salary    dollar\n",
      "23  AsstProf          A    2        0    male   85000   -0.813743   90950.0\n",
      "52      Prof          A   12        0  female  105000   -0.106871  112350.0\n",
      "55  AsstProf          A    2        0  female   72500   -1.255539   77575.0\n",
      "57  AsstProf          A    3        1  female   72500   -1.255539   77575.0\n",
      "22  AsstProf          A    4        2    male   73000   -1.237867   78110.0\n"
     ]
    }
   ],
   "source": [
    "print(\"Sort values by service\")\n",
    "df_sorted=df.sort_values(by=['service'])\n",
    "print(df_sorted.head())\n",
    "\n",
    "print(\"Sort values by discipline and service\")\n",
    "df_double_sorted=df.sort_values(by=['discipline','service'])\n",
    "print(df_double_sorted.head())"
   ]
  },
  {
   "cell_type": "markdown",
   "metadata": {
    "id": "zsmu7UTFKdFV"
   },
   "source": [
    "## Hands on SALARIES (slide 53)\n",
    "\n",
    "*  Given the dataset df_2 defined below, merge df and df_2 keeping record union (outer).\n",
    "\n",
    "*  How many nans in the dataset?\n",
    "\n",
    "*  Drop rows containing nan values\n",
    "\n",
    "*  Sort values according to discipline and Dept\n",
    "\n",
    "*  Compute the average distribution of Females anf Males in the three Departments.\n",
    "\n",
    "\n"
   ]
  },
  {
   "cell_type": "code",
   "execution_count": 283,
   "metadata": {
    "id": "47VjGicnKa4b"
   },
   "outputs": [
    {
     "name": "stdout",
     "output_type": "stream",
     "text": [
      "43\n"
     ]
    },
    {
     "data": {
      "text/html": [
       "<div>\n",
       "<style scoped>\n",
       "    .dataframe tbody tr th:only-of-type {\n",
       "        vertical-align: middle;\n",
       "    }\n",
       "\n",
       "    .dataframe tbody tr th {\n",
       "        vertical-align: top;\n",
       "    }\n",
       "\n",
       "    .dataframe thead th {\n",
       "        text-align: right;\n",
       "    }\n",
       "</style>\n",
       "<table border=\"1\" class=\"dataframe\">\n",
       "  <thead>\n",
       "    <tr style=\"text-align: right;\">\n",
       "      <th></th>\n",
       "      <th>rank</th>\n",
       "      <th>phd</th>\n",
       "      <th>salary</th>\n",
       "      <th>Dept</th>\n",
       "    </tr>\n",
       "  </thead>\n",
       "  <tbody>\n",
       "    <tr>\n",
       "      <th>37</th>\n",
       "      <td>Prof</td>\n",
       "      <td>20</td>\n",
       "      <td>102000</td>\n",
       "      <td>Math</td>\n",
       "    </tr>\n",
       "    <tr>\n",
       "      <th>35</th>\n",
       "      <td>Prof</td>\n",
       "      <td>28</td>\n",
       "      <td>126933</td>\n",
       "      <td>Math</td>\n",
       "    </tr>\n",
       "    <tr>\n",
       "      <th>26</th>\n",
       "      <td>Prof</td>\n",
       "      <td>38</td>\n",
       "      <td>148750</td>\n",
       "      <td>Phys</td>\n",
       "    </tr>\n",
       "    <tr>\n",
       "      <th>54</th>\n",
       "      <td>AssocProf</td>\n",
       "      <td>25</td>\n",
       "      <td>62884</td>\n",
       "      <td>Phys</td>\n",
       "    </tr>\n",
       "    <tr>\n",
       "      <th>41</th>\n",
       "      <td>AssocProf</td>\n",
       "      <td>13</td>\n",
       "      <td>74830</td>\n",
       "      <td>Math</td>\n",
       "    </tr>\n",
       "  </tbody>\n",
       "</table>\n",
       "</div>"
      ],
      "text/plain": [
       "         rank  phd  salary  Dept\n",
       "37       Prof   20  102000  Math\n",
       "35       Prof   28  126933  Math\n",
       "26       Prof   38  148750  Phys\n",
       "54  AssocProf   25   62884  Phys\n",
       "41  AssocProf   13   74830  Math"
      ]
     },
     "execution_count": 283,
     "metadata": {},
     "output_type": "execute_result"
    }
   ],
   "source": [
    "import numpy as np\n",
    "import random\n",
    "\n",
    "r=random.randint(20,70)\n",
    "\n",
    "# crea un <class 'numpy.ndarray'>\n",
    "dept=np.random.choice(['Math','CS','Phys'],r)\n",
    "print(r)\n",
    "# sample(r) prende r righe dal df per campionarle\n",
    "# copy() crea una copia del df (per evitare sovrascritture)\n",
    "df_2=df[['rank','phd','salary']].sample(r).copy()\n",
    "df_2['Dept']=dept\n",
    "df_2.head(5)"
   ]
  },
  {
   "cell_type": "code",
   "execution_count": 291,
   "metadata": {},
   "outputs": [
    {
     "name": "stdout",
     "output_type": "stream",
     "text": [
      "testing in the small\n",
      "\n",
      "OG:\n",
      "   rank discipline  phd  service   sex  salary\n",
      "0  Prof          B   56       49  Male  186960\n",
      "1  Prof          A   12        6  Male   93000\n",
      "\n",
      "\n",
      "Df2:\n",
      "    rank  phd  salary  Dept\n",
      "37  Prof   20  102000  Math\n",
      "35  Prof   28  126933  Math\n",
      "\n"
     ]
    },
    {
     "data": {
      "text/html": [
       "<div>\n",
       "<style scoped>\n",
       "    .dataframe tbody tr th:only-of-type {\n",
       "        vertical-align: middle;\n",
       "    }\n",
       "\n",
       "    .dataframe tbody tr th {\n",
       "        vertical-align: top;\n",
       "    }\n",
       "\n",
       "    .dataframe thead th {\n",
       "        text-align: right;\n",
       "    }\n",
       "</style>\n",
       "<table border=\"1\" class=\"dataframe\">\n",
       "  <thead>\n",
       "    <tr style=\"text-align: right;\">\n",
       "      <th></th>\n",
       "      <th>rank</th>\n",
       "      <th>discipline</th>\n",
       "      <th>phd</th>\n",
       "      <th>service</th>\n",
       "      <th>sex</th>\n",
       "      <th>salary</th>\n",
       "      <th>Dept</th>\n",
       "    </tr>\n",
       "  </thead>\n",
       "  <tbody>\n",
       "    <tr>\n",
       "      <th>0</th>\n",
       "      <td>Prof</td>\n",
       "      <td>A</td>\n",
       "      <td>12</td>\n",
       "      <td>6.0</td>\n",
       "      <td>Male</td>\n",
       "      <td>93000</td>\n",
       "      <td>NaN</td>\n",
       "    </tr>\n",
       "    <tr>\n",
       "      <th>1</th>\n",
       "      <td>Prof</td>\n",
       "      <td>NaN</td>\n",
       "      <td>20</td>\n",
       "      <td>NaN</td>\n",
       "      <td>NaN</td>\n",
       "      <td>102000</td>\n",
       "      <td>Math</td>\n",
       "    </tr>\n",
       "    <tr>\n",
       "      <th>2</th>\n",
       "      <td>Prof</td>\n",
       "      <td>NaN</td>\n",
       "      <td>28</td>\n",
       "      <td>NaN</td>\n",
       "      <td>NaN</td>\n",
       "      <td>126933</td>\n",
       "      <td>Math</td>\n",
       "    </tr>\n",
       "    <tr>\n",
       "      <th>3</th>\n",
       "      <td>Prof</td>\n",
       "      <td>B</td>\n",
       "      <td>56</td>\n",
       "      <td>49.0</td>\n",
       "      <td>Male</td>\n",
       "      <td>186960</td>\n",
       "      <td>NaN</td>\n",
       "    </tr>\n",
       "  </tbody>\n",
       "</table>\n",
       "</div>"
      ],
      "text/plain": [
       "   rank discipline  phd  service   sex  salary  Dept\n",
       "0  Prof          A   12      6.0  Male   93000   NaN\n",
       "1  Prof        NaN   20      NaN   NaN  102000  Math\n",
       "2  Prof        NaN   28      NaN   NaN  126933  Math\n",
       "3  Prof          B   56     49.0  Male  186960   NaN"
      ]
     },
     "execution_count": 291,
     "metadata": {},
     "output_type": "execute_result"
    }
   ],
   "source": [
    "print(\"testing in the small\")\n",
    "df1_1 = df.head(2)\n",
    "df_22 = df_2.head(2)\n",
    "print(f'\\nOG:\\n{df1_1.head()}\\n\\n')\n",
    "print(f'Df2:\\n{df_22.head()}\\n')\n",
    "\n",
    "df_merge2 = pd.merge(df1_1,df_22,how='outer')\n",
    "df_merge2"
   ]
  },
  {
   "cell_type": "code",
   "execution_count": 286,
   "metadata": {
    "id": "Hpu5J8RRhRrE"
   },
   "outputs": [
    {
     "name": "stdout",
     "output_type": "stream",
     "text": [
      "merged dataset using outher method\n",
      "   rank discipline  phd  service   sex  salary\n",
      "0  Prof          B   56       49  Male  186960\n",
      "1  Prof          A   12        6  Male   93000\n",
      "2  Prof          A   23       20  Male  110515\n",
      "3  Prof          A   40       31  Male  131205\n",
      "4  Prof          B   20       18  Male  104800\n",
      "\n",
      "\n",
      "\n",
      "\n",
      "\n",
      "\n",
      "         rank  phd  salary  Dept\n",
      "37       Prof   20  102000  Math\n",
      "35       Prof   28  126933  Math\n",
      "26       Prof   38  148750  Phys\n",
      "54  AssocProf   25   62884  Phys\n",
      "41  AssocProf   13   74830  Math\n",
      "\n",
      "\n",
      "\n",
      "\n",
      "\n",
      "\n",
      "        rank discipline  phd  service     sex  salary  Dept\n",
      "0  AssocProf          B    9        7    Male  107008  Math\n",
      "1  AssocProf          A   10        8  Female   77500   NaN\n",
      "2  AssocProf          B   11       11  Female  103613  Phys\n",
      "3  AssocProf          B   12        9  Female   71065   NaN\n",
      "4  AssocProf          B   12       10  Female  103994   NaN\n"
     ]
    }
   ],
   "source": [
    "print('merged dataset using outher method')\n",
    "df_merged=pd.merge(df,df_2,how='outer')\n",
    "\n",
    "print(df.head())\n",
    "print(\"\\n\\n\\n\\n\\n\")\n",
    "print(df_2.head())\n",
    "print(\"\\n\\n\\n\\n\\n\")\n",
    "print(df_merged.head())\n",
    "# print('Count the number of nans per column')\n",
    "# print(merged_df.isna().sum())"
   ]
  },
  {
   "cell_type": "code",
   "execution_count": 294,
   "metadata": {},
   "outputs": [
    {
     "name": "stdout",
     "output_type": "stream",
     "text": [
      "Count the number of nans per column\n"
     ]
    },
    {
     "data": {
      "text/plain": [
       "rank           0\n",
       "discipline     0\n",
       "phd            0\n",
       "service        0\n",
       "sex            0\n",
       "salary         0\n",
       "Dept          35\n",
       "dtype: int64"
      ]
     },
     "execution_count": 294,
     "metadata": {},
     "output_type": "execute_result"
    }
   ],
   "source": [
    "print('Count the number of nans per column')\n",
    "df_merged.isna().sum()"
   ]
  },
  {
   "cell_type": "code",
   "execution_count": 295,
   "metadata": {},
   "outputs": [
    {
     "name": "stdout",
     "output_type": "stream",
     "text": [
      "Drop rows containing nan values\n"
     ]
    }
   ],
   "source": [
    "print('Drop rows containing nan values')\n",
    "df_merged=df_merged.dropna()"
   ]
  },
  {
   "cell_type": "code",
   "execution_count": 314,
   "metadata": {},
   "outputs": [
    {
     "name": "stdout",
     "output_type": "stream",
     "text": [
      "         rank discipline  phd  service     sex  salary Dept\n",
      "12  AssocProf          A   26       24  Female   73300   CS\n",
      "26   AsstProf          A    5        3  Female   73500   CS\n",
      "31   AsstProf          A    8        3  Female   78500   CS\n",
      "34       Prof          A   12        6    Male   93000   CS\n",
      "66       Prof          A   30       23    Male   91100   CS\n",
      "Compute the number of males and females per department\n"
     ]
    },
    {
     "data": {
      "text/plain": [
       "Dept  sex   \n",
       "CS    Male       8\n",
       "      Female     7\n",
       "Math  Male      11\n",
       "      Female     5\n",
       "Phys  Female     8\n",
       "      Male       6\n",
       "Name: count, dtype: int64"
      ]
     },
     "execution_count": 314,
     "metadata": {},
     "output_type": "execute_result"
    }
   ],
   "source": [
    "sorted_df = df_merged.sort_values(by=['discipline','Dept'])\n",
    "print(sorted_df.head(5))\n",
    "print('Compute the number of males and females per department')\n",
    "#df_merged.groupby(['Dept','sex'])['sex'].value_counts()\n",
    "df_merged.groupby(['Dept'])['sex'].value_counts()\n",
    "\n"
   ]
  },
  {
   "cell_type": "markdown",
   "metadata": {
    "id": "066KqLN7P91T"
   },
   "source": [
    "# Other meaningful examples of map method"
   ]
  },
  {
   "cell_type": "markdown",
   "metadata": {},
   "source": [
    "### differenza creazione di Serie a partire da una lista\n",
    "\n",
    "\n",
    "Usando la primitiva e passando una lista manualmente si crea una serie dove ogni elemento della lista è in una riga diversa.  \n",
    "\n",
    "Usando `apply()` invece il risultato che restituisce map_to_string (ossia la Series con elementi verticali) viene trasformata in una riga nella Serie di partenza.  "
   ]
  },
  {
   "cell_type": "code",
   "execution_count": 329,
   "metadata": {},
   "outputs": [
    {
     "name": "stdout",
     "output_type": "stream",
     "text": [
      "0    1\n",
      "1    2\n",
      "2    3\n",
      "dtype: int64\n",
      "   0  1  2\n",
      "0  1  2  3\n",
      "1  4  5  6\n",
      "2  7  8  9\n"
     ]
    }
   ],
   "source": [
    "def map_to_lista(lst):\n",
    "    return pd.Series(lst)\n",
    "\n",
    "lista_prova = [\n",
    "    [1,2,3],\n",
    "    [4,5,6],\n",
    "    [7,8,9]\n",
    "]\n",
    "\n",
    "# creazione di una Series a partire da una lista -> elementi in verticale \n",
    "prova_serie = pd.Series(lista_prova[0])\n",
    "print(prova_serie)\n",
    "\n",
    "\n",
    "# creazione di Serie con apply map a partire da liste -> elementi della lista come righe\n",
    "dataframe_prova = pd.DataFrame({'elementi':lista_prova})\n",
    "nuove_colonne = dataframe_prova['elementi'].apply(map_to_lista)\n",
    "print(nuove_colonne)"
   ]
  },
  {
   "cell_type": "code",
   "execution_count": 333,
   "metadata": {
    "colab": {
     "base_uri": "https://localhost:8080/"
    },
    "executionInfo": {
     "elapsed": 2,
     "status": "ok",
     "timestamp": 1712133312422,
     "user": {
      "displayName": "Veronica Guidetti",
      "userId": "09740737890451426215"
     },
     "user_tz": -120
    },
    "id": "Aff4MD_DQCOD",
    "outputId": "c02f7c07-9d02-4e2b-c8b3-54d76756a6e1"
   },
   "outputs": [
    {
     "name": "stdout",
     "output_type": "stream",
     "text": [
      "How can we map a colum containing lists of fixed lenght into multiple columns?\n",
      "\n",
      "Original Data\n",
      "  Patient          measurements\n",
      "0       A  [10, 20, 30, 40, 50]\n",
      "1       B  [15, 25, 35, 45, 55]\n",
      "2       C  [12, 22, 32, 42, 52]\n",
      "new col\n",
      "    0   1   2   3   4\n",
      "0  10  20  30  40  50\n",
      "1  15  25  35  45  55\n",
      "2  12  22  32  42  52\n",
      "New DF cols.columns: \n",
      "RangeIndex(start=0, stop=5, step=1)\n",
      "Old DF cols.columns: \n",
      "Index(['Patient', 'measurements'], dtype='object')\n",
      "\n",
      "New Columns\n",
      "   measure_1  measure_2  measure_3  measure_4  measure_5\n",
      "0         10         20         30         40         50\n",
      "1         15         25         35         45         55\n",
      "2         12         22         32         42         52\n",
      "\n",
      "New Data\n",
      "  Patient  measure_1  measure_2  measure_3  measure_4  measure_5\n",
      "0       A         10         20         30         40         50\n",
      "1       B         15         25         35         45         55\n",
      "2       C         12         22         32         42         52\n"
     ]
    }
   ],
   "source": [
    "print('How can we map a colum containing lists of fixed lenght into multiple columns?')\n",
    "\n",
    "data = pd.DataFrame({'Patient':['A','B','C'],\n",
    "    'measurements': [ # occhio che è una lista di liste!\n",
    "        [10, 20, 30, 40, 50],\n",
    "        [15, 25, 35, 45, 55],\n",
    "        [12, 22, 32, 42, 52]\n",
    "    ]\n",
    "})\n",
    "print('\\nOriginal Data')\n",
    "print(data)\n",
    "\n",
    "def map_list(lst):\n",
    "    return pd.Series(lst)\n",
    "\n",
    "\n",
    "new_columns=data['measurements'].apply(map_list)\n",
    "print(f'new col\\n{new_columns}')\n",
    "print(f'New DF cols.columns: \\n{new_columns.columns}')\n",
    "print(f'Old DF cols.columns: \\n{data.columns}')\n",
    "new_columns.columns=[f'measure_{i}' for i in range(1,new_columns.shape[1]+1)]\n",
    "print('\\nNew Columns')\n",
    "print(new_columns)\n",
    "\n",
    "\n",
    "data=pd.concat([data[['Patient']],new_columns],axis=1)\n",
    "print('\\nNew Data')\n",
    "print(data)"
   ]
  },
  {
   "cell_type": "code",
   "execution_count": 45,
   "metadata": {
    "colab": {
     "base_uri": "https://localhost:8080/"
    },
    "executionInfo": {
     "elapsed": 3,
     "status": "ok",
     "timestamp": 1712133313722,
     "user": {
      "displayName": "Veronica Guidetti",
      "userId": "09740737890451426215"
     },
     "user_tz": -120
    },
    "id": "3WJ00PffQFHO",
    "outputId": "26b82a6c-f0c3-41e3-cf07-2663397918a9"
   },
   "outputs": [
    {
     "name": "stdout",
     "output_type": "stream",
     "text": [
      "\n",
      "New Columns\n",
      "   measure_1  measure_2  measure_3  measure_4  measure_5\n",
      "0       10.0       20.0       30.0       40.0       50.0\n",
      "1       15.0       25.0        NaN        NaN        NaN\n",
      "2       12.0       22.0       32.0        NaN        NaN\n",
      "3        8.0        NaN        NaN        NaN        NaN\n",
      "4        NaN        NaN        NaN        NaN        NaN\n",
      "\n",
      "New Data\n",
      "  Patient  measure_1  measure_2  measure_3  measure_4  measure_5\n",
      "0       A       10.0       20.0       30.0       40.0       50.0\n",
      "1       B       15.0       25.0        NaN        NaN        NaN\n",
      "2       C       12.0       22.0       32.0        NaN        NaN\n",
      "3       D        8.0        NaN        NaN        NaN        NaN\n",
      "4       E        NaN        NaN        NaN        NaN        NaN\n"
     ]
    }
   ],
   "source": [
    "# Example DataFrame with a column containing lists of various lengths\n",
    "data = pd.DataFrame({'Patient':['A','B','C','D','E'],\n",
    "    'measurements': [\n",
    "        [10, 20, 30, 40, 50],\n",
    "        [15, 25],\n",
    "        [12, 22, 32],\n",
    "        [8],\n",
    "        []\n",
    "    ]\n",
    "})\n",
    "\n",
    "\n",
    "new_columns=data['measurements'].apply(map_list)\n",
    "new_columns.columns=[f'measure_{i}' for i in range(1,new_columns.shape[1]+1)]\n",
    "print('\\nNew Columns')\n",
    "print(new_columns)\n",
    "\n",
    "\n",
    "data=pd.concat([data[['Patient']],new_columns],axis=1)\n",
    "print('\\nNew Data')\n",
    "print(data)"
   ]
  },
  {
   "cell_type": "markdown",
   "metadata": {
    "id": "P35xMkw5Vzwb"
   },
   "source": [
    "# Data from Kaggle"
   ]
  },
  {
   "cell_type": "markdown",
   "metadata": {
    "id": "vzDssvmbnZiO"
   },
   "source": [
    "Use Kaggle username and key"
   ]
  },
  {
   "cell_type": "code",
   "execution_count": 334,
   "metadata": {
    "colab": {
     "base_uri": "https://localhost:8080/"
    },
    "executionInfo": {
     "elapsed": 6988,
     "status": "ok",
     "timestamp": 1709717243724,
     "user": {
      "displayName": "Veronica Guidetti",
      "userId": "09740737890451426215"
     },
     "user_tz": -60
    },
    "id": "aFxOOtU4ewXt",
    "outputId": "19b6d3e6-23d5-4778-fe77-88cf194bd245"
   },
   "outputs": [
    {
     "name": "stdout",
     "output_type": "stream",
     "text": [
      "Requirement already satisfied: kaggle in /Users/chris/.local/share/virtualenvs/Lab-YkoVauK0/lib/python3.13/site-packages (1.7.4)\n",
      "Requirement already satisfied: bleach in /Users/chris/.local/share/virtualenvs/Lab-YkoVauK0/lib/python3.13/site-packages (from kaggle) (6.2.0)\n",
      "Requirement already satisfied: certifi>=14.05.14 in /Users/chris/.local/share/virtualenvs/Lab-YkoVauK0/lib/python3.13/site-packages (from kaggle) (2025.1.31)\n",
      "Requirement already satisfied: charset-normalizer in /Users/chris/.local/share/virtualenvs/Lab-YkoVauK0/lib/python3.13/site-packages (from kaggle) (3.4.1)\n",
      "Requirement already satisfied: idna in /Users/chris/.local/share/virtualenvs/Lab-YkoVauK0/lib/python3.13/site-packages (from kaggle) (3.10)\n",
      "Requirement already satisfied: protobuf in /Users/chris/.local/share/virtualenvs/Lab-YkoVauK0/lib/python3.13/site-packages (from kaggle) (6.30.0)\n",
      "Requirement already satisfied: python-dateutil>=2.5.3 in /Users/chris/.local/share/virtualenvs/Lab-YkoVauK0/lib/python3.13/site-packages (from kaggle) (2.9.0.post0)\n",
      "Requirement already satisfied: python-slugify in /Users/chris/.local/share/virtualenvs/Lab-YkoVauK0/lib/python3.13/site-packages (from kaggle) (8.0.4)\n",
      "Requirement already satisfied: requests in /Users/chris/.local/share/virtualenvs/Lab-YkoVauK0/lib/python3.13/site-packages (from kaggle) (2.32.3)\n",
      "Requirement already satisfied: setuptools>=21.0.0 in /Users/chris/.local/share/virtualenvs/Lab-YkoVauK0/lib/python3.13/site-packages (from kaggle) (76.0.0)\n",
      "Requirement already satisfied: six>=1.10 in /Users/chris/.local/share/virtualenvs/Lab-YkoVauK0/lib/python3.13/site-packages (from kaggle) (1.17.0)\n",
      "Requirement already satisfied: text-unidecode in /Users/chris/.local/share/virtualenvs/Lab-YkoVauK0/lib/python3.13/site-packages (from kaggle) (1.3)\n",
      "Requirement already satisfied: tqdm in /Users/chris/.local/share/virtualenvs/Lab-YkoVauK0/lib/python3.13/site-packages (from kaggle) (4.67.1)\n",
      "Requirement already satisfied: urllib3>=1.15.1 in /Users/chris/.local/share/virtualenvs/Lab-YkoVauK0/lib/python3.13/site-packages (from kaggle) (2.3.0)\n",
      "Requirement already satisfied: webencodings in /Users/chris/.local/share/virtualenvs/Lab-YkoVauK0/lib/python3.13/site-packages (from kaggle) (0.5.1)\n"
     ]
    }
   ],
   "source": [
    "!pip install kaggle"
   ]
  },
  {
   "cell_type": "code",
   "execution_count": 47,
   "metadata": {},
   "outputs": [
    {
     "name": "stdout",
     "output_type": "stream",
     "text": [
      "Protocol message DatasetInfo has no \"info\" field.\n",
      "Archive:  body-fat-prediction-dataset.zip\n",
      "replace bodyfat.csv? [y]es, [n]o, [A]ll, [N]one, [r]ename: ^C\n"
     ]
    }
   ],
   "source": [
    "#!kaggle datasets download -d fedesoriano/body-fat-prediction-dataset\n",
    "##CHANGE PATH ACCORDING THE NOTEBOOK LOCATION\n",
    "#!unzip body-fat-prediction-dataset.zip"
   ]
  },
  {
   "cell_type": "code",
   "execution_count": 2,
   "metadata": {
    "id": "UyHdt3Vxraft"
   },
   "outputs": [],
   "source": [
    "##CHANGE PATH ACCORDING THE NOTEBOOK LOCATION\n",
    "#import os \n",
    "#os.chdir('/Users/chris/Notes/masters/BigDataAnalytics/Lab/')"
   ]
  },
  {
   "cell_type": "code",
   "execution_count": 364,
   "metadata": {
    "colab": {
     "base_uri": "https://localhost:8080/",
     "height": 669
    },
    "executionInfo": {
     "elapsed": 681,
     "status": "ok",
     "timestamp": 1709717287643,
     "user": {
      "displayName": "Veronica Guidetti",
      "userId": "09740737890451426215"
     },
     "user_tz": -60
    },
    "id": "ldRUBoMnfCIt",
    "outputId": "15cc442e-2306-414f-909a-4d007c1b73de"
   },
   "outputs": [
    {
     "data": {
      "text/html": [
       "<div>\n",
       "<style scoped>\n",
       "    .dataframe tbody tr th:only-of-type {\n",
       "        vertical-align: middle;\n",
       "    }\n",
       "\n",
       "    .dataframe tbody tr th {\n",
       "        vertical-align: top;\n",
       "    }\n",
       "\n",
       "    .dataframe thead th {\n",
       "        text-align: right;\n",
       "    }\n",
       "</style>\n",
       "<table border=\"1\" class=\"dataframe\">\n",
       "  <thead>\n",
       "    <tr style=\"text-align: right;\">\n",
       "      <th></th>\n",
       "      <th>Density</th>\n",
       "      <th>BodyFat</th>\n",
       "      <th>Age</th>\n",
       "      <th>Weight</th>\n",
       "      <th>Height</th>\n",
       "      <th>Neck</th>\n",
       "      <th>Chest</th>\n",
       "      <th>Abdomen</th>\n",
       "      <th>Hip</th>\n",
       "      <th>Thigh</th>\n",
       "      <th>Knee</th>\n",
       "      <th>Ankle</th>\n",
       "      <th>Biceps</th>\n",
       "      <th>Forearm</th>\n",
       "      <th>Wrist</th>\n",
       "    </tr>\n",
       "  </thead>\n",
       "  <tbody>\n",
       "    <tr>\n",
       "      <th>0</th>\n",
       "      <td>1.0708</td>\n",
       "      <td>12.3</td>\n",
       "      <td>23</td>\n",
       "      <td>154.25</td>\n",
       "      <td>67.75</td>\n",
       "      <td>36.2</td>\n",
       "      <td>93.1</td>\n",
       "      <td>85.2</td>\n",
       "      <td>94.5</td>\n",
       "      <td>59.0</td>\n",
       "      <td>37.3</td>\n",
       "      <td>21.9</td>\n",
       "      <td>32.0</td>\n",
       "      <td>27.4</td>\n",
       "      <td>17.1</td>\n",
       "    </tr>\n",
       "    <tr>\n",
       "      <th>1</th>\n",
       "      <td>1.0853</td>\n",
       "      <td>6.1</td>\n",
       "      <td>22</td>\n",
       "      <td>173.25</td>\n",
       "      <td>72.25</td>\n",
       "      <td>38.5</td>\n",
       "      <td>93.6</td>\n",
       "      <td>83.0</td>\n",
       "      <td>98.7</td>\n",
       "      <td>58.7</td>\n",
       "      <td>37.3</td>\n",
       "      <td>23.4</td>\n",
       "      <td>30.5</td>\n",
       "      <td>28.9</td>\n",
       "      <td>18.2</td>\n",
       "    </tr>\n",
       "    <tr>\n",
       "      <th>2</th>\n",
       "      <td>1.0414</td>\n",
       "      <td>25.3</td>\n",
       "      <td>22</td>\n",
       "      <td>154.00</td>\n",
       "      <td>66.25</td>\n",
       "      <td>34.0</td>\n",
       "      <td>95.8</td>\n",
       "      <td>87.9</td>\n",
       "      <td>99.2</td>\n",
       "      <td>59.6</td>\n",
       "      <td>38.9</td>\n",
       "      <td>24.0</td>\n",
       "      <td>28.8</td>\n",
       "      <td>25.2</td>\n",
       "      <td>16.6</td>\n",
       "    </tr>\n",
       "    <tr>\n",
       "      <th>3</th>\n",
       "      <td>1.0751</td>\n",
       "      <td>10.4</td>\n",
       "      <td>26</td>\n",
       "      <td>184.75</td>\n",
       "      <td>72.25</td>\n",
       "      <td>37.4</td>\n",
       "      <td>101.8</td>\n",
       "      <td>86.4</td>\n",
       "      <td>101.2</td>\n",
       "      <td>60.1</td>\n",
       "      <td>37.3</td>\n",
       "      <td>22.8</td>\n",
       "      <td>32.4</td>\n",
       "      <td>29.4</td>\n",
       "      <td>18.2</td>\n",
       "    </tr>\n",
       "    <tr>\n",
       "      <th>4</th>\n",
       "      <td>1.0340</td>\n",
       "      <td>28.7</td>\n",
       "      <td>24</td>\n",
       "      <td>184.25</td>\n",
       "      <td>71.25</td>\n",
       "      <td>34.4</td>\n",
       "      <td>97.3</td>\n",
       "      <td>100.0</td>\n",
       "      <td>101.9</td>\n",
       "      <td>63.2</td>\n",
       "      <td>42.2</td>\n",
       "      <td>24.0</td>\n",
       "      <td>32.2</td>\n",
       "      <td>27.7</td>\n",
       "      <td>17.7</td>\n",
       "    </tr>\n",
       "  </tbody>\n",
       "</table>\n",
       "</div>"
      ],
      "text/plain": [
       "   Density  BodyFat  Age  Weight  Height  Neck  Chest  Abdomen    Hip  Thigh  \\\n",
       "0   1.0708     12.3   23  154.25   67.75  36.2   93.1     85.2   94.5   59.0   \n",
       "1   1.0853      6.1   22  173.25   72.25  38.5   93.6     83.0   98.7   58.7   \n",
       "2   1.0414     25.3   22  154.00   66.25  34.0   95.8     87.9   99.2   59.6   \n",
       "3   1.0751     10.4   26  184.75   72.25  37.4  101.8     86.4  101.2   60.1   \n",
       "4   1.0340     28.7   24  184.25   71.25  34.4   97.3    100.0  101.9   63.2   \n",
       "\n",
       "   Knee  Ankle  Biceps  Forearm  Wrist  \n",
       "0  37.3   21.9    32.0     27.4   17.1  \n",
       "1  37.3   23.4    30.5     28.9   18.2  \n",
       "2  38.9   24.0    28.8     25.2   16.6  \n",
       "3  37.3   22.8    32.4     29.4   18.2  \n",
       "4  42.2   24.0    32.2     27.7   17.7  "
      ]
     },
     "execution_count": 364,
     "metadata": {},
     "output_type": "execute_result"
    }
   ],
   "source": [
    "import pandas as pd\n",
    "df=pd.read_csv('/Users/chris/Notes/masters/BigDataAnalytics/Lab/data_analytics/bodyfat.csv') \n",
    "df.head(5)"
   ]
  },
  {
   "cell_type": "markdown",
   "metadata": {
    "id": "CWLnJrm7-Fwh"
   },
   "source": [
    "The variables listed below, from left to right, are:\n",
    "\n",
    "*   Density determined from underwater weighing\n",
    "*   Percent body fat from Siri's (1956) equation\n",
    "*   Age (years)\n",
    "*   Weight (lbs)\n",
    "*   Height (inches)\n",
    "*   Neck circumference (cm)\n",
    "*   Chest circumference (cm)\n",
    "*   Abdomen 2 circumference (cm)\n",
    "*   Hip circumference (cm)\n",
    "*   Thigh circumference (cm)\n",
    "*   Knee circumference (cm)\n",
    "*   Ankle circumference (cm)\n",
    "*   Biceps (extended) circumference (cm)\n",
    "*   Forearm circumference (cm)\n",
    "*   Wrist circumference (cm)"
   ]
  },
  {
   "cell_type": "markdown",
   "metadata": {},
   "source": [
    "## Exercise\n",
    "\n",
    "### 1) Print dataset basic properties\n",
    "- Number of cells, rows, columns\n"
   ]
  },
  {
   "cell_type": "code",
   "execution_count": 365,
   "metadata": {},
   "outputs": [
    {
     "name": "stdout",
     "output_type": "stream",
     "text": [
      "<class 'pandas.core.frame.DataFrame'>\n",
      "RangeIndex: 252 entries, 0 to 251\n",
      "Data columns (total 15 columns):\n",
      " #   Column   Non-Null Count  Dtype  \n",
      "---  ------   --------------  -----  \n",
      " 0   Density  252 non-null    float64\n",
      " 1   BodyFat  252 non-null    float64\n",
      " 2   Age      252 non-null    int64  \n",
      " 3   Weight   252 non-null    float64\n",
      " 4   Height   252 non-null    float64\n",
      " 5   Neck     252 non-null    float64\n",
      " 6   Chest    252 non-null    float64\n",
      " 7   Abdomen  252 non-null    float64\n",
      " 8   Hip      252 non-null    float64\n",
      " 9   Thigh    252 non-null    float64\n",
      " 10  Knee     252 non-null    float64\n",
      " 11  Ankle    252 non-null    float64\n",
      " 12  Biceps   252 non-null    float64\n",
      " 13  Forearm  252 non-null    float64\n",
      " 14  Wrist    252 non-null    float64\n",
      "dtypes: float64(14), int64(1)\n",
      "memory usage: 29.7 KB\n"
     ]
    }
   ],
   "source": [
    "df.info()"
   ]
  },
  {
   "cell_type": "markdown",
   "metadata": {},
   "source": [
    "\n",
    "### 2) Check data types\n"
   ]
  },
  {
   "cell_type": "code",
   "execution_count": 366,
   "metadata": {},
   "outputs": [
    {
     "data": {
      "text/plain": [
       "Density    float64\n",
       "BodyFat    float64\n",
       "Age          int64\n",
       "Weight     float64\n",
       "Height     float64\n",
       "Neck       float64\n",
       "Chest      float64\n",
       "Abdomen    float64\n",
       "Hip        float64\n",
       "Thigh      float64\n",
       "Knee       float64\n",
       "Ankle      float64\n",
       "Biceps     float64\n",
       "Forearm    float64\n",
       "Wrist      float64\n",
       "dtype: object"
      ]
     },
     "execution_count": 366,
     "metadata": {},
     "output_type": "execute_result"
    }
   ],
   "source": [
    "df.dtypes"
   ]
  },
  {
   "cell_type": "markdown",
   "metadata": {},
   "source": [
    "\n",
    "### 3) Compute summary statistics\n",
    "- Is there something unusual? (Check, e.g., the Height column)\n",
    "- Is that a real value or an error? (Filter patients to check)\n"
   ]
  },
  {
   "cell_type": "code",
   "execution_count": 367,
   "metadata": {},
   "outputs": [
    {
     "name": "stdout",
     "output_type": "stream",
     "text": [
      "min     29.50000\n",
      "max     77.75000\n",
      "mean    70.14881\n",
      "Name: Height, dtype: float64\n",
      "    Density  BodyFat  Age  Weight  Height  Neck  Chest  Abdomen    Hip  Thigh  \\\n",
      "41    1.025     32.9   44   205.0    29.5  36.6  106.0    104.3  115.5   70.6   \n",
      "\n",
      "    Knee  Ankle  Biceps  Forearm  Wrist  \n",
      "41  42.5   23.7    33.6     28.7   17.4  \n"
     ]
    }
   ],
   "source": [
    "print(df['Height'].agg(['min','max','mean']))\n",
    "\n",
    "mask = df['Height'] == 29.5\n",
    "\n",
    "print(df[mask])"
   ]
  },
  {
   "cell_type": "markdown",
   "metadata": {},
   "source": [
    "\n",
    "### 4) Compute the average Density\n",
    "- For patients with BodyFat > 0.25\n",
    "- For patients with BodyFat < 0.2\n",
    "- Is this an intuitive result?\n"
   ]
  },
  {
   "cell_type": "code",
   "execution_count": 368,
   "metadata": {},
   "outputs": [
    {
     "name": "stdout",
     "output_type": "stream",
     "text": [
      "Avg density for bodyfat > 0.25: 1.0553613545816733\n",
      "Avg density for bodyfat < 0.20: 1.1089\n"
     ]
    }
   ],
   "source": [
    "bf_mask1 = df['BodyFat'] > 0.25 \n",
    "bf_mask2 = df['BodyFat'] < 0.2\n",
    "\n",
    "avg_density_o_025 = df[bf_mask1]['Density'].mean()\n",
    "avg_density_u_02 = df[bf_mask2]['Density'].mean()\n",
    "\n",
    "print(f'Avg density for bodyfat > 0.25: {avg_density_o_025}')\n",
    "print(f'Avg density for bodyfat < 0.20: {avg_density_u_02}')\n"
   ]
  },
  {
   "cell_type": "markdown",
   "metadata": {},
   "source": [
    "\n",
    "### 5) Add a BMI column\n",
    "BMI formula: $BMI = \\frac{\\text{Weight (kg)}}{\\text{Height (m)}^2}$\n",
    "\n",
    "- Add a column containing Weight in kg:  $ 1 \\text{ lb} = 0.453 \\text{ kg}$\n",
    "- Add a column containing Height in meters: $ 1 \\text{ inch} = 0.0254 \\text{ m} $\n",
    "- Add the BMI column to the df\n"
   ]
  },
  {
   "cell_type": "code",
   "execution_count": 371,
   "metadata": {},
   "outputs": [
    {
     "data": {
      "text/html": [
       "<div>\n",
       "<style scoped>\n",
       "    .dataframe tbody tr th:only-of-type {\n",
       "        vertical-align: middle;\n",
       "    }\n",
       "\n",
       "    .dataframe tbody tr th {\n",
       "        vertical-align: top;\n",
       "    }\n",
       "\n",
       "    .dataframe thead th {\n",
       "        text-align: right;\n",
       "    }\n",
       "</style>\n",
       "<table border=\"1\" class=\"dataframe\">\n",
       "  <thead>\n",
       "    <tr style=\"text-align: right;\">\n",
       "      <th></th>\n",
       "      <th>Kg_Weight</th>\n",
       "      <th>Kg_Weight</th>\n",
       "      <th>Kg_Weight</th>\n",
       "      <th>Kg_Weight</th>\n",
       "      <th>Kg_Weight</th>\n",
       "      <th>M_Height</th>\n",
       "      <th>M_Height</th>\n",
       "      <th>M_Height</th>\n",
       "      <th>M_Height</th>\n",
       "      <th>M_Height</th>\n",
       "    </tr>\n",
       "  </thead>\n",
       "  <tbody>\n",
       "    <tr>\n",
       "      <th>0</th>\n",
       "      <td>NaN</td>\n",
       "      <td>NaN</td>\n",
       "      <td>NaN</td>\n",
       "      <td>NaN</td>\n",
       "      <td>NaN</td>\n",
       "      <td>NaN</td>\n",
       "      <td>NaN</td>\n",
       "      <td>NaN</td>\n",
       "      <td>NaN</td>\n",
       "      <td>NaN</td>\n",
       "    </tr>\n",
       "    <tr>\n",
       "      <th>1</th>\n",
       "      <td>NaN</td>\n",
       "      <td>NaN</td>\n",
       "      <td>NaN</td>\n",
       "      <td>NaN</td>\n",
       "      <td>NaN</td>\n",
       "      <td>NaN</td>\n",
       "      <td>NaN</td>\n",
       "      <td>NaN</td>\n",
       "      <td>NaN</td>\n",
       "      <td>NaN</td>\n",
       "    </tr>\n",
       "    <tr>\n",
       "      <th>2</th>\n",
       "      <td>NaN</td>\n",
       "      <td>NaN</td>\n",
       "      <td>NaN</td>\n",
       "      <td>NaN</td>\n",
       "      <td>NaN</td>\n",
       "      <td>NaN</td>\n",
       "      <td>NaN</td>\n",
       "      <td>NaN</td>\n",
       "      <td>NaN</td>\n",
       "      <td>NaN</td>\n",
       "    </tr>\n",
       "    <tr>\n",
       "      <th>3</th>\n",
       "      <td>NaN</td>\n",
       "      <td>NaN</td>\n",
       "      <td>NaN</td>\n",
       "      <td>NaN</td>\n",
       "      <td>NaN</td>\n",
       "      <td>NaN</td>\n",
       "      <td>NaN</td>\n",
       "      <td>NaN</td>\n",
       "      <td>NaN</td>\n",
       "      <td>NaN</td>\n",
       "    </tr>\n",
       "    <tr>\n",
       "      <th>4</th>\n",
       "      <td>NaN</td>\n",
       "      <td>NaN</td>\n",
       "      <td>NaN</td>\n",
       "      <td>NaN</td>\n",
       "      <td>NaN</td>\n",
       "      <td>NaN</td>\n",
       "      <td>NaN</td>\n",
       "      <td>NaN</td>\n",
       "      <td>NaN</td>\n",
       "      <td>NaN</td>\n",
       "    </tr>\n",
       "    <tr>\n",
       "      <th>...</th>\n",
       "      <td>...</td>\n",
       "      <td>...</td>\n",
       "      <td>...</td>\n",
       "      <td>...</td>\n",
       "      <td>...</td>\n",
       "      <td>...</td>\n",
       "      <td>...</td>\n",
       "      <td>...</td>\n",
       "      <td>...</td>\n",
       "      <td>...</td>\n",
       "    </tr>\n",
       "    <tr>\n",
       "      <th>247</th>\n",
       "      <td>NaN</td>\n",
       "      <td>NaN</td>\n",
       "      <td>NaN</td>\n",
       "      <td>NaN</td>\n",
       "      <td>NaN</td>\n",
       "      <td>NaN</td>\n",
       "      <td>NaN</td>\n",
       "      <td>NaN</td>\n",
       "      <td>NaN</td>\n",
       "      <td>NaN</td>\n",
       "    </tr>\n",
       "    <tr>\n",
       "      <th>248</th>\n",
       "      <td>NaN</td>\n",
       "      <td>NaN</td>\n",
       "      <td>NaN</td>\n",
       "      <td>NaN</td>\n",
       "      <td>NaN</td>\n",
       "      <td>NaN</td>\n",
       "      <td>NaN</td>\n",
       "      <td>NaN</td>\n",
       "      <td>NaN</td>\n",
       "      <td>NaN</td>\n",
       "    </tr>\n",
       "    <tr>\n",
       "      <th>249</th>\n",
       "      <td>NaN</td>\n",
       "      <td>NaN</td>\n",
       "      <td>NaN</td>\n",
       "      <td>NaN</td>\n",
       "      <td>NaN</td>\n",
       "      <td>NaN</td>\n",
       "      <td>NaN</td>\n",
       "      <td>NaN</td>\n",
       "      <td>NaN</td>\n",
       "      <td>NaN</td>\n",
       "    </tr>\n",
       "    <tr>\n",
       "      <th>250</th>\n",
       "      <td>NaN</td>\n",
       "      <td>NaN</td>\n",
       "      <td>NaN</td>\n",
       "      <td>NaN</td>\n",
       "      <td>NaN</td>\n",
       "      <td>NaN</td>\n",
       "      <td>NaN</td>\n",
       "      <td>NaN</td>\n",
       "      <td>NaN</td>\n",
       "      <td>NaN</td>\n",
       "    </tr>\n",
       "    <tr>\n",
       "      <th>251</th>\n",
       "      <td>NaN</td>\n",
       "      <td>NaN</td>\n",
       "      <td>NaN</td>\n",
       "      <td>NaN</td>\n",
       "      <td>NaN</td>\n",
       "      <td>NaN</td>\n",
       "      <td>NaN</td>\n",
       "      <td>NaN</td>\n",
       "      <td>NaN</td>\n",
       "      <td>NaN</td>\n",
       "    </tr>\n",
       "  </tbody>\n",
       "</table>\n",
       "<p>252 rows × 10 columns</p>\n",
       "</div>"
      ],
      "text/plain": [
       "     Kg_Weight  Kg_Weight  Kg_Weight  Kg_Weight  Kg_Weight  M_Height  \\\n",
       "0          NaN        NaN        NaN        NaN        NaN       NaN   \n",
       "1          NaN        NaN        NaN        NaN        NaN       NaN   \n",
       "2          NaN        NaN        NaN        NaN        NaN       NaN   \n",
       "3          NaN        NaN        NaN        NaN        NaN       NaN   \n",
       "4          NaN        NaN        NaN        NaN        NaN       NaN   \n",
       "..         ...        ...        ...        ...        ...       ...   \n",
       "247        NaN        NaN        NaN        NaN        NaN       NaN   \n",
       "248        NaN        NaN        NaN        NaN        NaN       NaN   \n",
       "249        NaN        NaN        NaN        NaN        NaN       NaN   \n",
       "250        NaN        NaN        NaN        NaN        NaN       NaN   \n",
       "251        NaN        NaN        NaN        NaN        NaN       NaN   \n",
       "\n",
       "     M_Height  M_Height  M_Height  M_Height  \n",
       "0         NaN       NaN       NaN       NaN  \n",
       "1         NaN       NaN       NaN       NaN  \n",
       "2         NaN       NaN       NaN       NaN  \n",
       "3         NaN       NaN       NaN       NaN  \n",
       "4         NaN       NaN       NaN       NaN  \n",
       "..        ...       ...       ...       ...  \n",
       "247       NaN       NaN       NaN       NaN  \n",
       "248       NaN       NaN       NaN       NaN  \n",
       "249       NaN       NaN       NaN       NaN  \n",
       "250       NaN       NaN       NaN       NaN  \n",
       "251       NaN       NaN       NaN       NaN  \n",
       "\n",
       "[252 rows x 10 columns]"
      ]
     },
     "execution_count": 371,
     "metadata": {},
     "output_type": "execute_result"
    }
   ],
   "source": [
    "weight = df['Weight']\n",
    "weight = weight.map(lambda x:x*0.453)\n",
    "kg_weight = pd.DataFrame({'Kg_Weight':weight})\n",
    "df = pd.concat([df,kg_weight],axis=1)\n",
    "\n",
    "height = df['Height']\n",
    "height = height.map(lambda x:x*0.0254)\n",
    "m_height = pd.DataFrame({'M_Height':height})\n",
    "\n",
    "df = pd.concat([df,m_height],axis=1)\n",
    "\n",
    "bmi = df['Kg_Weight'] / np.sqrt(df['M_Height'])\n",
    "df = pd.concat([df,bmi],axis=1)\n"
   ]
  },
  {
   "cell_type": "code",
   "execution_count": 373,
   "metadata": {},
   "outputs": [
    {
     "name": "stdout",
     "output_type": "stream",
     "text": [
      "   colonna1  colonna2  colonna3\n",
      "0         1         5         9\n",
      "1         2         6        10\n",
      "2         3         7        11\n",
      "3         4         8        12\n",
      "0    0.333333\n",
      "1    0.632456\n",
      "2    0.904534\n",
      "3    1.154701\n",
      "dtype: float64\n"
     ]
    }
   ],
   "source": [
    "# DataFrame di esempio\n",
    "df2 = pd.DataFrame({\n",
    "    'colonna1': [1, 2, 3, 4],\n",
    "    'colonna2': [5, 6, 7, 8],\n",
    "    'colonna3': [9, 10, 11, 12]\n",
    "})\n",
    "\n",
    "print(df2)\n",
    "\n",
    "# Calcola nuovo valore\n",
    "nuovo_valore = df2['colonna1'] / np.sqrt(df2['colonna3'])  # esempio di moltiplicazione\n",
    "\n",
    "print(nuovo_valore)\n",
    "# Crea nuovo DataFrame\n",
    "risultato = pd.DataFrame({'risultato': nuovo_valore})\n",
    "\n",
    "# Concatena con il DataFrame originale\n",
    "df_finale = pd.concat([df2, risultato], axis=1)"
   ]
  },
  {
   "cell_type": "markdown",
   "metadata": {},
   "source": [
    "\n",
    "### 6) Define categorical BMI classes\n",
    "```python\n",
    " df['cBMI'] = pd.cut(df['BMI'], bins=[0,20,27,100], labels=['underweight','normal','overweight'])\n",
    "```\n",
    "- Group by `cBMI` and compute average statistics"
   ]
  },
  {
   "cell_type": "markdown",
   "metadata": {},
   "source": [
    "#### COMPLETE THE EXERCISE"
   ]
  },
  {
   "cell_type": "code",
   "execution_count": null,
   "metadata": {},
   "outputs": [],
   "source": []
  },
  {
   "cell_type": "markdown",
   "metadata": {
    "id": "IbX_lIpxsI-c"
   },
   "source": [
    "## PART 2 - Tidy Data dataset"
   ]
  },
  {
   "cell_type": "markdown",
   "metadata": {},
   "source": [
    "#### HANDS-ON: "
   ]
  },
  {
   "cell_type": "code",
   "execution_count": null,
   "metadata": {
    "colab": {
     "base_uri": "https://localhost:8080/",
     "height": 204
    },
    "executionInfo": {
     "elapsed": 670,
     "status": "ok",
     "timestamp": 1712133801355,
     "user": {
      "displayName": "Veronica Guidetti",
      "userId": "09740737890451426215"
     },
     "user_tz": -120
    },
    "id": "BGIkKQuc6LPe",
    "outputId": "66f1f9ac-fc82-4d1c-a8fd-11fd113d6ef0"
   },
   "outputs": [
    {
     "name": "stdout",
     "output_type": "stream",
     "text": [
      "import data from \"https://raw.githubusercontent.com/nickhould/tidy-data-python/master/data/pew-raw.csv\"\n",
      "\n",
      "check the content of the file\n",
      "\n",
      "Melt the data to get a tidy df\n",
      "\n"
     ]
    }
   ],
   "source": [
    "import pandas as pd\n",
    "\n",
    "print('import data from \"https://raw.githubusercontent.com/nickhould/tidy-data-python/master/data/pew-raw.csv\"\\n')\n",
    "print('check the content of the file\\n')\n",
    "print(\"Melt the data to get a tidy df\\n\")\n",
    "\n"
   ]
  },
  {
   "cell_type": "markdown",
   "metadata": {
    "id": "Lyc63v5dOx4C"
   },
   "source": [
    "### Tidy Data 2: product sales data"
   ]
  },
  {
   "cell_type": "markdown",
   "metadata": {},
   "source": [
    "Download the dataset and import it in your drive folder https://www.kaggle.com/datasets/ksabishek/product-sales-data\n",
    "\n",
    "Inspect dataframe content and validate data types. Are they consistent? (spoiler alert, they are not). Use pd.to_datetime(df['Date'],dayfirst=True)to validate datetime data.\n",
    "\n",
    "Melt the data so to reach a tidy dataset\n"
   ]
  },
  {
   "cell_type": "code",
   "execution_count": null,
   "metadata": {
    "id": "FH2NV7QBOAPM"
   },
   "outputs": [],
   "source": [
    "# download sales data\n",
    "!kaggle datasets download -d ksabishek/product-sales-data\n",
    "\n",
    "!unzip /content/drive/MyDrive/path/product-sales-data.zip ## change path"
   ]
  },
  {
   "cell_type": "code",
   "execution_count": null,
   "metadata": {
    "id": "gJWeKPTqISRN"
   },
   "outputs": [],
   "source": [
    "# import and inspect content\n",
    "# validate data types. Hint: pd.to_datetime(df['Date'],dayfirst=True)\n",
    "\n"
   ]
  },
  {
   "cell_type": "code",
   "execution_count": null,
   "metadata": {},
   "outputs": [],
   "source": [
    "#melt the data to get a tidy dataset"
   ]
  },
  {
   "cell_type": "code",
   "execution_count": null,
   "metadata": {
    "id": "wspeDyO_IXpR"
   },
   "outputs": [],
   "source": [
    "pd.options.mode.copy_on_write = True\n",
    "df_sales=pd.read_csv('/content/drive/MyDrive/path/statsfinal.csv',index_col=0) ##change path\n",
    "df_sales.head()"
   ]
  },
  {
   "cell_type": "markdown",
   "metadata": {
    "id": "z55rNzEAO7as"
   },
   "source": [
    "#### Using pd.wide_to_long"
   ]
  },
  {
   "cell_type": "code",
   "execution_count": null,
   "metadata": {
    "colab": {
     "base_uri": "https://localhost:8080/"
    },
    "executionInfo": {
     "elapsed": 10,
     "status": "ok",
     "timestamp": 1710340529620,
     "user": {
      "displayName": "Veronica Guidetti",
      "userId": "09740737890451426215"
     },
     "user_tz": -60
    },
    "id": "IO49M8X2PIwd",
    "outputId": "a356645b-c40a-49a3-d5f6-263603fd79b0"
   },
   "outputs": [
    {
     "name": "stdout",
     "output_type": "stream",
     "text": [
      "Original dataset\n",
      "  A1970 A1980  B1970  B1980         X  id\n",
      "0     a     d    2.5    3.2 -0.816032   0\n",
      "1     b     e    1.2    1.3  0.043604   1\n",
      "2     c     f    0.7    0.1 -1.522316   2\n",
      "wide-to-long transformation\n",
      "                X  A    B\n",
      "id year                  \n",
      "0  1970 -0.816032  a  2.5\n",
      "1  1970  0.043604  b  1.2\n",
      "2  1970 -1.522316  c  0.7\n",
      "0  1980 -0.816032  d  3.2\n",
      "1  1980  0.043604  e  1.3\n",
      "2  1980 -1.522316  f  0.1\n"
     ]
    }
   ],
   "source": [
    "import numpy as np\n",
    "\n",
    "df = pd.DataFrame(\n",
    "    {\n",
    "        \"A1970\": {0: \"a\", 1: \"b\", 2: \"c\"},\n",
    "        \"A1980\": {0: \"d\", 1: \"e\", 2: \"f\"},\n",
    "        \"B1970\": {0: 2.5, 1: 1.2, 2: 0.7},\n",
    "        \"B1980\": {0: 3.2, 1: 1.3, 2: 0.1},\n",
    "        \"X\": dict(zip(range(3), np.random.randn(3))),\n",
    "        \"id\": dict(zip(range(3), range(3))),\n",
    "    }\n",
    ")\n",
    "\n",
    "print('Original dataset')\n",
    "print(df)\n",
    "\n",
    "wtl=pd.wide_to_long(df, stubnames=[\"A\", \"B\"], i=\"id\", j=\"year\")\n",
    "print('wide-to-long transformation')\n",
    "print(wtl)"
   ]
  },
  {
   "cell_type": "markdown",
   "metadata": {},
   "source": [
    "### Exercise:\n",
    "Use the dataset from the previous exercise and make it tidy using the wide-to-long method"
   ]
  },
  {
   "cell_type": "code",
   "execution_count": null,
   "metadata": {},
   "outputs": [],
   "source": [
    "## complete"
   ]
  },
  {
   "cell_type": "markdown",
   "metadata": {
    "id": "GBhTa0YcPZpq"
   },
   "source": [
    "### Stack and Unstack"
   ]
  },
  {
   "cell_type": "code",
   "execution_count": null,
   "metadata": {
    "colab": {
     "base_uri": "https://localhost:8080/"
    },
    "executionInfo": {
     "elapsed": 10,
     "status": "ok",
     "timestamp": 1710340562340,
     "user": {
      "displayName": "Veronica Guidetti",
      "userId": "09740737890451426215"
     },
     "user_tz": -60
    },
    "id": "AdfHyrCbPbSd",
    "outputId": "3ae6f6a3-c1c3-47d5-f4a3-ad015d96db54"
   },
   "outputs": [
    {
     "name": "stdout",
     "output_type": "stream",
     "text": [
      "Original Data:\n",
      "     weight  height\n",
      "cat       0       1\n",
      "dog       2       3\n",
      "\n",
      "Stacked Data:\n",
      "cat  weight    0\n",
      "     height    1\n",
      "dog  weight    2\n",
      "     height    3\n",
      "dtype: int64\n",
      "\n",
      "Unstacked Back:\n",
      "     weight  height\n",
      "cat       0       1\n",
      "dog       2       3\n",
      "\n",
      "if unstacking with wrong level:\n",
      "        cat  dog\n",
      "weight    0    2\n",
      "height    1    3\n"
     ]
    }
   ],
   "source": [
    "df_single_level_cols = pd.DataFrame([[0, 1], [2, 3]],\n",
    "                                     index=['cat', 'dog'],\n",
    "                                     columns=['weight', 'height'])\n",
    "\n",
    "# Displaying original data\n",
    "print(\"Original Data:\")\n",
    "print(df_single_level_cols)\n",
    "\n",
    "print(\"\\nStacked Data:\")\n",
    "stacked_data=df_single_level_cols.stack()\n",
    "print(stacked_data)\n",
    "\n",
    "print(\"\\nUnstacked Back:\")\n",
    "unstacked_data=stacked_data.unstack(level=1)\n",
    "print(unstacked_data)\n",
    "\n",
    "\n",
    "print(\"\\nif unstacking with wrong level:\")\n",
    "w_unstacked_data=stacked_data.unstack(level=0)\n",
    "print(w_unstacked_data)"
   ]
  },
  {
   "cell_type": "code",
   "execution_count": null,
   "metadata": {
    "id": "HOcXkkLZPdnM"
   },
   "outputs": [],
   "source": [
    "##### HANDS-ON\n",
    "\n",
    "import pandas as pd\n",
    "\n",
    "##to set a column as the index use df.set_index('columns_to_become_index', inplace=True)\n",
    "\n",
    "# Creating a DataFrame with sales data\n",
    "data = pd.DataFrame({\n",
    "    'Region': ['North', 'South', 'East', 'West'],\n",
    "    'Product_A': [100, 150, 200, 250],\n",
    "    'Product_B': [120, 160, 220, 280],\n",
    "    'Product_C': [130, 170, 240, 300]\n",
    "})\n",
    "\n",
    "#Use stack and unstack it to get the results in slide 23\n"
   ]
  },
  {
   "cell_type": "markdown",
   "metadata": {
    "id": "mXWVsEl5QVQR"
   },
   "source": [
    "#### Further examples using map, stack and explode"
   ]
  },
  {
   "cell_type": "code",
   "execution_count": null,
   "metadata": {
    "id": "ibaO8XbfQSAN"
   },
   "outputs": [
    {
     "name": "stdout",
     "output_type": "stream",
     "text": [
      "Original data\n",
      "  Patient          measurements\n",
      "0       A  [10, 20, 30, 40, 50]\n",
      "1       B              [15, 25]\n",
      "2       C          [12, 22, 32]\n",
      "3       D                   [8]\n",
      "4       E                    []\n",
      "\n",
      "New Columns\n",
      "      0     1     2     3     4\n",
      "0  10.0  20.0  30.0  40.0  50.0\n",
      "1  15.0  25.0   NaN   NaN   NaN\n",
      "2  12.0  22.0  32.0   NaN   NaN\n",
      "3   8.0   NaN   NaN   NaN   NaN\n",
      "4   NaN   NaN   NaN   NaN   NaN\n",
      "\n",
      "New Data\n",
      "  Patient     0     1     2     3     4\n",
      "0       A  10.0  20.0  30.0  40.0  50.0\n",
      "1       B  15.0  25.0   NaN   NaN   NaN\n",
      "2       C  12.0  22.0  32.0   NaN   NaN\n",
      "3       D   8.0   NaN   NaN   NaN   NaN\n",
      "4       E   NaN   NaN   NaN   NaN   NaN\n",
      "\n",
      "New stacked Data\n",
      "   Patient  level_1     0\n",
      "0        A        0  10.0\n",
      "1        A        1  20.0\n",
      "2        A        2  30.0\n",
      "3        A        3  40.0\n",
      "4        A        4  50.0\n",
      "5        B        0  15.0\n",
      "6        B        1  25.0\n",
      "7        C        0  12.0\n",
      "8        C        1  22.0\n",
      "9        C        2  32.0\n",
      "10       D        0   8.0\n",
      "\n",
      "Exploded Data\n",
      "  Patient measurements\n",
      "0       A           10\n",
      "0       A           20\n",
      "0       A           30\n",
      "0       A           40\n",
      "0       A           50\n",
      "1       B           15\n",
      "1       B           25\n",
      "2       C           12\n",
      "2       C           22\n",
      "2       C           32\n",
      "3       D            8\n",
      "4       E          NaN\n"
     ]
    }
   ],
   "source": [
    "### Take the example from the map method cells\n",
    "### maybe multiple rows would be better than multiple columns in this case\n",
    "def map_list(lst):\n",
    "    return pd.Series(lst)\n",
    "\n",
    "# Example DataFrame with a column containing lists of various lengths\n",
    "data = pd.DataFrame({'Patient':['A','B','C','D','E'],\n",
    "    'measurements': [\n",
    "        [10, 20, 30, 40, 50],\n",
    "        [15, 25],\n",
    "        [12, 22, 32],\n",
    "        [8],\n",
    "        []\n",
    "    ]\n",
    "})\n",
    "print('Original data')\n",
    "print(data)\n",
    "\n",
    "new_columns=data['measurements'].apply(map_list)\n",
    "print('\\nNew Columns')\n",
    "print(new_columns)\n",
    "\n",
    "\n",
    "new_data=pd.concat([data[['Patient']],new_columns],axis=1)\n",
    "print('\\nNew Data')\n",
    "print(new_data)\n",
    "\n",
    "##make this dataset long using stack\n",
    "new_data.set_index('Patient',inplace=True)\n",
    "stacked_data=new_data.stack().reset_index()\n",
    "print('\\nNew stacked Data')\n",
    "print(stacked_data)\n",
    "\n",
    "# Much easier with df.explode that explodes the 'measurements' column into multiple rows\n",
    "exploded_data = data.explode('measurements')\n",
    "\n",
    "print('\\nExploded Data')\n",
    "print(exploded_data)"
   ]
  },
  {
   "cell_type": "markdown",
   "metadata": {
    "id": "T8MobA_wQbxf"
   },
   "source": [
    "## Pivoting"
   ]
  },
  {
   "cell_type": "code",
   "execution_count": null,
   "metadata": {
    "id": "TPP8ed0LQcnT"
   },
   "outputs": [
    {
     "name": "stdout",
     "output_type": "stream",
     "text": [
      "\n",
      "Original data\n",
      "         date variable category     value\n",
      "0  2000-01-31        A    type4 -0.587419\n",
      "10 2000-01-31        B    type3  2.430159\n",
      "1  2000-02-29        A    type1  0.467901\n",
      "11 2000-02-29        B    type2 -2.470781\n",
      "2  2000-03-31        A    type3  0.298999\n",
      "12 2000-03-31        B    type3 -0.255454\n",
      "3  2000-04-30        A    type2 -0.145388\n",
      "13 2000-04-30        B    type1 -1.113720\n",
      "4  2000-05-31        A    type3  1.333355\n",
      "14 2000-05-31        B    type3 -1.226735\n",
      "5  2000-06-30        A    type3  0.070296\n",
      "15 2000-06-30        B    type3 -2.022547\n",
      "6  2000-07-31        A    type4  1.801242\n",
      "16 2000-07-31        B    type2  1.774179\n",
      "17 2000-08-31        B    type3  0.725221\n",
      "7  2000-08-31        A    type2 -0.510035\n",
      "18 2000-09-30        B    type1 -0.187762\n",
      "8  2000-09-30        A    type4 -2.707613\n",
      "9  2000-10-31        A    type1 -0.869790\n",
      "19 2000-10-31        B    type1 -0.474619\n",
      "\n",
      "Pivoted on single column\n",
      "variable           A         B\n",
      "date                          \n",
      "2000-01-31 -0.587419  2.430159\n",
      "2000-02-29  0.467901 -2.470781\n",
      "2000-03-31  0.298999 -0.255454\n",
      "2000-04-30 -0.145388 -1.113720\n",
      "2000-05-31  1.333355 -1.226735\n",
      "2000-06-30  0.070296 -2.022547\n",
      "2000-07-31  1.801242  1.774179\n",
      "2000-08-31 -0.510035  0.725221\n",
      "2000-09-30 -2.707613 -0.187762\n",
      "2000-10-31 -0.869790 -0.474619\n",
      "\n",
      "Pivoted on two colums\n",
      "category       type4     type3     type1     type2     type3     type2  \\\n",
      "variable           A         B         A         B         A         A   \n",
      "date                                                                     \n",
      "2000-01-31 -0.587419  2.430159       NaN       NaN       NaN       NaN   \n",
      "2000-02-29       NaN       NaN  0.467901 -2.470781       NaN       NaN   \n",
      "2000-03-31       NaN -0.255454       NaN       NaN  0.298999       NaN   \n",
      "2000-04-30       NaN       NaN       NaN       NaN       NaN -0.145388   \n",
      "2000-05-31       NaN -1.226735       NaN       NaN  1.333355       NaN   \n",
      "2000-06-30       NaN -2.022547       NaN       NaN  0.070296       NaN   \n",
      "2000-07-31  1.801242       NaN       NaN  1.774179       NaN       NaN   \n",
      "2000-08-31       NaN  0.725221       NaN       NaN       NaN -0.510035   \n",
      "2000-09-30 -2.707613       NaN       NaN       NaN       NaN       NaN   \n",
      "2000-10-31       NaN       NaN -0.869790       NaN       NaN       NaN   \n",
      "\n",
      "category       type1  \n",
      "variable           B  \n",
      "date                  \n",
      "2000-01-31       NaN  \n",
      "2000-02-29       NaN  \n",
      "2000-03-31       NaN  \n",
      "2000-04-30 -1.113720  \n",
      "2000-05-31       NaN  \n",
      "2000-06-30       NaN  \n",
      "2000-07-31       NaN  \n",
      "2000-08-31       NaN  \n",
      "2000-09-30 -0.187762  \n",
      "2000-10-31 -0.474619  \n"
     ]
    }
   ],
   "source": [
    "import numpy as np\n",
    "data = {\n",
    "    \"value\": np.random.randn(20),\n",
    "    \"variable\": [\"A\"] * 10 + [\"B\"] * 10,\n",
    "    \"category\": np.random.choice([\"type1\", \"type2\", \"type3\", \"type4\"], 20),\n",
    "    \"date\": (\n",
    "        list(pd.date_range(\"1/1/2000\", periods=10, freq=\"M\"))\n",
    "        + list(pd.date_range(\"1/1/2000\", periods=10, freq=\"M\"))\n",
    "    ),\n",
    "}\n",
    "df = pd.DataFrame(data, columns=[\"date\", \"variable\", \"category\", \"value\"])\n",
    "df.sort_values(by=['date'],inplace=True)\n",
    "\n",
    "\n",
    "print('\\nOriginal data')\n",
    "print(df)\n",
    "\n",
    "pivoted_df=df.pivot(index=\"date\", columns=\"variable\", values=\"value\")\n",
    "print('\\nPivoted on single column')\n",
    "print(pivoted_df)\n",
    "\n",
    "\n",
    "pivoted2_df=df.pivot(index=\"date\", columns=[\"category\",\"variable\"], values=\"value\")\n",
    "print('\\nPivoted on two colums')\n",
    "print(pivoted2_df)"
   ]
  },
  {
   "cell_type": "markdown",
   "metadata": {},
   "source": [
    "### Exercise: "
   ]
  },
  {
   "cell_type": "code",
   "execution_count": null,
   "metadata": {
    "id": "pFmCSKrvQv8L"
   },
   "outputs": [
    {
     "name": "stdout",
     "output_type": "stream",
     "text": [
      "Original Data:\n",
      "        Product_A  Product_B  Product_C\n",
      "Region                                 \n",
      "North         100        120        130\n",
      "South         150        160        170\n",
      "East          200        220        240\n",
      "West          250        280        300\n",
      "\n",
      "Stacked Data:\n",
      "   Region    Product    0\n",
      "0   North  Product_A  100\n",
      "1   North  Product_B  120\n",
      "2   North  Product_C  130\n",
      "3   South  Product_A  150\n",
      "4   South  Product_B  160\n",
      "5   South  Product_C  170\n",
      "6    East  Product_A  200\n",
      "7    East  Product_B  220\n",
      "8    East  Product_C  240\n",
      "9    West  Product_A  250\n",
      "10   West  Product_B  280\n",
      "11   West  Product_C  300\n",
      "\n",
      "Wide Format Data:\n",
      "Product  Product_A  Product_B  Product_C\n",
      "Region                                  \n",
      "East           200        220        240\n",
      "North          100        120        130\n",
      "South          150        160        170\n",
      "West           250        280        300\n"
     ]
    }
   ],
   "source": [
    "# HANDS ON:\n",
    "# Consider a previous excercise few cells above:\n",
    "# Creating a DataFrame with sales data\n",
    "data = pd.DataFrame({\n",
    "    'Region': ['North', 'South', 'East', 'West'],\n",
    "    'Product_A': [100, 150, 200, 250],\n",
    "    'Product_B': [120, 160, 220, 280],\n",
    "    'Product_C': [130, 170, 240, 300]\n",
    "})\n",
    "\n",
    "# Set 'Region' column as index\n",
    "data.set_index('Region', inplace=True)\n",
    "\n",
    "# Displaying original data\n",
    "print(\"Original Data:\")\n",
    "print(data)\n",
    "\n",
    "#Use pivoting to get the the results shown in slide 27"
   ]
  },
  {
   "cell_type": "code",
   "execution_count": null,
   "metadata": {},
   "outputs": [],
   "source": []
  }
 ],
 "metadata": {
  "colab": {
   "provenance": [
    {
     "file_id": "106u9dTRJgJqyi5e_1bIg4tskX2Q6Xfrw",
     "timestamp": 1664917309594
    }
   ]
  },
  "kernelspec": {
   "display_name": "Lab-YkoVauK0",
   "language": "python",
   "name": "python3"
  },
  "language_info": {
   "codemirror_mode": {
    "name": "ipython",
    "version": 3
   },
   "file_extension": ".py",
   "mimetype": "text/x-python",
   "name": "python",
   "nbconvert_exporter": "python",
   "pygments_lexer": "ipython3",
   "version": "3.13.2"
  }
 },
 "nbformat": 4,
 "nbformat_minor": 0
}
